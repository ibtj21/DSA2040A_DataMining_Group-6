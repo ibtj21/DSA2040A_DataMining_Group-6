{
 "cells": [
  {
   "cell_type": "markdown",
   "id": "d680a90d",
   "metadata": {},
   "source": [
    "## **Section by Hana – ETL Process: Olist Brazilian E-commerce Dataset**"
   ]
  },
  {
   "cell_type": "markdown",
   "id": "46fa18aa",
   "metadata": {},
   "source": [
    "___\n",
    "Olist is one of Brazil’s largest online marketplaces, allowing small and medium-sized businesses to sell products through a central platform. The Olist dataset contains multiple **relational CSV files** .Each file captures a different aspect of the order lifecycle—customers, sellers, products, payments, and reviews.\n",
    "\n",
    "### Main Files:\n",
    "- `orders`: Order-level data with status and timestamps  \n",
    "- `order_items`: Product-level info per order  \n",
    "- `products`: Product metadata  \n",
    "- `payments`: Payment methods and values  \n",
    "- `reviews`: Customer feedback  \n",
    "- `customers`: Info about customers — unique customer IDs, ZIP codes, city, and state.  \n",
    "- `sellers`: Seller details  \n",
    "- `geo`: ZIP code prefixes( the first 4 digits) to geographic coordinates. It includes latitude, longitude, city, and state for each ZIP code prefix.   \n",
    "- `category translation`: Product categories in English\n",
    "\n",
    "### Data Timeframe Selection\n",
    "- The original dataset spans from 2016-09-04 21:15:19 to 2018-10-17 17:30:18. However, for the purpose of this project, only a slice covering the most recent three months — from 2018-07-17 to 2018-10-17 — has been used for analysis\n",
    "\n",
    "### Why Relational?\n",
    "Tables are linked via keys like `order_id`, `product_id`, and `customer_id`, making it ideal for multi-table analysis.\n",
    "\n",
    "This structure supports a clean **ETL process**:  \n",
    "→ **Extract** raw files  \n",
    "→ **Transform** and join data  \n",
    "→ **Load** for analysis or modeling\n",
    "___"
   ]
  },
  {
   "cell_type": "markdown",
   "id": "ab829466",
   "metadata": {},
   "source": [
    "## 1. **Extraction**"
   ]
  },
  {
   "cell_type": "code",
   "execution_count": 1,
   "id": "f3edf48b",
   "metadata": {},
   "outputs": [],
   "source": [
    "import pandas as pd\n",
    "\n",
    "# Correct relative paths from notebooks/ to data/raw/\n",
    "orders = pd.read_csv(\"../data/raw/olist_orders_dataset.csv\")\n",
    "order_items = pd.read_csv(\"../data/raw/olist_order_items_dataset.csv\")\n",
    "products = pd.read_csv(\"../data/raw/olist_products_dataset.csv\")\n",
    "payments = pd.read_csv(\"../data/raw/olist_order_payments_dataset.csv\")\n",
    "reviews = pd.read_csv(\"../data/raw/olist_order_reviews_dataset.csv\")\n",
    "customers = pd.read_csv(\"../data/raw/olist_customers_dataset.csv\")\n",
    "sellers = pd.read_csv(\"../data/raw/olist_sellers_dataset.csv\")\n",
    "geo = pd.read_csv(\"../data/raw/olist_geolocation_dataset.csv\")\n",
    "categories = pd.read_csv(\"../data/raw/product_category_name_translation.csv\")\n"
   ]
  },
  {
   "cell_type": "markdown",
   "id": "10367cd3",
   "metadata": {},
   "source": [
    "#### *A. Initial Data Inspection*"
   ]
  },
  {
   "cell_type": "markdown",
   "id": "40e36813",
   "metadata": {},
   "source": [
    "#### orders"
   ]
  },
  {
   "cell_type": "code",
   "execution_count": 2,
   "id": "1251455c",
   "metadata": {},
   "outputs": [
    {
     "data": {
      "text/html": [
       "<div>\n",
       "<style scoped>\n",
       "    .dataframe tbody tr th:only-of-type {\n",
       "        vertical-align: middle;\n",
       "    }\n",
       "\n",
       "    .dataframe tbody tr th {\n",
       "        vertical-align: top;\n",
       "    }\n",
       "\n",
       "    .dataframe thead th {\n",
       "        text-align: right;\n",
       "    }\n",
       "</style>\n",
       "<table border=\"1\" class=\"dataframe\">\n",
       "  <thead>\n",
       "    <tr style=\"text-align: right;\">\n",
       "      <th></th>\n",
       "      <th>order_id</th>\n",
       "      <th>customer_id</th>\n",
       "      <th>order_status</th>\n",
       "      <th>order_purchase_timestamp</th>\n",
       "      <th>order_approved_at</th>\n",
       "      <th>order_delivered_carrier_date</th>\n",
       "      <th>order_delivered_customer_date</th>\n",
       "      <th>order_estimated_delivery_date</th>\n",
       "    </tr>\n",
       "  </thead>\n",
       "  <tbody>\n",
       "    <tr>\n",
       "      <th>0</th>\n",
       "      <td>e481f51cbdc54678b7cc49136f2d6af7</td>\n",
       "      <td>9ef432eb6251297304e76186b10a928d</td>\n",
       "      <td>delivered</td>\n",
       "      <td>2017-10-02 10:56:33</td>\n",
       "      <td>2017-10-02 11:07:15</td>\n",
       "      <td>2017-10-04 19:55:00</td>\n",
       "      <td>2017-10-10 21:25:13</td>\n",
       "      <td>2017-10-18 00:00:00</td>\n",
       "    </tr>\n",
       "    <tr>\n",
       "      <th>1</th>\n",
       "      <td>53cdb2fc8bc7dce0b6741e2150273451</td>\n",
       "      <td>b0830fb4747a6c6d20dea0b8c802d7ef</td>\n",
       "      <td>delivered</td>\n",
       "      <td>2018-07-24 20:41:37</td>\n",
       "      <td>2018-07-26 03:24:27</td>\n",
       "      <td>2018-07-26 14:31:00</td>\n",
       "      <td>2018-08-07 15:27:45</td>\n",
       "      <td>2018-08-13 00:00:00</td>\n",
       "    </tr>\n",
       "    <tr>\n",
       "      <th>2</th>\n",
       "      <td>47770eb9100c2d0c44946d9cf07ec65d</td>\n",
       "      <td>41ce2a54c0b03bf3443c3d931a367089</td>\n",
       "      <td>delivered</td>\n",
       "      <td>2018-08-08 08:38:49</td>\n",
       "      <td>2018-08-08 08:55:23</td>\n",
       "      <td>2018-08-08 13:50:00</td>\n",
       "      <td>2018-08-17 18:06:29</td>\n",
       "      <td>2018-09-04 00:00:00</td>\n",
       "    </tr>\n",
       "    <tr>\n",
       "      <th>3</th>\n",
       "      <td>949d5b44dbf5de918fe9c16f97b45f8a</td>\n",
       "      <td>f88197465ea7920adcdbec7375364d82</td>\n",
       "      <td>delivered</td>\n",
       "      <td>2017-11-18 19:28:06</td>\n",
       "      <td>2017-11-18 19:45:59</td>\n",
       "      <td>2017-11-22 13:39:59</td>\n",
       "      <td>2017-12-02 00:28:42</td>\n",
       "      <td>2017-12-15 00:00:00</td>\n",
       "    </tr>\n",
       "    <tr>\n",
       "      <th>4</th>\n",
       "      <td>ad21c59c0840e6cb83a9ceb5573f8159</td>\n",
       "      <td>8ab97904e6daea8866dbdbc4fb7aad2c</td>\n",
       "      <td>delivered</td>\n",
       "      <td>2018-02-13 21:18:39</td>\n",
       "      <td>2018-02-13 22:20:29</td>\n",
       "      <td>2018-02-14 19:46:34</td>\n",
       "      <td>2018-02-16 18:17:02</td>\n",
       "      <td>2018-02-26 00:00:00</td>\n",
       "    </tr>\n",
       "  </tbody>\n",
       "</table>\n",
       "</div>"
      ],
      "text/plain": [
       "                           order_id                       customer_id  \\\n",
       "0  e481f51cbdc54678b7cc49136f2d6af7  9ef432eb6251297304e76186b10a928d   \n",
       "1  53cdb2fc8bc7dce0b6741e2150273451  b0830fb4747a6c6d20dea0b8c802d7ef   \n",
       "2  47770eb9100c2d0c44946d9cf07ec65d  41ce2a54c0b03bf3443c3d931a367089   \n",
       "3  949d5b44dbf5de918fe9c16f97b45f8a  f88197465ea7920adcdbec7375364d82   \n",
       "4  ad21c59c0840e6cb83a9ceb5573f8159  8ab97904e6daea8866dbdbc4fb7aad2c   \n",
       "\n",
       "  order_status order_purchase_timestamp    order_approved_at  \\\n",
       "0    delivered      2017-10-02 10:56:33  2017-10-02 11:07:15   \n",
       "1    delivered      2018-07-24 20:41:37  2018-07-26 03:24:27   \n",
       "2    delivered      2018-08-08 08:38:49  2018-08-08 08:55:23   \n",
       "3    delivered      2017-11-18 19:28:06  2017-11-18 19:45:59   \n",
       "4    delivered      2018-02-13 21:18:39  2018-02-13 22:20:29   \n",
       "\n",
       "  order_delivered_carrier_date order_delivered_customer_date  \\\n",
       "0          2017-10-04 19:55:00           2017-10-10 21:25:13   \n",
       "1          2018-07-26 14:31:00           2018-08-07 15:27:45   \n",
       "2          2018-08-08 13:50:00           2018-08-17 18:06:29   \n",
       "3          2017-11-22 13:39:59           2017-12-02 00:28:42   \n",
       "4          2018-02-14 19:46:34           2018-02-16 18:17:02   \n",
       "\n",
       "  order_estimated_delivery_date  \n",
       "0           2017-10-18 00:00:00  \n",
       "1           2018-08-13 00:00:00  \n",
       "2           2018-09-04 00:00:00  \n",
       "3           2017-12-15 00:00:00  \n",
       "4           2018-02-26 00:00:00  "
      ]
     },
     "execution_count": 2,
     "metadata": {},
     "output_type": "execute_result"
    }
   ],
   "source": [
    "orders.head()"
   ]
  },
  {
   "cell_type": "markdown",
   "id": "d9b8b5e7",
   "metadata": {},
   "source": [
    "| Column Name                   | Description                                                                 |\n",
    "|-------------------------------|-----------------------------------------------------------------------------|\n",
    "| order_id                      | Unique identifier for each order.                                           |\n",
    "| customer_id                   | Links each order to a customer from the customers table.                   |\n",
    "| order_status                  | Current status of the order (e.g., delivered, shipped, canceled).          |\n",
    "| order_purchase_timestamp      | When the order was placed by the customer.                                 |\n",
    "| order_approved_at             | When the payment was approved.                                             |\n",
    "| order_delivered_carrier_date  | When the seller handed the package to the carrier.                         |\n",
    "| order_delivered_customer_date | When the customer received the order.                                      |\n",
    "| order_estimated_delivery_date | Estimated delivery date given at the time of purchase.                     |\n"
   ]
  },
  {
   "cell_type": "markdown",
   "id": "aa2e26c6",
   "metadata": {},
   "source": [
    "##### order_items"
   ]
  },
  {
   "cell_type": "code",
   "execution_count": 42,
   "id": "0952957e",
   "metadata": {},
   "outputs": [
    {
     "data": {
      "application/vnd.microsoft.datawrangler.viewer.v0+json": {
       "columns": [
        {
         "name": "index",
         "rawType": "int64",
         "type": "integer"
        },
        {
         "name": "order_id",
         "rawType": "object",
         "type": "string"
        },
        {
         "name": "order_item_id",
         "rawType": "int64",
         "type": "integer"
        },
        {
         "name": "product_id",
         "rawType": "object",
         "type": "string"
        },
        {
         "name": "seller_id",
         "rawType": "object",
         "type": "string"
        },
        {
         "name": "shipping_limit_date",
         "rawType": "object",
         "type": "string"
        },
        {
         "name": "price",
         "rawType": "float64",
         "type": "float"
        },
        {
         "name": "freight_value",
         "rawType": "float64",
         "type": "float"
        }
       ],
       "ref": "bb3609d9-5fdf-45be-969c-4a3b2250cccf",
       "rows": [
        [
         "0",
         "00010242fe8c5a6d1ba2dd792cb16214",
         "1",
         "4244733e06e7ecb4970a6e2683c13e61",
         "48436dade18ac8b2bce089ec2a041202",
         "2017-09-19 09:45:35",
         "58.9",
         "13.29"
        ],
        [
         "1",
         "00018f77f2f0320c557190d7a144bdd3",
         "1",
         "e5f2d52b802189ee658865ca93d83a8f",
         "dd7ddc04e1b6c2c614352b383efe2d36",
         "2017-05-03 11:05:13",
         "239.9",
         "19.93"
        ],
        [
         "2",
         "000229ec398224ef6ca0657da4fc703e",
         "1",
         "c777355d18b72b67abbeef9df44fd0fd",
         "5b51032eddd242adc84c38acab88f23d",
         "2018-01-18 14:48:30",
         "199.0",
         "17.87"
        ],
        [
         "3",
         "00024acbcdf0a6daa1e931b038114c75",
         "1",
         "7634da152a4610f1595efa32f14722fc",
         "9d7a1d34a5052409006425275ba1c2b4",
         "2018-08-15 10:10:18",
         "12.99",
         "12.79"
        ],
        [
         "4",
         "00042b26cf59d7ce69dfabb4e55b4fd9",
         "1",
         "ac6c3623068f30de03045865e4e10089",
         "df560393f3a51e74553ab94004ba5c87",
         "2017-02-13 13:57:51",
         "199.9",
         "18.14"
        ]
       ],
       "shape": {
        "columns": 7,
        "rows": 5
       }
      },
      "text/html": [
       "<div>\n",
       "<style scoped>\n",
       "    .dataframe tbody tr th:only-of-type {\n",
       "        vertical-align: middle;\n",
       "    }\n",
       "\n",
       "    .dataframe tbody tr th {\n",
       "        vertical-align: top;\n",
       "    }\n",
       "\n",
       "    .dataframe thead th {\n",
       "        text-align: right;\n",
       "    }\n",
       "</style>\n",
       "<table border=\"1\" class=\"dataframe\">\n",
       "  <thead>\n",
       "    <tr style=\"text-align: right;\">\n",
       "      <th></th>\n",
       "      <th>order_id</th>\n",
       "      <th>order_item_id</th>\n",
       "      <th>product_id</th>\n",
       "      <th>seller_id</th>\n",
       "      <th>shipping_limit_date</th>\n",
       "      <th>price</th>\n",
       "      <th>freight_value</th>\n",
       "    </tr>\n",
       "  </thead>\n",
       "  <tbody>\n",
       "    <tr>\n",
       "      <th>0</th>\n",
       "      <td>00010242fe8c5a6d1ba2dd792cb16214</td>\n",
       "      <td>1</td>\n",
       "      <td>4244733e06e7ecb4970a6e2683c13e61</td>\n",
       "      <td>48436dade18ac8b2bce089ec2a041202</td>\n",
       "      <td>2017-09-19 09:45:35</td>\n",
       "      <td>58.90</td>\n",
       "      <td>13.29</td>\n",
       "    </tr>\n",
       "    <tr>\n",
       "      <th>1</th>\n",
       "      <td>00018f77f2f0320c557190d7a144bdd3</td>\n",
       "      <td>1</td>\n",
       "      <td>e5f2d52b802189ee658865ca93d83a8f</td>\n",
       "      <td>dd7ddc04e1b6c2c614352b383efe2d36</td>\n",
       "      <td>2017-05-03 11:05:13</td>\n",
       "      <td>239.90</td>\n",
       "      <td>19.93</td>\n",
       "    </tr>\n",
       "    <tr>\n",
       "      <th>2</th>\n",
       "      <td>000229ec398224ef6ca0657da4fc703e</td>\n",
       "      <td>1</td>\n",
       "      <td>c777355d18b72b67abbeef9df44fd0fd</td>\n",
       "      <td>5b51032eddd242adc84c38acab88f23d</td>\n",
       "      <td>2018-01-18 14:48:30</td>\n",
       "      <td>199.00</td>\n",
       "      <td>17.87</td>\n",
       "    </tr>\n",
       "    <tr>\n",
       "      <th>3</th>\n",
       "      <td>00024acbcdf0a6daa1e931b038114c75</td>\n",
       "      <td>1</td>\n",
       "      <td>7634da152a4610f1595efa32f14722fc</td>\n",
       "      <td>9d7a1d34a5052409006425275ba1c2b4</td>\n",
       "      <td>2018-08-15 10:10:18</td>\n",
       "      <td>12.99</td>\n",
       "      <td>12.79</td>\n",
       "    </tr>\n",
       "    <tr>\n",
       "      <th>4</th>\n",
       "      <td>00042b26cf59d7ce69dfabb4e55b4fd9</td>\n",
       "      <td>1</td>\n",
       "      <td>ac6c3623068f30de03045865e4e10089</td>\n",
       "      <td>df560393f3a51e74553ab94004ba5c87</td>\n",
       "      <td>2017-02-13 13:57:51</td>\n",
       "      <td>199.90</td>\n",
       "      <td>18.14</td>\n",
       "    </tr>\n",
       "  </tbody>\n",
       "</table>\n",
       "</div>"
      ],
      "text/plain": [
       "                           order_id  order_item_id  \\\n",
       "0  00010242fe8c5a6d1ba2dd792cb16214              1   \n",
       "1  00018f77f2f0320c557190d7a144bdd3              1   \n",
       "2  000229ec398224ef6ca0657da4fc703e              1   \n",
       "3  00024acbcdf0a6daa1e931b038114c75              1   \n",
       "4  00042b26cf59d7ce69dfabb4e55b4fd9              1   \n",
       "\n",
       "                         product_id                         seller_id  \\\n",
       "0  4244733e06e7ecb4970a6e2683c13e61  48436dade18ac8b2bce089ec2a041202   \n",
       "1  e5f2d52b802189ee658865ca93d83a8f  dd7ddc04e1b6c2c614352b383efe2d36   \n",
       "2  c777355d18b72b67abbeef9df44fd0fd  5b51032eddd242adc84c38acab88f23d   \n",
       "3  7634da152a4610f1595efa32f14722fc  9d7a1d34a5052409006425275ba1c2b4   \n",
       "4  ac6c3623068f30de03045865e4e10089  df560393f3a51e74553ab94004ba5c87   \n",
       "\n",
       "   shipping_limit_date   price  freight_value  \n",
       "0  2017-09-19 09:45:35   58.90          13.29  \n",
       "1  2017-05-03 11:05:13  239.90          19.93  \n",
       "2  2018-01-18 14:48:30  199.00          17.87  \n",
       "3  2018-08-15 10:10:18   12.99          12.79  \n",
       "4  2017-02-13 13:57:51  199.90          18.14  "
      ]
     },
     "execution_count": 42,
     "metadata": {},
     "output_type": "execute_result"
    }
   ],
   "source": [
    "order_items.head()"
   ]
  },
  {
   "cell_type": "markdown",
   "id": "2150f7de",
   "metadata": {},
   "source": [
    "| Column Name         | Description                                                                 |\n",
    "|---------------------|-----------------------------------------------------------------------------|\n",
    "| order_id            | Unique identifier for each order (links to orders table).                   |\n",
    "| order_item_id       | The item number within the order (1 for the first item, 2 for the second…). |\n",
    "| product_id          | Unique ID for the purchased product (links to products table).              |\n",
    "| seller_id           | Unique ID of the seller responsible for this item (links to sellers table). |\n",
    "| shipping_limit_date | Deadline for the seller to ship the item.                                   |\n",
    "| price               | Price paid for the item (excluding shipping).                               |\n",
    "| freight_value       | Shipping fee charged for the item.                                          |\n"
   ]
  },
  {
   "cell_type": "markdown",
   "id": "fce4296d",
   "metadata": {},
   "source": [
    "#### products"
   ]
  },
  {
   "cell_type": "code",
   "execution_count": 43,
   "id": "3247d4dd",
   "metadata": {},
   "outputs": [
    {
     "data": {
      "application/vnd.microsoft.datawrangler.viewer.v0+json": {
       "columns": [
        {
         "name": "index",
         "rawType": "int64",
         "type": "integer"
        },
        {
         "name": "product_id",
         "rawType": "object",
         "type": "string"
        },
        {
         "name": "product_category_name",
         "rawType": "object",
         "type": "string"
        },
        {
         "name": "product_name_lenght",
         "rawType": "float64",
         "type": "float"
        },
        {
         "name": "product_description_lenght",
         "rawType": "float64",
         "type": "float"
        },
        {
         "name": "product_photos_qty",
         "rawType": "float64",
         "type": "float"
        },
        {
         "name": "product_weight_g",
         "rawType": "float64",
         "type": "float"
        },
        {
         "name": "product_length_cm",
         "rawType": "float64",
         "type": "float"
        },
        {
         "name": "product_height_cm",
         "rawType": "float64",
         "type": "float"
        },
        {
         "name": "product_width_cm",
         "rawType": "float64",
         "type": "float"
        }
       ],
       "ref": "32982221-0c39-4c72-9c59-b65ed315bb62",
       "rows": [
        [
         "0",
         "1e9e8ef04dbcff4541ed26657ea517e5",
         "perfumaria",
         "40.0",
         "287.0",
         "1.0",
         "225.0",
         "16.0",
         "10.0",
         "14.0"
        ],
        [
         "1",
         "3aa071139cb16b67ca9e5dea641aaa2f",
         "artes",
         "44.0",
         "276.0",
         "1.0",
         "1000.0",
         "30.0",
         "18.0",
         "20.0"
        ],
        [
         "2",
         "96bd76ec8810374ed1b65e291975717f",
         "esporte_lazer",
         "46.0",
         "250.0",
         "1.0",
         "154.0",
         "18.0",
         "9.0",
         "15.0"
        ],
        [
         "3",
         "cef67bcfe19066a932b7673e239eb23d",
         "bebes",
         "27.0",
         "261.0",
         "1.0",
         "371.0",
         "26.0",
         "4.0",
         "26.0"
        ],
        [
         "4",
         "9dc1a7de274444849c219cff195d0b71",
         "utilidades_domesticas",
         "37.0",
         "402.0",
         "4.0",
         "625.0",
         "20.0",
         "17.0",
         "13.0"
        ]
       ],
       "shape": {
        "columns": 9,
        "rows": 5
       }
      },
      "text/html": [
       "<div>\n",
       "<style scoped>\n",
       "    .dataframe tbody tr th:only-of-type {\n",
       "        vertical-align: middle;\n",
       "    }\n",
       "\n",
       "    .dataframe tbody tr th {\n",
       "        vertical-align: top;\n",
       "    }\n",
       "\n",
       "    .dataframe thead th {\n",
       "        text-align: right;\n",
       "    }\n",
       "</style>\n",
       "<table border=\"1\" class=\"dataframe\">\n",
       "  <thead>\n",
       "    <tr style=\"text-align: right;\">\n",
       "      <th></th>\n",
       "      <th>product_id</th>\n",
       "      <th>product_category_name</th>\n",
       "      <th>product_name_lenght</th>\n",
       "      <th>product_description_lenght</th>\n",
       "      <th>product_photos_qty</th>\n",
       "      <th>product_weight_g</th>\n",
       "      <th>product_length_cm</th>\n",
       "      <th>product_height_cm</th>\n",
       "      <th>product_width_cm</th>\n",
       "    </tr>\n",
       "  </thead>\n",
       "  <tbody>\n",
       "    <tr>\n",
       "      <th>0</th>\n",
       "      <td>1e9e8ef04dbcff4541ed26657ea517e5</td>\n",
       "      <td>perfumaria</td>\n",
       "      <td>40.0</td>\n",
       "      <td>287.0</td>\n",
       "      <td>1.0</td>\n",
       "      <td>225.0</td>\n",
       "      <td>16.0</td>\n",
       "      <td>10.0</td>\n",
       "      <td>14.0</td>\n",
       "    </tr>\n",
       "    <tr>\n",
       "      <th>1</th>\n",
       "      <td>3aa071139cb16b67ca9e5dea641aaa2f</td>\n",
       "      <td>artes</td>\n",
       "      <td>44.0</td>\n",
       "      <td>276.0</td>\n",
       "      <td>1.0</td>\n",
       "      <td>1000.0</td>\n",
       "      <td>30.0</td>\n",
       "      <td>18.0</td>\n",
       "      <td>20.0</td>\n",
       "    </tr>\n",
       "    <tr>\n",
       "      <th>2</th>\n",
       "      <td>96bd76ec8810374ed1b65e291975717f</td>\n",
       "      <td>esporte_lazer</td>\n",
       "      <td>46.0</td>\n",
       "      <td>250.0</td>\n",
       "      <td>1.0</td>\n",
       "      <td>154.0</td>\n",
       "      <td>18.0</td>\n",
       "      <td>9.0</td>\n",
       "      <td>15.0</td>\n",
       "    </tr>\n",
       "    <tr>\n",
       "      <th>3</th>\n",
       "      <td>cef67bcfe19066a932b7673e239eb23d</td>\n",
       "      <td>bebes</td>\n",
       "      <td>27.0</td>\n",
       "      <td>261.0</td>\n",
       "      <td>1.0</td>\n",
       "      <td>371.0</td>\n",
       "      <td>26.0</td>\n",
       "      <td>4.0</td>\n",
       "      <td>26.0</td>\n",
       "    </tr>\n",
       "    <tr>\n",
       "      <th>4</th>\n",
       "      <td>9dc1a7de274444849c219cff195d0b71</td>\n",
       "      <td>utilidades_domesticas</td>\n",
       "      <td>37.0</td>\n",
       "      <td>402.0</td>\n",
       "      <td>4.0</td>\n",
       "      <td>625.0</td>\n",
       "      <td>20.0</td>\n",
       "      <td>17.0</td>\n",
       "      <td>13.0</td>\n",
       "    </tr>\n",
       "  </tbody>\n",
       "</table>\n",
       "</div>"
      ],
      "text/plain": [
       "                         product_id  product_category_name  \\\n",
       "0  1e9e8ef04dbcff4541ed26657ea517e5             perfumaria   \n",
       "1  3aa071139cb16b67ca9e5dea641aaa2f                  artes   \n",
       "2  96bd76ec8810374ed1b65e291975717f          esporte_lazer   \n",
       "3  cef67bcfe19066a932b7673e239eb23d                  bebes   \n",
       "4  9dc1a7de274444849c219cff195d0b71  utilidades_domesticas   \n",
       "\n",
       "   product_name_lenght  product_description_lenght  product_photos_qty  \\\n",
       "0                 40.0                       287.0                 1.0   \n",
       "1                 44.0                       276.0                 1.0   \n",
       "2                 46.0                       250.0                 1.0   \n",
       "3                 27.0                       261.0                 1.0   \n",
       "4                 37.0                       402.0                 4.0   \n",
       "\n",
       "   product_weight_g  product_length_cm  product_height_cm  product_width_cm  \n",
       "0             225.0               16.0               10.0              14.0  \n",
       "1            1000.0               30.0               18.0              20.0  \n",
       "2             154.0               18.0                9.0              15.0  \n",
       "3             371.0               26.0                4.0              26.0  \n",
       "4             625.0               20.0               17.0              13.0  "
      ]
     },
     "execution_count": 43,
     "metadata": {},
     "output_type": "execute_result"
    }
   ],
   "source": [
    "products.head()"
   ]
  },
  {
   "cell_type": "markdown",
   "id": "2b21908f",
   "metadata": {},
   "source": [
    "| Column Name                    | Description                                                                 |\n",
    "|-------------------------------|-----------------------------------------------------------------------------|\n",
    "| `product_id`                  | Unique identifier for each product.                                        |\n",
    "| `product_category_name`       | Category name of the product (e.g., `perfumaria`, `moveis_decoracao`).    |\n",
    "| `product_name_lenght`         | Number of characters in the product's name.                                |\n",
    "| `product_description_lenght`  | Number of characters in the product's description.                         |\n",
    "| `product_photos_qty`          | Number of photos provided for the product.                                 |\n",
    "| `product_weight_g`            | Weight of the product in grams.                                            |\n",
    "| `product_length_cm`           | Length of the product in centimeters.                                      |\n",
    "| `product_height_cm`           | Height of the product in centimeters.                                      |\n",
    "| `product_width_cm`            | Width of the product in centimeters.                                       |\n"
   ]
  },
  {
   "cell_type": "markdown",
   "id": "86434da6",
   "metadata": {},
   "source": [
    "#### Payments"
   ]
  },
  {
   "cell_type": "code",
   "execution_count": 44,
   "id": "48a646c6",
   "metadata": {},
   "outputs": [
    {
     "data": {
      "application/vnd.microsoft.datawrangler.viewer.v0+json": {
       "columns": [
        {
         "name": "index",
         "rawType": "int64",
         "type": "integer"
        },
        {
         "name": "order_id",
         "rawType": "object",
         "type": "string"
        },
        {
         "name": "payment_sequential",
         "rawType": "int64",
         "type": "integer"
        },
        {
         "name": "payment_type",
         "rawType": "object",
         "type": "string"
        },
        {
         "name": "payment_installments",
         "rawType": "int64",
         "type": "integer"
        },
        {
         "name": "payment_value",
         "rawType": "float64",
         "type": "float"
        }
       ],
       "ref": "4acf83cd-aef0-4f56-aeef-bebe311f2c6a",
       "rows": [
        [
         "0",
         "b81ef226f3fe1789b1e8b2acac839d17",
         "1",
         "credit_card",
         "8",
         "99.33"
        ],
        [
         "1",
         "a9810da82917af2d9aefd1278f1dcfa0",
         "1",
         "credit_card",
         "1",
         "24.39"
        ],
        [
         "2",
         "25e8ea4e93396b6fa0d3dd708e76c1bd",
         "1",
         "credit_card",
         "1",
         "65.71"
        ],
        [
         "3",
         "ba78997921bbcdc1373bb41e913ab953",
         "1",
         "credit_card",
         "8",
         "107.78"
        ],
        [
         "4",
         "42fdf880ba16b47b59251dd489d4441a",
         "1",
         "credit_card",
         "2",
         "128.45"
        ]
       ],
       "shape": {
        "columns": 5,
        "rows": 5
       }
      },
      "text/html": [
       "<div>\n",
       "<style scoped>\n",
       "    .dataframe tbody tr th:only-of-type {\n",
       "        vertical-align: middle;\n",
       "    }\n",
       "\n",
       "    .dataframe tbody tr th {\n",
       "        vertical-align: top;\n",
       "    }\n",
       "\n",
       "    .dataframe thead th {\n",
       "        text-align: right;\n",
       "    }\n",
       "</style>\n",
       "<table border=\"1\" class=\"dataframe\">\n",
       "  <thead>\n",
       "    <tr style=\"text-align: right;\">\n",
       "      <th></th>\n",
       "      <th>order_id</th>\n",
       "      <th>payment_sequential</th>\n",
       "      <th>payment_type</th>\n",
       "      <th>payment_installments</th>\n",
       "      <th>payment_value</th>\n",
       "    </tr>\n",
       "  </thead>\n",
       "  <tbody>\n",
       "    <tr>\n",
       "      <th>0</th>\n",
       "      <td>b81ef226f3fe1789b1e8b2acac839d17</td>\n",
       "      <td>1</td>\n",
       "      <td>credit_card</td>\n",
       "      <td>8</td>\n",
       "      <td>99.33</td>\n",
       "    </tr>\n",
       "    <tr>\n",
       "      <th>1</th>\n",
       "      <td>a9810da82917af2d9aefd1278f1dcfa0</td>\n",
       "      <td>1</td>\n",
       "      <td>credit_card</td>\n",
       "      <td>1</td>\n",
       "      <td>24.39</td>\n",
       "    </tr>\n",
       "    <tr>\n",
       "      <th>2</th>\n",
       "      <td>25e8ea4e93396b6fa0d3dd708e76c1bd</td>\n",
       "      <td>1</td>\n",
       "      <td>credit_card</td>\n",
       "      <td>1</td>\n",
       "      <td>65.71</td>\n",
       "    </tr>\n",
       "    <tr>\n",
       "      <th>3</th>\n",
       "      <td>ba78997921bbcdc1373bb41e913ab953</td>\n",
       "      <td>1</td>\n",
       "      <td>credit_card</td>\n",
       "      <td>8</td>\n",
       "      <td>107.78</td>\n",
       "    </tr>\n",
       "    <tr>\n",
       "      <th>4</th>\n",
       "      <td>42fdf880ba16b47b59251dd489d4441a</td>\n",
       "      <td>1</td>\n",
       "      <td>credit_card</td>\n",
       "      <td>2</td>\n",
       "      <td>128.45</td>\n",
       "    </tr>\n",
       "  </tbody>\n",
       "</table>\n",
       "</div>"
      ],
      "text/plain": [
       "                           order_id  payment_sequential payment_type  \\\n",
       "0  b81ef226f3fe1789b1e8b2acac839d17                   1  credit_card   \n",
       "1  a9810da82917af2d9aefd1278f1dcfa0                   1  credit_card   \n",
       "2  25e8ea4e93396b6fa0d3dd708e76c1bd                   1  credit_card   \n",
       "3  ba78997921bbcdc1373bb41e913ab953                   1  credit_card   \n",
       "4  42fdf880ba16b47b59251dd489d4441a                   1  credit_card   \n",
       "\n",
       "   payment_installments  payment_value  \n",
       "0                     8          99.33  \n",
       "1                     1          24.39  \n",
       "2                     1          65.71  \n",
       "3                     8         107.78  \n",
       "4                     2         128.45  "
      ]
     },
     "execution_count": 44,
     "metadata": {},
     "output_type": "execute_result"
    }
   ],
   "source": [
    "payments.head()"
   ]
  },
  {
   "cell_type": "markdown",
   "id": "114ecbdf",
   "metadata": {},
   "source": [
    "| Column Name            | Description                                                                 |\n",
    "|------------------------|-----------------------------------------------------------------------------|\n",
    "| `order_id`             | Unique identifier linking to the `orders` table.                            |\n",
    "| `payment_sequential`   | tells us how many payment types were used for a single order. |\n",
    "| `payment_type`         | Type of payment used (e.g., `credit_card`, `boleto`, `voucher`, `debit_card`). |\n",
    "| `payment_installments` | tells us how many times a payment is split, like \"3 monthly payments. |\n",
    "| `payment_value`        | Amount paid by the customer (in BRL – Brazilian Real).(price + freight_value)|\n"
   ]
  },
  {
   "cell_type": "markdown",
   "id": "47fac6fa",
   "metadata": {},
   "source": [
    "#### Reviews"
   ]
  },
  {
   "cell_type": "code",
   "execution_count": 45,
   "id": "214c2eeb",
   "metadata": {},
   "outputs": [
    {
     "data": {
      "application/vnd.microsoft.datawrangler.viewer.v0+json": {
       "columns": [
        {
         "name": "index",
         "rawType": "int64",
         "type": "integer"
        },
        {
         "name": "review_id",
         "rawType": "object",
         "type": "string"
        },
        {
         "name": "order_id",
         "rawType": "object",
         "type": "string"
        },
        {
         "name": "review_score",
         "rawType": "int64",
         "type": "integer"
        },
        {
         "name": "review_comment_title",
         "rawType": "object",
         "type": "unknown"
        },
        {
         "name": "review_comment_message",
         "rawType": "object",
         "type": "unknown"
        },
        {
         "name": "review_creation_date",
         "rawType": "object",
         "type": "string"
        },
        {
         "name": "review_answer_timestamp",
         "rawType": "object",
         "type": "string"
        }
       ],
       "ref": "6c549a0a-e8e3-483f-8a7f-d6ce74b4df81",
       "rows": [
        [
         "0",
         "7bc2406110b926393aa56f80a40eba40",
         "73fc7af87114b39712e6da79b0a377eb",
         "4",
         null,
         null,
         "2018-01-18 00:00:00",
         "2018-01-18 21:46:59"
        ],
        [
         "1",
         "80e641a11e56f04c1ad469d5645fdfde",
         "a548910a1c6147796b98fdf73dbeba33",
         "5",
         null,
         null,
         "2018-03-10 00:00:00",
         "2018-03-11 03:05:13"
        ],
        [
         "2",
         "228ce5500dc1d8e020d8d1322874b6f0",
         "f9e4b658b201a9f2ecdecbb34bed034b",
         "5",
         null,
         null,
         "2018-02-17 00:00:00",
         "2018-02-18 14:36:24"
        ],
        [
         "3",
         "e64fb393e7b32834bb789ff8bb30750e",
         "658677c97b385a9be170737859d3511b",
         "5",
         null,
         "Recebi bem antes do prazo estipulado.",
         "2017-04-21 00:00:00",
         "2017-04-21 22:02:06"
        ],
        [
         "4",
         "f7c4243c7fe1938f181bec41a392bdeb",
         "8e6bfb81e283fa7e4f11123a3fb894f1",
         "5",
         null,
         "Parabéns lojas lannister adorei comprar pela Internet seguro e prático Parabéns a todos feliz Páscoa",
         "2018-03-01 00:00:00",
         "2018-03-02 10:26:53"
        ]
       ],
       "shape": {
        "columns": 7,
        "rows": 5
       }
      },
      "text/html": [
       "<div>\n",
       "<style scoped>\n",
       "    .dataframe tbody tr th:only-of-type {\n",
       "        vertical-align: middle;\n",
       "    }\n",
       "\n",
       "    .dataframe tbody tr th {\n",
       "        vertical-align: top;\n",
       "    }\n",
       "\n",
       "    .dataframe thead th {\n",
       "        text-align: right;\n",
       "    }\n",
       "</style>\n",
       "<table border=\"1\" class=\"dataframe\">\n",
       "  <thead>\n",
       "    <tr style=\"text-align: right;\">\n",
       "      <th></th>\n",
       "      <th>review_id</th>\n",
       "      <th>order_id</th>\n",
       "      <th>review_score</th>\n",
       "      <th>review_comment_title</th>\n",
       "      <th>review_comment_message</th>\n",
       "      <th>review_creation_date</th>\n",
       "      <th>review_answer_timestamp</th>\n",
       "    </tr>\n",
       "  </thead>\n",
       "  <tbody>\n",
       "    <tr>\n",
       "      <th>0</th>\n",
       "      <td>7bc2406110b926393aa56f80a40eba40</td>\n",
       "      <td>73fc7af87114b39712e6da79b0a377eb</td>\n",
       "      <td>4</td>\n",
       "      <td>NaN</td>\n",
       "      <td>NaN</td>\n",
       "      <td>2018-01-18 00:00:00</td>\n",
       "      <td>2018-01-18 21:46:59</td>\n",
       "    </tr>\n",
       "    <tr>\n",
       "      <th>1</th>\n",
       "      <td>80e641a11e56f04c1ad469d5645fdfde</td>\n",
       "      <td>a548910a1c6147796b98fdf73dbeba33</td>\n",
       "      <td>5</td>\n",
       "      <td>NaN</td>\n",
       "      <td>NaN</td>\n",
       "      <td>2018-03-10 00:00:00</td>\n",
       "      <td>2018-03-11 03:05:13</td>\n",
       "    </tr>\n",
       "    <tr>\n",
       "      <th>2</th>\n",
       "      <td>228ce5500dc1d8e020d8d1322874b6f0</td>\n",
       "      <td>f9e4b658b201a9f2ecdecbb34bed034b</td>\n",
       "      <td>5</td>\n",
       "      <td>NaN</td>\n",
       "      <td>NaN</td>\n",
       "      <td>2018-02-17 00:00:00</td>\n",
       "      <td>2018-02-18 14:36:24</td>\n",
       "    </tr>\n",
       "    <tr>\n",
       "      <th>3</th>\n",
       "      <td>e64fb393e7b32834bb789ff8bb30750e</td>\n",
       "      <td>658677c97b385a9be170737859d3511b</td>\n",
       "      <td>5</td>\n",
       "      <td>NaN</td>\n",
       "      <td>Recebi bem antes do prazo estipulado.</td>\n",
       "      <td>2017-04-21 00:00:00</td>\n",
       "      <td>2017-04-21 22:02:06</td>\n",
       "    </tr>\n",
       "    <tr>\n",
       "      <th>4</th>\n",
       "      <td>f7c4243c7fe1938f181bec41a392bdeb</td>\n",
       "      <td>8e6bfb81e283fa7e4f11123a3fb894f1</td>\n",
       "      <td>5</td>\n",
       "      <td>NaN</td>\n",
       "      <td>Parabéns lojas lannister adorei comprar pela I...</td>\n",
       "      <td>2018-03-01 00:00:00</td>\n",
       "      <td>2018-03-02 10:26:53</td>\n",
       "    </tr>\n",
       "  </tbody>\n",
       "</table>\n",
       "</div>"
      ],
      "text/plain": [
       "                          review_id                          order_id  \\\n",
       "0  7bc2406110b926393aa56f80a40eba40  73fc7af87114b39712e6da79b0a377eb   \n",
       "1  80e641a11e56f04c1ad469d5645fdfde  a548910a1c6147796b98fdf73dbeba33   \n",
       "2  228ce5500dc1d8e020d8d1322874b6f0  f9e4b658b201a9f2ecdecbb34bed034b   \n",
       "3  e64fb393e7b32834bb789ff8bb30750e  658677c97b385a9be170737859d3511b   \n",
       "4  f7c4243c7fe1938f181bec41a392bdeb  8e6bfb81e283fa7e4f11123a3fb894f1   \n",
       "\n",
       "   review_score review_comment_title  \\\n",
       "0             4                  NaN   \n",
       "1             5                  NaN   \n",
       "2             5                  NaN   \n",
       "3             5                  NaN   \n",
       "4             5                  NaN   \n",
       "\n",
       "                              review_comment_message review_creation_date  \\\n",
       "0                                                NaN  2018-01-18 00:00:00   \n",
       "1                                                NaN  2018-03-10 00:00:00   \n",
       "2                                                NaN  2018-02-17 00:00:00   \n",
       "3              Recebi bem antes do prazo estipulado.  2017-04-21 00:00:00   \n",
       "4  Parabéns lojas lannister adorei comprar pela I...  2018-03-01 00:00:00   \n",
       "\n",
       "  review_answer_timestamp  \n",
       "0     2018-01-18 21:46:59  \n",
       "1     2018-03-11 03:05:13  \n",
       "2     2018-02-18 14:36:24  \n",
       "3     2017-04-21 22:02:06  \n",
       "4     2018-03-02 10:26:53  "
      ]
     },
     "execution_count": 45,
     "metadata": {},
     "output_type": "execute_result"
    }
   ],
   "source": [
    "reviews.head()"
   ]
  },
  {
   "cell_type": "markdown",
   "id": "4e6ccc95",
   "metadata": {},
   "source": [
    "\n",
    "| Column Name              | Description                                                                 |\n",
    "|--------------------------|-----------------------------------------------------------------------------|\n",
    "| `review_id`              | Unique identifier for the review                                            |\n",
    "| `order_id`               | ID of the order being reviewed (connects to orders table)                   |\n",
    "| `review_score`           | Score given by the customer (1 to 5 stars)                                  |\n",
    "| `review_comment_title`   | Optional title for the review (short summary)                |\n",
    "| `review_comment_message` | Detailed review message provided by the customer                            |\n",
    "| `review_creation_date`   | Date when the customer submitted the review                                 |\n",
    "| `review_answer_timestamp`| Timestamp when Olist responded or processed the review                      |"
   ]
  },
  {
   "cell_type": "markdown",
   "id": "bf5bfa81",
   "metadata": {},
   "source": [
    "#### Customers"
   ]
  },
  {
   "cell_type": "code",
   "execution_count": 46,
   "id": "220707c7",
   "metadata": {},
   "outputs": [
    {
     "data": {
      "application/vnd.microsoft.datawrangler.viewer.v0+json": {
       "columns": [
        {
         "name": "index",
         "rawType": "int64",
         "type": "integer"
        },
        {
         "name": "customer_id",
         "rawType": "object",
         "type": "string"
        },
        {
         "name": "customer_unique_id",
         "rawType": "object",
         "type": "string"
        },
        {
         "name": "customer_zip_code_prefix",
         "rawType": "int64",
         "type": "integer"
        },
        {
         "name": "customer_city",
         "rawType": "object",
         "type": "string"
        },
        {
         "name": "customer_state",
         "rawType": "object",
         "type": "string"
        }
       ],
       "ref": "057ae512-ed56-476b-b563-56104a614472",
       "rows": [
        [
         "0",
         "06b8999e2fba1a1fbc88172c00ba8bc7",
         "861eff4711a542e4b93843c6dd7febb0",
         "14409",
         "franca",
         "SP"
        ],
        [
         "1",
         "18955e83d337fd6b2def6b18a428ac77",
         "290c77bc529b7ac935b93aa66c333dc3",
         "9790",
         "sao bernardo do campo",
         "SP"
        ],
        [
         "2",
         "4e7b3e00288586ebd08712fdd0374a03",
         "060e732b5b29e8181a18229c7b0b2b5e",
         "1151",
         "sao paulo",
         "SP"
        ],
        [
         "3",
         "b2b6027bc5c5109e529d4dc6358b12c3",
         "259dac757896d24d7702b9acbbff3f3c",
         "8775",
         "mogi das cruzes",
         "SP"
        ],
        [
         "4",
         "4f2d8ab171c80ec8364f7c12e35b23ad",
         "345ecd01c38d18a9036ed96c73b8d066",
         "13056",
         "campinas",
         "SP"
        ]
       ],
       "shape": {
        "columns": 5,
        "rows": 5
       }
      },
      "text/html": [
       "<div>\n",
       "<style scoped>\n",
       "    .dataframe tbody tr th:only-of-type {\n",
       "        vertical-align: middle;\n",
       "    }\n",
       "\n",
       "    .dataframe tbody tr th {\n",
       "        vertical-align: top;\n",
       "    }\n",
       "\n",
       "    .dataframe thead th {\n",
       "        text-align: right;\n",
       "    }\n",
       "</style>\n",
       "<table border=\"1\" class=\"dataframe\">\n",
       "  <thead>\n",
       "    <tr style=\"text-align: right;\">\n",
       "      <th></th>\n",
       "      <th>customer_id</th>\n",
       "      <th>customer_unique_id</th>\n",
       "      <th>customer_zip_code_prefix</th>\n",
       "      <th>customer_city</th>\n",
       "      <th>customer_state</th>\n",
       "    </tr>\n",
       "  </thead>\n",
       "  <tbody>\n",
       "    <tr>\n",
       "      <th>0</th>\n",
       "      <td>06b8999e2fba1a1fbc88172c00ba8bc7</td>\n",
       "      <td>861eff4711a542e4b93843c6dd7febb0</td>\n",
       "      <td>14409</td>\n",
       "      <td>franca</td>\n",
       "      <td>SP</td>\n",
       "    </tr>\n",
       "    <tr>\n",
       "      <th>1</th>\n",
       "      <td>18955e83d337fd6b2def6b18a428ac77</td>\n",
       "      <td>290c77bc529b7ac935b93aa66c333dc3</td>\n",
       "      <td>9790</td>\n",
       "      <td>sao bernardo do campo</td>\n",
       "      <td>SP</td>\n",
       "    </tr>\n",
       "    <tr>\n",
       "      <th>2</th>\n",
       "      <td>4e7b3e00288586ebd08712fdd0374a03</td>\n",
       "      <td>060e732b5b29e8181a18229c7b0b2b5e</td>\n",
       "      <td>1151</td>\n",
       "      <td>sao paulo</td>\n",
       "      <td>SP</td>\n",
       "    </tr>\n",
       "    <tr>\n",
       "      <th>3</th>\n",
       "      <td>b2b6027bc5c5109e529d4dc6358b12c3</td>\n",
       "      <td>259dac757896d24d7702b9acbbff3f3c</td>\n",
       "      <td>8775</td>\n",
       "      <td>mogi das cruzes</td>\n",
       "      <td>SP</td>\n",
       "    </tr>\n",
       "    <tr>\n",
       "      <th>4</th>\n",
       "      <td>4f2d8ab171c80ec8364f7c12e35b23ad</td>\n",
       "      <td>345ecd01c38d18a9036ed96c73b8d066</td>\n",
       "      <td>13056</td>\n",
       "      <td>campinas</td>\n",
       "      <td>SP</td>\n",
       "    </tr>\n",
       "  </tbody>\n",
       "</table>\n",
       "</div>"
      ],
      "text/plain": [
       "                        customer_id                customer_unique_id  \\\n",
       "0  06b8999e2fba1a1fbc88172c00ba8bc7  861eff4711a542e4b93843c6dd7febb0   \n",
       "1  18955e83d337fd6b2def6b18a428ac77  290c77bc529b7ac935b93aa66c333dc3   \n",
       "2  4e7b3e00288586ebd08712fdd0374a03  060e732b5b29e8181a18229c7b0b2b5e   \n",
       "3  b2b6027bc5c5109e529d4dc6358b12c3  259dac757896d24d7702b9acbbff3f3c   \n",
       "4  4f2d8ab171c80ec8364f7c12e35b23ad  345ecd01c38d18a9036ed96c73b8d066   \n",
       "\n",
       "   customer_zip_code_prefix          customer_city customer_state  \n",
       "0                     14409                 franca             SP  \n",
       "1                      9790  sao bernardo do campo             SP  \n",
       "2                      1151              sao paulo             SP  \n",
       "3                      8775        mogi das cruzes             SP  \n",
       "4                     13056               campinas             SP  "
      ]
     },
     "execution_count": 46,
     "metadata": {},
     "output_type": "execute_result"
    }
   ],
   "source": [
    "customers.head()"
   ]
  },
  {
   "cell_type": "markdown",
   "id": "c26b8cc6",
   "metadata": {},
   "source": [
    "\n",
    "| Column Name                | Description                                                                 |\n",
    "|----------------------------|-----------------------------------------------------------------------------|\n",
    "| `customer_id`              | A unique identifier for a **customer account**, consistent across orders.   |\n",
    "| `customer_unique_id`       | A hashed version of a real person’s ID, consistent across duplicate accounts\n",
    "|                             | or email  changes.|\n",
    "| `customer_zip_code_prefix` | First digits of the customer's ZIP code                                     |\n",
    "| `customer_city`            | City of the customer                                                        |\n",
    "| `customer_state`           | State abbreviation where the customer resides (e.g., SP, RJ)               |"
   ]
  },
  {
   "cell_type": "markdown",
   "id": "85453896",
   "metadata": {},
   "source": [
    "#### Sellers"
   ]
  },
  {
   "cell_type": "code",
   "execution_count": 47,
   "id": "5c6a7815",
   "metadata": {},
   "outputs": [
    {
     "data": {
      "application/vnd.microsoft.datawrangler.viewer.v0+json": {
       "columns": [
        {
         "name": "index",
         "rawType": "int64",
         "type": "integer"
        },
        {
         "name": "seller_id",
         "rawType": "object",
         "type": "string"
        },
        {
         "name": "seller_zip_code_prefix",
         "rawType": "int64",
         "type": "integer"
        },
        {
         "name": "seller_city",
         "rawType": "object",
         "type": "string"
        },
        {
         "name": "seller_state",
         "rawType": "object",
         "type": "string"
        }
       ],
       "ref": "44b5810a-883a-4cd4-b0be-501a07faea90",
       "rows": [
        [
         "0",
         "3442f8959a84dea7ee197c632cb2df15",
         "13023",
         "campinas",
         "SP"
        ],
        [
         "1",
         "d1b65fc7debc3361ea86b5f14c68d2e2",
         "13844",
         "mogi guacu",
         "SP"
        ],
        [
         "2",
         "ce3ad9de960102d0677a81f5d0bb7b2d",
         "20031",
         "rio de janeiro",
         "RJ"
        ],
        [
         "3",
         "c0f3eea2e14555b6faeea3dd58c1b1c3",
         "4195",
         "sao paulo",
         "SP"
        ],
        [
         "4",
         "51a04a8a6bdcb23deccc82b0b80742cf",
         "12914",
         "braganca paulista",
         "SP"
        ]
       ],
       "shape": {
        "columns": 4,
        "rows": 5
       }
      },
      "text/html": [
       "<div>\n",
       "<style scoped>\n",
       "    .dataframe tbody tr th:only-of-type {\n",
       "        vertical-align: middle;\n",
       "    }\n",
       "\n",
       "    .dataframe tbody tr th {\n",
       "        vertical-align: top;\n",
       "    }\n",
       "\n",
       "    .dataframe thead th {\n",
       "        text-align: right;\n",
       "    }\n",
       "</style>\n",
       "<table border=\"1\" class=\"dataframe\">\n",
       "  <thead>\n",
       "    <tr style=\"text-align: right;\">\n",
       "      <th></th>\n",
       "      <th>seller_id</th>\n",
       "      <th>seller_zip_code_prefix</th>\n",
       "      <th>seller_city</th>\n",
       "      <th>seller_state</th>\n",
       "    </tr>\n",
       "  </thead>\n",
       "  <tbody>\n",
       "    <tr>\n",
       "      <th>0</th>\n",
       "      <td>3442f8959a84dea7ee197c632cb2df15</td>\n",
       "      <td>13023</td>\n",
       "      <td>campinas</td>\n",
       "      <td>SP</td>\n",
       "    </tr>\n",
       "    <tr>\n",
       "      <th>1</th>\n",
       "      <td>d1b65fc7debc3361ea86b5f14c68d2e2</td>\n",
       "      <td>13844</td>\n",
       "      <td>mogi guacu</td>\n",
       "      <td>SP</td>\n",
       "    </tr>\n",
       "    <tr>\n",
       "      <th>2</th>\n",
       "      <td>ce3ad9de960102d0677a81f5d0bb7b2d</td>\n",
       "      <td>20031</td>\n",
       "      <td>rio de janeiro</td>\n",
       "      <td>RJ</td>\n",
       "    </tr>\n",
       "    <tr>\n",
       "      <th>3</th>\n",
       "      <td>c0f3eea2e14555b6faeea3dd58c1b1c3</td>\n",
       "      <td>4195</td>\n",
       "      <td>sao paulo</td>\n",
       "      <td>SP</td>\n",
       "    </tr>\n",
       "    <tr>\n",
       "      <th>4</th>\n",
       "      <td>51a04a8a6bdcb23deccc82b0b80742cf</td>\n",
       "      <td>12914</td>\n",
       "      <td>braganca paulista</td>\n",
       "      <td>SP</td>\n",
       "    </tr>\n",
       "  </tbody>\n",
       "</table>\n",
       "</div>"
      ],
      "text/plain": [
       "                          seller_id  seller_zip_code_prefix  \\\n",
       "0  3442f8959a84dea7ee197c632cb2df15                   13023   \n",
       "1  d1b65fc7debc3361ea86b5f14c68d2e2                   13844   \n",
       "2  ce3ad9de960102d0677a81f5d0bb7b2d                   20031   \n",
       "3  c0f3eea2e14555b6faeea3dd58c1b1c3                    4195   \n",
       "4  51a04a8a6bdcb23deccc82b0b80742cf                   12914   \n",
       "\n",
       "         seller_city seller_state  \n",
       "0           campinas           SP  \n",
       "1         mogi guacu           SP  \n",
       "2     rio de janeiro           RJ  \n",
       "3          sao paulo           SP  \n",
       "4  braganca paulista           SP  "
      ]
     },
     "execution_count": 47,
     "metadata": {},
     "output_type": "execute_result"
    }
   ],
   "source": [
    "sellers.head()"
   ]
  },
  {
   "cell_type": "markdown",
   "id": "92dd1378",
   "metadata": {},
   "source": [
    "| Column Name             | Description                                                                 |\n",
    "|-------------------------|-----------------------------------------------------------------------------|\n",
    "| `seller_id`             | Unique identifier for each seller.                                          |\n",
    "| `seller_zip_code_prefix`| First 5 digits of the seller's ZIP code, used for regional grouping.        |\n",
    "| `seller_city`           | City where the seller is located.                                           |\n",
    "| `seller_state`          | Two-letter abbreviation of the seller's state (e.g., SP = São Paulo).       |"
   ]
  },
  {
   "cell_type": "markdown",
   "id": "22d47124",
   "metadata": {},
   "source": [
    "#### Geo"
   ]
  },
  {
   "cell_type": "code",
   "execution_count": 48,
   "id": "4e0d7d19",
   "metadata": {},
   "outputs": [
    {
     "data": {
      "application/vnd.microsoft.datawrangler.viewer.v0+json": {
       "columns": [
        {
         "name": "index",
         "rawType": "int64",
         "type": "integer"
        },
        {
         "name": "geolocation_zip_code_prefix",
         "rawType": "int64",
         "type": "integer"
        },
        {
         "name": "geolocation_lat",
         "rawType": "float64",
         "type": "float"
        },
        {
         "name": "geolocation_lng",
         "rawType": "float64",
         "type": "float"
        },
        {
         "name": "geolocation_city",
         "rawType": "object",
         "type": "string"
        },
        {
         "name": "geolocation_state",
         "rawType": "object",
         "type": "string"
        }
       ],
       "ref": "bb7cce63-2eb0-48cc-84a6-b54310705a43",
       "rows": [
        [
         "0",
         "1037",
         "-23.54562128115268",
         "-46.63929204800168",
         "sao paulo",
         "SP"
        ],
        [
         "1",
         "1046",
         "-23.54608112703553",
         "-46.64482029837157",
         "sao paulo",
         "SP"
        ],
        [
         "2",
         "1046",
         "-23.54612896641469",
         "-46.64295148361138",
         "sao paulo",
         "SP"
        ],
        [
         "3",
         "1041",
         "-23.5443921648681",
         "-46.63949930627844",
         "sao paulo",
         "SP"
        ],
        [
         "4",
         "1035",
         "-23.541577961711493",
         "-46.64160722329613",
         "sao paulo",
         "SP"
        ]
       ],
       "shape": {
        "columns": 5,
        "rows": 5
       }
      },
      "text/html": [
       "<div>\n",
       "<style scoped>\n",
       "    .dataframe tbody tr th:only-of-type {\n",
       "        vertical-align: middle;\n",
       "    }\n",
       "\n",
       "    .dataframe tbody tr th {\n",
       "        vertical-align: top;\n",
       "    }\n",
       "\n",
       "    .dataframe thead th {\n",
       "        text-align: right;\n",
       "    }\n",
       "</style>\n",
       "<table border=\"1\" class=\"dataframe\">\n",
       "  <thead>\n",
       "    <tr style=\"text-align: right;\">\n",
       "      <th></th>\n",
       "      <th>geolocation_zip_code_prefix</th>\n",
       "      <th>geolocation_lat</th>\n",
       "      <th>geolocation_lng</th>\n",
       "      <th>geolocation_city</th>\n",
       "      <th>geolocation_state</th>\n",
       "    </tr>\n",
       "  </thead>\n",
       "  <tbody>\n",
       "    <tr>\n",
       "      <th>0</th>\n",
       "      <td>1037</td>\n",
       "      <td>-23.545621</td>\n",
       "      <td>-46.639292</td>\n",
       "      <td>sao paulo</td>\n",
       "      <td>SP</td>\n",
       "    </tr>\n",
       "    <tr>\n",
       "      <th>1</th>\n",
       "      <td>1046</td>\n",
       "      <td>-23.546081</td>\n",
       "      <td>-46.644820</td>\n",
       "      <td>sao paulo</td>\n",
       "      <td>SP</td>\n",
       "    </tr>\n",
       "    <tr>\n",
       "      <th>2</th>\n",
       "      <td>1046</td>\n",
       "      <td>-23.546129</td>\n",
       "      <td>-46.642951</td>\n",
       "      <td>sao paulo</td>\n",
       "      <td>SP</td>\n",
       "    </tr>\n",
       "    <tr>\n",
       "      <th>3</th>\n",
       "      <td>1041</td>\n",
       "      <td>-23.544392</td>\n",
       "      <td>-46.639499</td>\n",
       "      <td>sao paulo</td>\n",
       "      <td>SP</td>\n",
       "    </tr>\n",
       "    <tr>\n",
       "      <th>4</th>\n",
       "      <td>1035</td>\n",
       "      <td>-23.541578</td>\n",
       "      <td>-46.641607</td>\n",
       "      <td>sao paulo</td>\n",
       "      <td>SP</td>\n",
       "    </tr>\n",
       "  </tbody>\n",
       "</table>\n",
       "</div>"
      ],
      "text/plain": [
       "   geolocation_zip_code_prefix  geolocation_lat  geolocation_lng  \\\n",
       "0                         1037       -23.545621       -46.639292   \n",
       "1                         1046       -23.546081       -46.644820   \n",
       "2                         1046       -23.546129       -46.642951   \n",
       "3                         1041       -23.544392       -46.639499   \n",
       "4                         1035       -23.541578       -46.641607   \n",
       "\n",
       "  geolocation_city geolocation_state  \n",
       "0        sao paulo                SP  \n",
       "1        sao paulo                SP  \n",
       "2        sao paulo                SP  \n",
       "3        sao paulo                SP  \n",
       "4        sao paulo                SP  "
      ]
     },
     "execution_count": 48,
     "metadata": {},
     "output_type": "execute_result"
    }
   ],
   "source": [
    "geo.head()"
   ]
  },
  {
   "cell_type": "markdown",
   "id": "9f61db81",
   "metadata": {},
   "source": [
    "| Column Name                 | Description                                                                 |\n",
    "|-----------------------------|-----------------------------------------------------------------------------|\n",
    "| `geolocation_zip_code_prefix` | First 5 digits of the ZIP code, used to group geographic locations.       |\n",
    "| `geolocation_lat`           | Latitude coordinate of the location.                                       |\n",
    "| `geolocation_lng`           | Longitude coordinate of the location.                                      |\n",
    "| `geolocation_city`          | City of the geographic location.                                           |\n",
    "| `geolocation_state`         | Two-letter state abbreviation of the geographic location (e.g., SP, RJ).  |\n"
   ]
  },
  {
   "cell_type": "markdown",
   "id": "2e9100a5",
   "metadata": {},
   "source": [
    "#### Categories"
   ]
  },
  {
   "cell_type": "code",
   "execution_count": 49,
   "id": "fc49207d",
   "metadata": {},
   "outputs": [
    {
     "data": {
      "application/vnd.microsoft.datawrangler.viewer.v0+json": {
       "columns": [
        {
         "name": "index",
         "rawType": "int64",
         "type": "integer"
        },
        {
         "name": "product_category_name",
         "rawType": "object",
         "type": "string"
        },
        {
         "name": "product_category_name_english",
         "rawType": "object",
         "type": "string"
        }
       ],
       "ref": "e638ae47-c4ff-4d4a-869f-9157e5805e82",
       "rows": [
        [
         "0",
         "beleza_saude",
         "health_beauty"
        ],
        [
         "1",
         "informatica_acessorios",
         "computers_accessories"
        ],
        [
         "2",
         "automotivo",
         "auto"
        ],
        [
         "3",
         "cama_mesa_banho",
         "bed_bath_table"
        ],
        [
         "4",
         "moveis_decoracao",
         "furniture_decor"
        ]
       ],
       "shape": {
        "columns": 2,
        "rows": 5
       }
      },
      "text/html": [
       "<div>\n",
       "<style scoped>\n",
       "    .dataframe tbody tr th:only-of-type {\n",
       "        vertical-align: middle;\n",
       "    }\n",
       "\n",
       "    .dataframe tbody tr th {\n",
       "        vertical-align: top;\n",
       "    }\n",
       "\n",
       "    .dataframe thead th {\n",
       "        text-align: right;\n",
       "    }\n",
       "</style>\n",
       "<table border=\"1\" class=\"dataframe\">\n",
       "  <thead>\n",
       "    <tr style=\"text-align: right;\">\n",
       "      <th></th>\n",
       "      <th>product_category_name</th>\n",
       "      <th>product_category_name_english</th>\n",
       "    </tr>\n",
       "  </thead>\n",
       "  <tbody>\n",
       "    <tr>\n",
       "      <th>0</th>\n",
       "      <td>beleza_saude</td>\n",
       "      <td>health_beauty</td>\n",
       "    </tr>\n",
       "    <tr>\n",
       "      <th>1</th>\n",
       "      <td>informatica_acessorios</td>\n",
       "      <td>computers_accessories</td>\n",
       "    </tr>\n",
       "    <tr>\n",
       "      <th>2</th>\n",
       "      <td>automotivo</td>\n",
       "      <td>auto</td>\n",
       "    </tr>\n",
       "    <tr>\n",
       "      <th>3</th>\n",
       "      <td>cama_mesa_banho</td>\n",
       "      <td>bed_bath_table</td>\n",
       "    </tr>\n",
       "    <tr>\n",
       "      <th>4</th>\n",
       "      <td>moveis_decoracao</td>\n",
       "      <td>furniture_decor</td>\n",
       "    </tr>\n",
       "  </tbody>\n",
       "</table>\n",
       "</div>"
      ],
      "text/plain": [
       "    product_category_name product_category_name_english\n",
       "0            beleza_saude                 health_beauty\n",
       "1  informatica_acessorios         computers_accessories\n",
       "2              automotivo                          auto\n",
       "3         cama_mesa_banho                bed_bath_table\n",
       "4        moveis_decoracao               furniture_decor"
      ]
     },
     "execution_count": 49,
     "metadata": {},
     "output_type": "execute_result"
    }
   ],
   "source": [
    "categories.head()"
   ]
  },
  {
   "cell_type": "markdown",
   "id": "9ece6518",
   "metadata": {},
   "source": [
    "| product_category_name             | product_category_name_english     |\n",
    "|----------------------------------|-----------------------------------|\n",
    "| beleza_saude                     | health_beauty                     |\n",
    "| informatica_acessorios           | computers_accessories             |\n",
    "| automotivo                       | auto                              |\n",
    "| cama_mesa_banho                  | bed_bath_table                    |\n",
    "| moveis_decoracao                 | furniture_decor                   |\n",
    "| ...                              | ...                               |"
   ]
  },
  {
   "cell_type": "code",
   "execution_count": 3,
   "id": "788f75be",
   "metadata": {},
   "outputs": [
    {
     "name": "stdout",
     "output_type": "stream",
     "text": [
      "\n",
      "Orders Info:\n",
      "<class 'pandas.core.frame.DataFrame'>\n",
      "RangeIndex: 99441 entries, 0 to 99440\n",
      "Data columns (total 8 columns):\n",
      " #   Column                         Non-Null Count  Dtype \n",
      "---  ------                         --------------  ----- \n",
      " 0   order_id                       99441 non-null  object\n",
      " 1   customer_id                    99441 non-null  object\n",
      " 2   order_status                   99441 non-null  object\n",
      " 3   order_purchase_timestamp       99441 non-null  object\n",
      " 4   order_approved_at              99281 non-null  object\n",
      " 5   order_delivered_carrier_date   97658 non-null  object\n",
      " 6   order_delivered_customer_date  96476 non-null  object\n",
      " 7   order_estimated_delivery_date  99441 non-null  object\n",
      "dtypes: object(8)\n",
      "memory usage: 6.1+ MB\n",
      "None\n",
      "\n",
      "Order Items Info:\n",
      "<class 'pandas.core.frame.DataFrame'>\n",
      "RangeIndex: 112650 entries, 0 to 112649\n",
      "Data columns (total 7 columns):\n",
      " #   Column               Non-Null Count   Dtype  \n",
      "---  ------               --------------   -----  \n",
      " 0   order_id             112650 non-null  object \n",
      " 1   order_item_id        112650 non-null  int64  \n",
      " 2   product_id           112650 non-null  object \n",
      " 3   seller_id            112650 non-null  object \n",
      " 4   shipping_limit_date  112650 non-null  object \n",
      " 5   price                112650 non-null  float64\n",
      " 6   freight_value        112650 non-null  float64\n",
      "dtypes: float64(2), int64(1), object(4)\n",
      "memory usage: 6.0+ MB\n",
      "None\n",
      "\n",
      "Products Info:\n",
      "<class 'pandas.core.frame.DataFrame'>\n",
      "RangeIndex: 32951 entries, 0 to 32950\n",
      "Data columns (total 9 columns):\n",
      " #   Column                      Non-Null Count  Dtype  \n",
      "---  ------                      --------------  -----  \n",
      " 0   product_id                  32951 non-null  object \n",
      " 1   product_category_name       32341 non-null  object \n",
      " 2   product_name_lenght         32341 non-null  float64\n",
      " 3   product_description_lenght  32341 non-null  float64\n",
      " 4   product_photos_qty          32341 non-null  float64\n",
      " 5   product_weight_g            32949 non-null  float64\n",
      " 6   product_length_cm           32949 non-null  float64\n",
      " 7   product_height_cm           32949 non-null  float64\n",
      " 8   product_width_cm            32949 non-null  float64\n",
      "dtypes: float64(7), object(2)\n",
      "memory usage: 2.3+ MB\n",
      "None\n",
      "\n",
      "Payments Info:\n",
      "<class 'pandas.core.frame.DataFrame'>\n",
      "RangeIndex: 103886 entries, 0 to 103885\n",
      "Data columns (total 5 columns):\n",
      " #   Column                Non-Null Count   Dtype  \n",
      "---  ------                --------------   -----  \n",
      " 0   order_id              103886 non-null  object \n",
      " 1   payment_sequential    103886 non-null  int64  \n",
      " 2   payment_type          103886 non-null  object \n",
      " 3   payment_installments  103886 non-null  int64  \n",
      " 4   payment_value         103886 non-null  float64\n",
      "dtypes: float64(1), int64(2), object(2)\n",
      "memory usage: 4.0+ MB\n",
      "None\n",
      "\n",
      "Reviews Info:\n",
      "<class 'pandas.core.frame.DataFrame'>\n",
      "RangeIndex: 99224 entries, 0 to 99223\n",
      "Data columns (total 7 columns):\n",
      " #   Column                   Non-Null Count  Dtype \n",
      "---  ------                   --------------  ----- \n",
      " 0   review_id                99224 non-null  object\n",
      " 1   order_id                 99224 non-null  object\n",
      " 2   review_score             99224 non-null  int64 \n",
      " 3   review_comment_title     11568 non-null  object\n",
      " 4   review_comment_message   40977 non-null  object\n",
      " 5   review_creation_date     99224 non-null  object\n",
      " 6   review_answer_timestamp  99224 non-null  object\n",
      "dtypes: int64(1), object(6)\n",
      "memory usage: 5.3+ MB\n",
      "None\n",
      "\n",
      "Customers Info:\n",
      "<class 'pandas.core.frame.DataFrame'>\n",
      "RangeIndex: 99441 entries, 0 to 99440\n",
      "Data columns (total 5 columns):\n",
      " #   Column                    Non-Null Count  Dtype \n",
      "---  ------                    --------------  ----- \n",
      " 0   customer_id               99441 non-null  object\n",
      " 1   customer_unique_id        99441 non-null  object\n",
      " 2   customer_zip_code_prefix  99441 non-null  int64 \n",
      " 3   customer_city             99441 non-null  object\n",
      " 4   customer_state            99441 non-null  object\n",
      "dtypes: int64(1), object(4)\n",
      "memory usage: 3.8+ MB\n",
      "None\n",
      "\n",
      "Sellers Info:\n",
      "<class 'pandas.core.frame.DataFrame'>\n",
      "RangeIndex: 3095 entries, 0 to 3094\n",
      "Data columns (total 4 columns):\n",
      " #   Column                  Non-Null Count  Dtype \n",
      "---  ------                  --------------  ----- \n",
      " 0   seller_id               3095 non-null   object\n",
      " 1   seller_zip_code_prefix  3095 non-null   int64 \n",
      " 2   seller_city             3095 non-null   object\n",
      " 3   seller_state            3095 non-null   object\n",
      "dtypes: int64(1), object(3)\n",
      "memory usage: 96.8+ KB\n",
      "None\n",
      "\n",
      "Geolocation Info:\n",
      "<class 'pandas.core.frame.DataFrame'>\n",
      "RangeIndex: 1000163 entries, 0 to 1000162\n",
      "Data columns (total 5 columns):\n",
      " #   Column                       Non-Null Count    Dtype  \n",
      "---  ------                       --------------    -----  \n",
      " 0   geolocation_zip_code_prefix  1000163 non-null  int64  \n",
      " 1   geolocation_lat              1000163 non-null  float64\n",
      " 2   geolocation_lng              1000163 non-null  float64\n",
      " 3   geolocation_city             1000163 non-null  object \n",
      " 4   geolocation_state            1000163 non-null  object \n",
      "dtypes: float64(2), int64(1), object(2)\n",
      "memory usage: 38.2+ MB\n",
      "None\n",
      "\n",
      "Category Translation Info:\n",
      "<class 'pandas.core.frame.DataFrame'>\n",
      "RangeIndex: 71 entries, 0 to 70\n",
      "Data columns (total 2 columns):\n",
      " #   Column                         Non-Null Count  Dtype \n",
      "---  ------                         --------------  ----- \n",
      " 0   product_category_name          71 non-null     object\n",
      " 1   product_category_name_english  71 non-null     object\n",
      "dtypes: object(2)\n",
      "memory usage: 1.2+ KB\n",
      "None\n"
     ]
    }
   ],
   "source": [
    "datasets = {\n",
    "    \"Orders\": orders,\n",
    "    \"Order Items\": order_items,\n",
    "    \"Products\": products,\n",
    "    \"Payments\": payments,\n",
    "    \"Reviews\": reviews,\n",
    "    \"Customers\": customers,\n",
    "    \"Sellers\": sellers,\n",
    "    \"Geolocation\": geo,\n",
    "    \"Category Translation\": categories\n",
    "}\n",
    "for name, df in datasets.items():\n",
    "    print(f\"\\n{name} Info:\")\n",
    "    print(df.info())"
   ]
  },
  {
   "cell_type": "markdown",
   "id": "a92c7a83",
   "metadata": {},
   "source": [
    "___\n",
    "### *B. Initial Inspection Observations*\n",
    "\n",
    "From the initial `.info()` checks across the Olist datasets, we observe the following:\n",
    "\n",
    "- **Data Volume**: Most datasets contain tens of thousands of entries, with `geolocation` being the largest (~1 million rows) and `category translation` the smallest (71 rows).\n",
    "- **Data Types**: Many columns are stored as `object` type, particularly those representing IDs and dates. This may require type conversion (e.g., to `datetime`) during preprocessing.\n",
    "- **Missing Data**:\n",
    "  - The `orders` dataset has some missing timestamps in delivery-related fields.\n",
    "  - The `products` dataset has a few missing values in product attributes.\n",
    "  - The `reviews` dataset has many missing values in comment titles and messages, which may be optional fields.\n",
    "- **Relational Structure**: \n",
    "  - Shared keys like `order_id`, `product_id`, `customer_id`, and `seller_id` across tables suggest strong relational integrity.\n",
    "  - This supports potential joins to create enriched views for further analysis.\n",
    "\n",
    "These findings guide us to perform data cleaning and transformations in the upcoming ETL steps.\n",
    "____\n"
   ]
  },
  {
   "cell_type": "markdown",
   "id": "9d62eaca",
   "metadata": {},
   "source": [
    "## **2. Transformation**"
   ]
  },
  {
   "cell_type": "markdown",
   "id": "eec77a99",
   "metadata": {},
   "source": [
    "### *A. Conversion of date columns to `datetime` type for purpose of filtering*"
   ]
  },
  {
   "cell_type": "markdown",
   "id": "28e3ccde",
   "metadata": {},
   "source": [
    "___\n",
    "Identify all datetime-related columns across all DataFrames.\n",
    "___"
   ]
  },
  {
   "cell_type": "code",
   "execution_count": 51,
   "id": "36d834d0",
   "metadata": {},
   "outputs": [
    {
     "name": "stdout",
     "output_type": "stream",
     "text": [
      "Orders has date-related columns: ['order_purchase_timestamp', 'order_delivered_carrier_date', 'order_delivered_customer_date', 'order_estimated_delivery_date']\n",
      "Order Items has date-related columns: ['shipping_limit_date']\n",
      "Reviews has date-related columns: ['review_creation_date', 'review_answer_timestamp']\n"
     ]
    }
   ],
   "source": [
    "# List all DataFrames in a dictionary\n",
    "dfs = {\n",
    "    \"Orders\": orders,\n",
    "    \"Order Items\": order_items,\n",
    "    \"Products\": products,\n",
    "    \"Payments\": payments,\n",
    "    \"Reviews\": reviews,\n",
    "    \"Customers\": customers,\n",
    "    \"Sellers\": sellers,\n",
    "    \"Geolocation\": geo,\n",
    "    \"Category Translation\": categories\n",
    "}\n",
    "\n",
    "# Loop through and check for datetime-like columns\n",
    "for name, df in dfs.items():\n",
    "    date_cols = [col for col in df.columns if 'date' in col.lower() or 'timestamp' in col.lower()]\n",
    "    if date_cols:\n",
    "        print(f\"{name} has date-related columns: {date_cols}\")\n"
   ]
  },
  {
   "cell_type": "markdown",
   "id": "c0c64297",
   "metadata": {},
   "source": [
    "___\n",
    "Convert relevant date-related columns from string (object) to datetime64[ns] format for proper time-based analysis and filtering.\n",
    "____\n",
    "```python"
   ]
  },
  {
   "cell_type": "code",
   "execution_count": 52,
   "id": "cb2ed09c",
   "metadata": {},
   "outputs": [],
   "source": [
    "# Orders table\n",
    "orders['order_purchase_timestamp'] = pd.to_datetime(orders['order_purchase_timestamp'])\n",
    "orders['order_delivered_carrier_date'] = pd.to_datetime(orders['order_delivered_carrier_date'])\n",
    "orders['order_delivered_customer_date'] = pd.to_datetime(orders['order_delivered_customer_date'])\n",
    "orders['order_estimated_delivery_date'] = pd.to_datetime(orders['order_estimated_delivery_date'])\n",
    "\n",
    "# Order Items table\n",
    "order_items['shipping_limit_date'] = pd.to_datetime(order_items['shipping_limit_date'])\n",
    "\n",
    "# Reviews table\n",
    "reviews['review_creation_date'] = pd.to_datetime(reviews['review_creation_date'])\n",
    "reviews['review_answer_timestamp'] = pd.to_datetime(reviews['review_answer_timestamp'])\n"
   ]
  },
  {
   "cell_type": "markdown",
   "id": "c95c3917",
   "metadata": {},
   "source": [
    "___\n",
    "Verify / Check the data types of each DataFrame to ensure successful conversion using .dtypes.\n",
    "____\n",
    "```python\n"
   ]
  },
  {
   "cell_type": "code",
   "execution_count": 53,
   "id": "df570bec",
   "metadata": {},
   "outputs": [
    {
     "data": {
      "application/vnd.microsoft.datawrangler.viewer.v0+json": {
       "columns": [
        {
         "name": "index",
         "rawType": "object",
         "type": "string"
        },
        {
         "name": "0",
         "rawType": "object",
         "type": "unknown"
        }
       ],
       "ref": "d02ff1e7-1463-404a-90ed-218c035fdecd",
       "rows": [
        [
         "order_id",
         "object"
        ],
        [
         "customer_id",
         "object"
        ],
        [
         "order_status",
         "object"
        ],
        [
         "order_purchase_timestamp",
         "datetime64[ns]"
        ],
        [
         "order_approved_at",
         "object"
        ],
        [
         "order_delivered_carrier_date",
         "datetime64[ns]"
        ],
        [
         "order_delivered_customer_date",
         "datetime64[ns]"
        ],
        [
         "order_estimated_delivery_date",
         "datetime64[ns]"
        ]
       ],
       "shape": {
        "columns": 1,
        "rows": 8
       }
      },
      "text/plain": [
       "order_id                                 object\n",
       "customer_id                              object\n",
       "order_status                             object\n",
       "order_purchase_timestamp         datetime64[ns]\n",
       "order_approved_at                        object\n",
       "order_delivered_carrier_date     datetime64[ns]\n",
       "order_delivered_customer_date    datetime64[ns]\n",
       "order_estimated_delivery_date    datetime64[ns]\n",
       "dtype: object"
      ]
     },
     "execution_count": 53,
     "metadata": {},
     "output_type": "execute_result"
    }
   ],
   "source": [
    "orders.dtypes"
   ]
  },
  {
   "cell_type": "code",
   "execution_count": 54,
   "id": "28a6d2ea",
   "metadata": {},
   "outputs": [
    {
     "data": {
      "application/vnd.microsoft.datawrangler.viewer.v0+json": {
       "columns": [
        {
         "name": "index",
         "rawType": "object",
         "type": "string"
        },
        {
         "name": "0",
         "rawType": "object",
         "type": "unknown"
        }
       ],
       "ref": "d3002261-404e-4e66-ad86-cfead4591d29",
       "rows": [
        [
         "order_id",
         "object"
        ],
        [
         "order_item_id",
         "int64"
        ],
        [
         "product_id",
         "object"
        ],
        [
         "seller_id",
         "object"
        ],
        [
         "shipping_limit_date",
         "datetime64[ns]"
        ],
        [
         "price",
         "float64"
        ],
        [
         "freight_value",
         "float64"
        ]
       ],
       "shape": {
        "columns": 1,
        "rows": 7
       }
      },
      "text/plain": [
       "order_id                       object\n",
       "order_item_id                   int64\n",
       "product_id                     object\n",
       "seller_id                      object\n",
       "shipping_limit_date    datetime64[ns]\n",
       "price                         float64\n",
       "freight_value                 float64\n",
       "dtype: object"
      ]
     },
     "execution_count": 54,
     "metadata": {},
     "output_type": "execute_result"
    }
   ],
   "source": [
    "order_items.dtypes"
   ]
  },
  {
   "cell_type": "code",
   "execution_count": 55,
   "id": "20e6d426",
   "metadata": {},
   "outputs": [
    {
     "data": {
      "application/vnd.microsoft.datawrangler.viewer.v0+json": {
       "columns": [
        {
         "name": "index",
         "rawType": "object",
         "type": "string"
        },
        {
         "name": "0",
         "rawType": "object",
         "type": "unknown"
        }
       ],
       "ref": "7b0513ec-d00d-452f-80ed-11123ab836ee",
       "rows": [
        [
         "review_id",
         "object"
        ],
        [
         "order_id",
         "object"
        ],
        [
         "review_score",
         "int64"
        ],
        [
         "review_comment_title",
         "object"
        ],
        [
         "review_comment_message",
         "object"
        ],
        [
         "review_creation_date",
         "datetime64[ns]"
        ],
        [
         "review_answer_timestamp",
         "datetime64[ns]"
        ]
       ],
       "shape": {
        "columns": 1,
        "rows": 7
       }
      },
      "text/plain": [
       "review_id                          object\n",
       "order_id                           object\n",
       "review_score                        int64\n",
       "review_comment_title               object\n",
       "review_comment_message             object\n",
       "review_creation_date       datetime64[ns]\n",
       "review_answer_timestamp    datetime64[ns]\n",
       "dtype: object"
      ]
     },
     "execution_count": 55,
     "metadata": {},
     "output_type": "execute_result"
    }
   ],
   "source": [
    "reviews.dtypes"
   ]
  },
  {
   "cell_type": "markdown",
   "id": "d353cbd6",
   "metadata": {},
   "source": [
    "### *B. Extracting Latest 3-Month Data Snapshot from Orders and Related Tables*"
   ]
  },
  {
   "cell_type": "code",
   "execution_count": 56,
   "id": "091a4ad7",
   "metadata": {},
   "outputs": [],
   "source": [
    "# Step 1: Define latest 3-month window\n",
    "latest_date = orders['order_purchase_timestamp'].max()\n",
    "three_months_ago = latest_date - pd.DateOffset(months=3)\n",
    "\n",
    "# Step 2: Filter orders\n",
    "filtered_orders = orders[\n",
    "    orders['order_purchase_timestamp'] >= three_months_ago\n",
    "].copy()\n",
    "\n",
    "# Step 3: Get list of order_ids\n",
    "filtered_order_ids = filtered_orders['order_id'].unique()\n",
    "\n",
    "# Step 4: Filter related tables using order_id\n",
    "filtered_order_items = order_items[\n",
    "    order_items['order_id'].isin(filtered_order_ids)\n",
    "].copy()\n",
    "\n",
    "filtered_payments = payments[\n",
    "    payments['order_id'].isin(filtered_order_ids)\n",
    "].copy()\n",
    "\n",
    "filtered_reviews = reviews[\n",
    "    reviews['order_id'].isin(filtered_order_ids)\n",
    "].copy()\n",
    "\n",
    "# Step 5: Filter customers using customer_id from filtered_orders\n",
    "filtered_customers = customers[\n",
    "    customers['customer_id'].isin(filtered_orders['customer_id'])\n",
    "].copy()\n",
    "\n",
    "# Step 6: Filter products using product_id from filtered_order_items\n",
    "filtered_products = products[\n",
    "    products['product_id'].isin(filtered_order_items['product_id'])\n",
    "].copy()\n",
    "\n",
    "# Step 7: Filter sellers using seller_id from filtered_order_items\n",
    "filtered_sellers = sellers[\n",
    "    sellers['seller_id'].isin(filtered_order_items['seller_id'])\n",
    "].copy()\n",
    "\n",
    "# Step 8: Filter category translation using product_category_name from filtered_products\n",
    "filtered_categories = categories[\n",
    "    categories['product_category_name'].isin(filtered_products['product_category_name'])\n",
    "].copy()\n",
    "\n",
    "# Step 9: Filter geolocation using both customer and seller zip codes\n",
    "customer_zip_codes = filtered_customers['customer_zip_code_prefix'].unique()\n",
    "seller_zip_codes = filtered_sellers['seller_zip_code_prefix'].unique()\n",
    "all_zip_codes = pd.concat([\n",
    "    pd.Series(customer_zip_codes),\n",
    "    pd.Series(seller_zip_codes)\n",
    "]).unique()\n",
    "\n",
    "filtered_geo = geo[\n",
    "    geo['geolocation_zip_code_prefix'].isin(all_zip_codes)\n",
    "].copy()"
   ]
  },
  {
   "cell_type": "markdown",
   "id": "b2fc0c3a",
   "metadata": {},
   "source": [
    "___\n",
    "- To focus the analysis on the most recent three months of activity, the datasets were filtered based on the order_purchase_timestamp field. Orders falling within this time window were retained, and all other tables were subsequently filtered to include only the relevant records linked to these recent orders.\n",
    "\n",
    "- This filtering approach ensures consistency across all datasets. It also preserves the relational integrity necessary for downstream merging, analysis, and visualization. Redundant(unisng unique()) and unrelated entries were excluded, allowing for a cleaner, more focused subset of the data that reflects the latest consumer behavior and transactions\n",
    "____\n",
    "```python"
   ]
  },
  {
   "cell_type": "markdown",
   "id": "fd3fbc95",
   "metadata": {},
   "source": [
    "### *C.Merging All Filtered Data Based on Recent Orders (Last 3 Months)*\n"
   ]
  },
  {
   "cell_type": "code",
   "execution_count": 57,
   "id": "4c4c3d77",
   "metadata": {},
   "outputs": [],
   "source": [
    "# Start from filtered_orders to keep all recent orders\n",
    "df = filtered_orders.copy()\n",
    "\n",
    "# Merge with order_items (may create NaNs if no items for some orders indicating maay be incomplete or canceled orders)\n",
    "df = df.merge(filtered_order_items, on='order_id', how='left')\n",
    "\n",
    "# Merge with payments and reviews (still left join to retain all orders)\n",
    "df = df.merge(filtered_payments, on='order_id', how='left')\n",
    "df = df.merge(filtered_reviews, on='order_id', how='left')\n",
    "\n",
    "# Merge with customers using customer_id\n",
    "df = df.merge(filtered_customers, on='customer_id', how='left')\n",
    "\n",
    "# Merge with products and sellers (based on order_items info)\n",
    "df = df.merge(filtered_products, on='product_id', how='left')\n",
    "df = df.merge(filtered_sellers, on='seller_id', how='left')\n",
    "\n",
    "# Merge with product category translation\n",
    "df = df.merge(filtered_categories, on='product_category_name', how='left')\n",
    "\n",
    "# --------- Optional: Add geolocation info ---------\n",
    "\n",
    "# 1. Customer geolocation: average lat/lng by zip\n",
    "geo_avg_customer = filtered_geo.groupby('geolocation_zip_code_prefix')[\n",
    "    ['geolocation_lat', 'geolocation_lng']\n",
    "].mean().reset_index()\n",
    "\n",
    "geo_avg_customer.rename(columns={\n",
    "    'geolocation_zip_code_prefix': 'customer_zip_code_prefix',\n",
    "    'geolocation_lat': 'customer_lat',\n",
    "    'geolocation_lng': 'customer_lng'\n",
    "}, inplace=True)\n",
    "\n",
    "df = df.merge(geo_avg_customer, on='customer_zip_code_prefix', how='left')\n",
    "\n",
    "# 2. Seller geolocation: average lat/lng by zip\n",
    "geo_avg_seller = filtered_geo.groupby('geolocation_zip_code_prefix')[\n",
    "    ['geolocation_lat', 'geolocation_lng']\n",
    "].mean().reset_index()\n",
    "\n",
    "geo_avg_seller.rename(columns={\n",
    "    'geolocation_zip_code_prefix': 'seller_zip_code_prefix',\n",
    "    'geolocation_lat': 'seller_lat',\n",
    "    'geolocation_lng': 'seller_lng'\n",
    "}, inplace=True)\n",
    "\n",
    "df = df.merge(geo_avg_seller, on='seller_zip_code_prefix', how='left')\n"
   ]
  },
  {
   "cell_type": "code",
   "execution_count": 58,
   "id": "fdad4d0f",
   "metadata": {},
   "outputs": [
    {
     "name": "stdout",
     "output_type": "stream",
     "text": [
      "<class 'pandas.core.frame.DataFrame'>\n",
      "RangeIndex: 11777 entries, 0 to 11776\n",
      "Data columns (total 44 columns):\n",
      " #   Column                         Non-Null Count  Dtype         \n",
      "---  ------                         --------------  -----         \n",
      " 0   order_id                       11777 non-null  object        \n",
      " 1   customer_id                    11777 non-null  object        \n",
      " 2   order_status                   11777 non-null  object        \n",
      " 3   order_purchase_timestamp       11777 non-null  datetime64[ns]\n",
      " 4   order_approved_at              11704 non-null  object        \n",
      " 5   order_delivered_carrier_date   11584 non-null  datetime64[ns]\n",
      " 6   order_delivered_customer_date  11499 non-null  datetime64[ns]\n",
      " 7   order_estimated_delivery_date  11777 non-null  datetime64[ns]\n",
      " 8   order_item_id                  11684 non-null  float64       \n",
      " 9   product_id                     11684 non-null  object        \n",
      " 10  seller_id                      11684 non-null  object        \n",
      " 11  shipping_limit_date            11684 non-null  datetime64[ns]\n",
      " 12  price                          11684 non-null  float64       \n",
      " 13  freight_value                  11684 non-null  float64       \n",
      " 14  payment_sequential             11777 non-null  int64         \n",
      " 15  payment_type                   11777 non-null  object        \n",
      " 16  payment_installments           11777 non-null  int64         \n",
      " 17  payment_value                  11777 non-null  float64       \n",
      " 18  review_id                      11714 non-null  object        \n",
      " 19  review_score                   11714 non-null  float64       \n",
      " 20  review_comment_title           4359 non-null   object        \n",
      " 21  review_comment_message         4611 non-null   object        \n",
      " 22  review_creation_date           11714 non-null  datetime64[ns]\n",
      " 23  review_answer_timestamp        11714 non-null  datetime64[ns]\n",
      " 24  customer_unique_id             11777 non-null  object        \n",
      " 25  customer_zip_code_prefix       11777 non-null  int64         \n",
      " 26  customer_city                  11777 non-null  object        \n",
      " 27  customer_state                 11777 non-null  object        \n",
      " 28  product_category_name          11621 non-null  object        \n",
      " 29  product_name_lenght            11621 non-null  float64       \n",
      " 30  product_description_lenght     11621 non-null  float64       \n",
      " 31  product_photos_qty             11621 non-null  float64       \n",
      " 32  product_weight_g               11684 non-null  float64       \n",
      " 33  product_length_cm              11684 non-null  float64       \n",
      " 34  product_height_cm              11684 non-null  float64       \n",
      " 35  product_width_cm               11684 non-null  float64       \n",
      " 36  seller_zip_code_prefix         11684 non-null  float64       \n",
      " 37  seller_city                    11684 non-null  object        \n",
      " 38  seller_state                   11684 non-null  object        \n",
      " 39  product_category_name_english  11604 non-null  object        \n",
      " 40  customer_lat                   11744 non-null  float64       \n",
      " 41  customer_lng                   11744 non-null  float64       \n",
      " 42  seller_lat                     11673 non-null  float64       \n",
      " 43  seller_lng                     11673 non-null  float64       \n",
      "dtypes: datetime64[ns](7), float64(17), int64(3), object(17)\n",
      "memory usage: 4.0+ MB\n"
     ]
    }
   ],
   "source": [
    "df.info()"
   ]
  },
  {
   "cell_type": "code",
   "execution_count": 59,
   "id": "2d07187a",
   "metadata": {},
   "outputs": [
    {
     "name": "stdout",
     "output_type": "stream",
     "text": [
      "Final Filtered and Merged df:\n",
      "Earliest: 2018-07-17 17:32:09\n",
      "Latest: 2018-10-17 17:30:18\n"
     ]
    }
   ],
   "source": [
    "print(\"Final Filtered and Merged df:\")\n",
    "print(\"Earliest:\", df['order_purchase_timestamp'].min())\n",
    "print(\"Latest:\", df['order_purchase_timestamp'].max())"
   ]
  },
  {
   "cell_type": "markdown",
   "id": "d29972f0",
   "metadata": {},
   "source": [
    "___\n",
    "- After filtering the datasets to retain only the relevant records from the most recent three months, multiple data tables were merged to form a single, comprehensive DataFrame.\n",
    "\n",
    "- This merging process was performed using key identifiers such as order_id, customer_id, product_id, and seller_id to preserve the relational structure between orders, customers, products, payments, reviews, sellers, and geolocation data.\n",
    "\n",
    "- As a result, a unified dataset with 11,777 entries and 44 columns was created, containing detailed transaction-level information suitable for in-depth analysis. Temporal coverage in this final dataset ranges from 2018-07-17 to 2018-10-17. Missing values in some columns reflect real-world data gaps such as unreviewed orders or incomplete delivery records.\n",
    "___"
   ]
  },
  {
   "cell_type": "markdown",
   "id": "d0e49e83",
   "metadata": {},
   "source": [
    "### *D. Check for duplicates*"
   ]
  },
  {
   "cell_type": "code",
   "execution_count": 60,
   "id": "e3ac2894",
   "metadata": {},
   "outputs": [
    {
     "data": {
      "text/plain": [
       "0"
      ]
     },
     "execution_count": 60,
     "metadata": {},
     "output_type": "execute_result"
    }
   ],
   "source": [
    "df.duplicated().sum()"
   ]
  },
  {
   "cell_type": "markdown",
   "id": "f5870c3e",
   "metadata": {},
   "source": [
    "___\n",
    "- No duplicate entries were found in the final merged DataFrame, ensuring data integrity for analysis.\n",
    "____\n",
    "```python"
   ]
  },
  {
   "cell_type": "markdown",
   "id": "1f13affd",
   "metadata": {},
   "source": [
    "### *E. Check for Missing Values and fill accordingly*"
   ]
  },
  {
   "cell_type": "code",
   "execution_count": 61,
   "id": "15ae1e52",
   "metadata": {},
   "outputs": [
    {
     "data": {
      "application/vnd.microsoft.datawrangler.viewer.v0+json": {
       "columns": [
        {
         "name": "index",
         "rawType": "object",
         "type": "string"
        },
        {
         "name": "Missing Values",
         "rawType": "int64",
         "type": "integer"
        },
        {
         "name": "Percentage",
         "rawType": "float64",
         "type": "float"
        }
       ],
       "ref": "01f97a3d-d57a-4304-a5f3-a3dc4730f1d2",
       "rows": [
        [
         "review_comment_title",
         "7418",
         "62.99"
        ],
        [
         "review_comment_message",
         "7166",
         "60.85"
        ],
        [
         "order_delivered_customer_date",
         "278",
         "2.36"
        ],
        [
         "order_delivered_carrier_date",
         "193",
         "1.64"
        ],
        [
         "product_category_name_english",
         "173",
         "1.47"
        ],
        [
         "product_category_name",
         "156",
         "1.32"
        ],
        [
         "product_photos_qty",
         "156",
         "1.32"
        ],
        [
         "product_description_lenght",
         "156",
         "1.32"
        ],
        [
         "product_name_lenght",
         "156",
         "1.32"
        ],
        [
         "seller_lat",
         "104",
         "0.88"
        ],
        [
         "seller_lng",
         "104",
         "0.88"
        ],
        [
         "product_height_cm",
         "93",
         "0.79"
        ],
        [
         "seller_city",
         "93",
         "0.79"
        ],
        [
         "order_item_id",
         "93",
         "0.79"
        ],
        [
         "product_id",
         "93",
         "0.79"
        ],
        [
         "freight_value",
         "93",
         "0.79"
        ],
        [
         "price",
         "93",
         "0.79"
        ],
        [
         "shipping_limit_date",
         "93",
         "0.79"
        ],
        [
         "seller_id",
         "93",
         "0.79"
        ],
        [
         "product_weight_g",
         "93",
         "0.79"
        ],
        [
         "product_length_cm",
         "93",
         "0.79"
        ],
        [
         "seller_state",
         "93",
         "0.79"
        ],
        [
         "product_width_cm",
         "93",
         "0.79"
        ],
        [
         "seller_zip_code_prefix",
         "93",
         "0.79"
        ],
        [
         "order_approved_at",
         "73",
         "0.62"
        ],
        [
         "review_id",
         "63",
         "0.53"
        ],
        [
         "review_answer_timestamp",
         "63",
         "0.53"
        ],
        [
         "review_creation_date",
         "63",
         "0.53"
        ],
        [
         "review_score",
         "63",
         "0.53"
        ],
        [
         "customer_lat",
         "33",
         "0.28"
        ],
        [
         "customer_lng",
         "33",
         "0.28"
        ]
       ],
       "shape": {
        "columns": 2,
        "rows": 31
       }
      },
      "text/html": [
       "<div>\n",
       "<style scoped>\n",
       "    .dataframe tbody tr th:only-of-type {\n",
       "        vertical-align: middle;\n",
       "    }\n",
       "\n",
       "    .dataframe tbody tr th {\n",
       "        vertical-align: top;\n",
       "    }\n",
       "\n",
       "    .dataframe thead th {\n",
       "        text-align: right;\n",
       "    }\n",
       "</style>\n",
       "<table border=\"1\" class=\"dataframe\">\n",
       "  <thead>\n",
       "    <tr style=\"text-align: right;\">\n",
       "      <th></th>\n",
       "      <th>Missing Values</th>\n",
       "      <th>Percentage</th>\n",
       "    </tr>\n",
       "  </thead>\n",
       "  <tbody>\n",
       "    <tr>\n",
       "      <th>review_comment_title</th>\n",
       "      <td>7418</td>\n",
       "      <td>62.99</td>\n",
       "    </tr>\n",
       "    <tr>\n",
       "      <th>review_comment_message</th>\n",
       "      <td>7166</td>\n",
       "      <td>60.85</td>\n",
       "    </tr>\n",
       "    <tr>\n",
       "      <th>order_delivered_customer_date</th>\n",
       "      <td>278</td>\n",
       "      <td>2.36</td>\n",
       "    </tr>\n",
       "    <tr>\n",
       "      <th>order_delivered_carrier_date</th>\n",
       "      <td>193</td>\n",
       "      <td>1.64</td>\n",
       "    </tr>\n",
       "    <tr>\n",
       "      <th>product_category_name_english</th>\n",
       "      <td>173</td>\n",
       "      <td>1.47</td>\n",
       "    </tr>\n",
       "    <tr>\n",
       "      <th>product_category_name</th>\n",
       "      <td>156</td>\n",
       "      <td>1.32</td>\n",
       "    </tr>\n",
       "    <tr>\n",
       "      <th>product_photos_qty</th>\n",
       "      <td>156</td>\n",
       "      <td>1.32</td>\n",
       "    </tr>\n",
       "    <tr>\n",
       "      <th>product_description_lenght</th>\n",
       "      <td>156</td>\n",
       "      <td>1.32</td>\n",
       "    </tr>\n",
       "    <tr>\n",
       "      <th>product_name_lenght</th>\n",
       "      <td>156</td>\n",
       "      <td>1.32</td>\n",
       "    </tr>\n",
       "    <tr>\n",
       "      <th>seller_lat</th>\n",
       "      <td>104</td>\n",
       "      <td>0.88</td>\n",
       "    </tr>\n",
       "    <tr>\n",
       "      <th>seller_lng</th>\n",
       "      <td>104</td>\n",
       "      <td>0.88</td>\n",
       "    </tr>\n",
       "    <tr>\n",
       "      <th>product_height_cm</th>\n",
       "      <td>93</td>\n",
       "      <td>0.79</td>\n",
       "    </tr>\n",
       "    <tr>\n",
       "      <th>seller_city</th>\n",
       "      <td>93</td>\n",
       "      <td>0.79</td>\n",
       "    </tr>\n",
       "    <tr>\n",
       "      <th>order_item_id</th>\n",
       "      <td>93</td>\n",
       "      <td>0.79</td>\n",
       "    </tr>\n",
       "    <tr>\n",
       "      <th>product_id</th>\n",
       "      <td>93</td>\n",
       "      <td>0.79</td>\n",
       "    </tr>\n",
       "    <tr>\n",
       "      <th>freight_value</th>\n",
       "      <td>93</td>\n",
       "      <td>0.79</td>\n",
       "    </tr>\n",
       "    <tr>\n",
       "      <th>price</th>\n",
       "      <td>93</td>\n",
       "      <td>0.79</td>\n",
       "    </tr>\n",
       "    <tr>\n",
       "      <th>shipping_limit_date</th>\n",
       "      <td>93</td>\n",
       "      <td>0.79</td>\n",
       "    </tr>\n",
       "    <tr>\n",
       "      <th>seller_id</th>\n",
       "      <td>93</td>\n",
       "      <td>0.79</td>\n",
       "    </tr>\n",
       "    <tr>\n",
       "      <th>product_weight_g</th>\n",
       "      <td>93</td>\n",
       "      <td>0.79</td>\n",
       "    </tr>\n",
       "    <tr>\n",
       "      <th>product_length_cm</th>\n",
       "      <td>93</td>\n",
       "      <td>0.79</td>\n",
       "    </tr>\n",
       "    <tr>\n",
       "      <th>seller_state</th>\n",
       "      <td>93</td>\n",
       "      <td>0.79</td>\n",
       "    </tr>\n",
       "    <tr>\n",
       "      <th>product_width_cm</th>\n",
       "      <td>93</td>\n",
       "      <td>0.79</td>\n",
       "    </tr>\n",
       "    <tr>\n",
       "      <th>seller_zip_code_prefix</th>\n",
       "      <td>93</td>\n",
       "      <td>0.79</td>\n",
       "    </tr>\n",
       "    <tr>\n",
       "      <th>order_approved_at</th>\n",
       "      <td>73</td>\n",
       "      <td>0.62</td>\n",
       "    </tr>\n",
       "    <tr>\n",
       "      <th>review_id</th>\n",
       "      <td>63</td>\n",
       "      <td>0.53</td>\n",
       "    </tr>\n",
       "    <tr>\n",
       "      <th>review_answer_timestamp</th>\n",
       "      <td>63</td>\n",
       "      <td>0.53</td>\n",
       "    </tr>\n",
       "    <tr>\n",
       "      <th>review_creation_date</th>\n",
       "      <td>63</td>\n",
       "      <td>0.53</td>\n",
       "    </tr>\n",
       "    <tr>\n",
       "      <th>review_score</th>\n",
       "      <td>63</td>\n",
       "      <td>0.53</td>\n",
       "    </tr>\n",
       "    <tr>\n",
       "      <th>customer_lat</th>\n",
       "      <td>33</td>\n",
       "      <td>0.28</td>\n",
       "    </tr>\n",
       "    <tr>\n",
       "      <th>customer_lng</th>\n",
       "      <td>33</td>\n",
       "      <td>0.28</td>\n",
       "    </tr>\n",
       "  </tbody>\n",
       "</table>\n",
       "</div>"
      ],
      "text/plain": [
       "                               Missing Values  Percentage\n",
       "review_comment_title                     7418       62.99\n",
       "review_comment_message                   7166       60.85\n",
       "order_delivered_customer_date             278        2.36\n",
       "order_delivered_carrier_date              193        1.64\n",
       "product_category_name_english             173        1.47\n",
       "product_category_name                     156        1.32\n",
       "product_photos_qty                        156        1.32\n",
       "product_description_lenght                156        1.32\n",
       "product_name_lenght                       156        1.32\n",
       "seller_lat                                104        0.88\n",
       "seller_lng                                104        0.88\n",
       "product_height_cm                          93        0.79\n",
       "seller_city                                93        0.79\n",
       "order_item_id                              93        0.79\n",
       "product_id                                 93        0.79\n",
       "freight_value                              93        0.79\n",
       "price                                      93        0.79\n",
       "shipping_limit_date                        93        0.79\n",
       "seller_id                                  93        0.79\n",
       "product_weight_g                           93        0.79\n",
       "product_length_cm                          93        0.79\n",
       "seller_state                               93        0.79\n",
       "product_width_cm                           93        0.79\n",
       "seller_zip_code_prefix                     93        0.79\n",
       "order_approved_at                          73        0.62\n",
       "review_id                                  63        0.53\n",
       "review_answer_timestamp                    63        0.53\n",
       "review_creation_date                       63        0.53\n",
       "review_score                               63        0.53\n",
       "customer_lat                               33        0.28\n",
       "customer_lng                               33        0.28"
      ]
     },
     "execution_count": 61,
     "metadata": {},
     "output_type": "execute_result"
    }
   ],
   "source": [
    "# Percentage of missing values\n",
    "missing_percent = (df.isnull().mean() * 100).round(2)\n",
    "missing_summary = pd.DataFrame({\n",
    "    'Missing Values': df.isnull().sum(),\n",
    "    'Percentage': missing_percent\n",
    "})\n",
    "missing_summary = missing_summary[missing_summary['Missing Values'] > 0].sort_values(by='Missing Values', ascending=False)\n",
    "\n",
    "missing_summary"
   ]
  },
  {
   "cell_type": "markdown",
   "id": "daeff62a",
   "metadata": {},
   "source": [
    "#### Remove columns with more than 50% missing values"
   ]
  },
  {
   "cell_type": "code",
   "execution_count": 62,
   "id": "3183a382",
   "metadata": {},
   "outputs": [],
   "source": [
    "# Remove columns with more than 50% missing values\n",
    "threshold = 0.5  # 50%\n",
    "df = df.loc[:, df.isnull().mean() <= threshold]"
   ]
  },
  {
   "cell_type": "markdown",
   "id": "a34b9611",
   "metadata": {},
   "source": [
    "#### Fill datetime columns with a related datetime column (if known), else use forward fill"
   ]
  },
  {
   "cell_type": "code",
   "execution_count": 63,
   "id": "14343e46",
   "metadata": {},
   "outputs": [],
   "source": [
    "import warnings\n",
    "\n",
    "# Suppress all warnings \n",
    "warnings.filterwarnings('ignore')\n",
    "\n",
    "# Fill datetime columns with a related datetime column (if known), else use forward fill\n",
    "datetime_cols = df.select_dtypes(include='datetime64[ns]').columns\n",
    "\n",
    "for col in datetime_cols:\n",
    "    if col == 'order_approved_at':\n",
    "        df[col] = df[col].fillna(df['order_purchase_timestamp'])  # domain-specific logic\n",
    "    else:\n",
    "        df[col] = df[col].fillna(method='ffill')  # forward fill as default for datetime"
   ]
  },
  {
   "cell_type": "markdown",
   "id": "04003b68",
   "metadata": {},
   "source": [
    "#### Fill missing numeric values with mean or median using skewness check"
   ]
  },
  {
   "cell_type": "code",
   "execution_count": 64,
   "id": "61f1ca88",
   "metadata": {},
   "outputs": [],
   "source": [
    "numeric_cols = df.select_dtypes(include=['float64', 'int64']).columns\n",
    "\n",
    "for col in numeric_cols:\n",
    "    if df[col].isnull().sum() > 0:  # only process columns with missing values\n",
    "        skewness = df[col].skew()\n",
    "        if abs(skewness) > 1:  # high skew: use median\n",
    "            df[col] = df[col].fillna(df[col].median())\n",
    "        else:  # low or moderate skew: use mean\n",
    "            df[col] = df[col].fillna(df[col].mean())"
   ]
  },
  {
   "cell_type": "markdown",
   "id": "03c43eaf",
   "metadata": {},
   "source": [
    "#### Fill object (categorical) columns with mode"
   ]
  },
  {
   "cell_type": "code",
   "execution_count": 65,
   "id": "e0efe333",
   "metadata": {},
   "outputs": [],
   "source": [
    "# Fill object (categorical) columns with mode\n",
    "object_cols = df.select_dtypes(include='object').columns\n",
    "\n",
    "for col in object_cols:\n",
    "    if df[col].isnull().any():\n",
    "        mode_value = df[col].mode().iloc[0] if not df[col].mode().empty else 'unknown'\n",
    "        df[col] = df[col].fillna(mode_value)\n"
   ]
  },
  {
   "cell_type": "markdown",
   "id": "f113f4cf",
   "metadata": {},
   "source": [
    "#### Verify/Check the missing values after filling"
   ]
  },
  {
   "cell_type": "code",
   "execution_count": 66,
   "id": "44403206",
   "metadata": {},
   "outputs": [
    {
     "data": {
      "application/vnd.microsoft.datawrangler.viewer.v0+json": {
       "columns": [
        {
         "name": "index",
         "rawType": "object",
         "type": "string"
        },
        {
         "name": "0",
         "rawType": "int64",
         "type": "integer"
        }
       ],
       "ref": "6cf7ebb0-27ff-4b72-8544-5fc9ebb4801b",
       "rows": [
        [
         "order_id",
         "0"
        ],
        [
         "customer_id",
         "0"
        ],
        [
         "order_status",
         "0"
        ],
        [
         "order_purchase_timestamp",
         "0"
        ],
        [
         "order_approved_at",
         "0"
        ],
        [
         "order_delivered_carrier_date",
         "0"
        ],
        [
         "order_delivered_customer_date",
         "0"
        ],
        [
         "order_estimated_delivery_date",
         "0"
        ],
        [
         "order_item_id",
         "0"
        ],
        [
         "product_id",
         "0"
        ],
        [
         "seller_id",
         "0"
        ],
        [
         "shipping_limit_date",
         "0"
        ],
        [
         "price",
         "0"
        ],
        [
         "freight_value",
         "0"
        ],
        [
         "payment_sequential",
         "0"
        ],
        [
         "payment_type",
         "0"
        ],
        [
         "payment_installments",
         "0"
        ],
        [
         "payment_value",
         "0"
        ],
        [
         "review_id",
         "0"
        ],
        [
         "review_score",
         "0"
        ],
        [
         "review_creation_date",
         "0"
        ],
        [
         "review_answer_timestamp",
         "0"
        ],
        [
         "customer_unique_id",
         "0"
        ],
        [
         "customer_zip_code_prefix",
         "0"
        ],
        [
         "customer_city",
         "0"
        ],
        [
         "customer_state",
         "0"
        ],
        [
         "product_category_name",
         "0"
        ],
        [
         "product_name_lenght",
         "0"
        ],
        [
         "product_description_lenght",
         "0"
        ],
        [
         "product_photos_qty",
         "0"
        ],
        [
         "product_weight_g",
         "0"
        ],
        [
         "product_length_cm",
         "0"
        ],
        [
         "product_height_cm",
         "0"
        ],
        [
         "product_width_cm",
         "0"
        ],
        [
         "seller_zip_code_prefix",
         "0"
        ],
        [
         "seller_city",
         "0"
        ],
        [
         "seller_state",
         "0"
        ],
        [
         "product_category_name_english",
         "0"
        ],
        [
         "customer_lat",
         "0"
        ],
        [
         "customer_lng",
         "0"
        ],
        [
         "seller_lat",
         "0"
        ],
        [
         "seller_lng",
         "0"
        ]
       ],
       "shape": {
        "columns": 1,
        "rows": 42
       }
      },
      "text/plain": [
       "order_id                         0\n",
       "customer_id                      0\n",
       "order_status                     0\n",
       "order_purchase_timestamp         0\n",
       "order_approved_at                0\n",
       "order_delivered_carrier_date     0\n",
       "order_delivered_customer_date    0\n",
       "order_estimated_delivery_date    0\n",
       "order_item_id                    0\n",
       "product_id                       0\n",
       "seller_id                        0\n",
       "shipping_limit_date              0\n",
       "price                            0\n",
       "freight_value                    0\n",
       "payment_sequential               0\n",
       "payment_type                     0\n",
       "payment_installments             0\n",
       "payment_value                    0\n",
       "review_id                        0\n",
       "review_score                     0\n",
       "review_creation_date             0\n",
       "review_answer_timestamp          0\n",
       "customer_unique_id               0\n",
       "customer_zip_code_prefix         0\n",
       "customer_city                    0\n",
       "customer_state                   0\n",
       "product_category_name            0\n",
       "product_name_lenght              0\n",
       "product_description_lenght       0\n",
       "product_photos_qty               0\n",
       "product_weight_g                 0\n",
       "product_length_cm                0\n",
       "product_height_cm                0\n",
       "product_width_cm                 0\n",
       "seller_zip_code_prefix           0\n",
       "seller_city                      0\n",
       "seller_state                     0\n",
       "product_category_name_english    0\n",
       "customer_lat                     0\n",
       "customer_lng                     0\n",
       "seller_lat                       0\n",
       "seller_lng                       0\n",
       "dtype: int64"
      ]
     },
     "execution_count": 66,
     "metadata": {},
     "output_type": "execute_result"
    }
   ],
   "source": [
    "df.isnull().sum()\n"
   ]
  },
  {
   "cell_type": "code",
   "execution_count": 67,
   "id": "e7027d55",
   "metadata": {},
   "outputs": [
    {
     "name": "stdout",
     "output_type": "stream",
     "text": [
      "<class 'pandas.core.frame.DataFrame'>\n",
      "RangeIndex: 11777 entries, 0 to 11776\n",
      "Data columns (total 42 columns):\n",
      " #   Column                         Non-Null Count  Dtype         \n",
      "---  ------                         --------------  -----         \n",
      " 0   order_id                       11777 non-null  object        \n",
      " 1   customer_id                    11777 non-null  object        \n",
      " 2   order_status                   11777 non-null  object        \n",
      " 3   order_purchase_timestamp       11777 non-null  datetime64[ns]\n",
      " 4   order_approved_at              11777 non-null  object        \n",
      " 5   order_delivered_carrier_date   11777 non-null  datetime64[ns]\n",
      " 6   order_delivered_customer_date  11777 non-null  datetime64[ns]\n",
      " 7   order_estimated_delivery_date  11777 non-null  datetime64[ns]\n",
      " 8   order_item_id                  11777 non-null  float64       \n",
      " 9   product_id                     11777 non-null  object        \n",
      " 10  seller_id                      11777 non-null  object        \n",
      " 11  shipping_limit_date            11777 non-null  datetime64[ns]\n",
      " 12  price                          11777 non-null  float64       \n",
      " 13  freight_value                  11777 non-null  float64       \n",
      " 14  payment_sequential             11777 non-null  int64         \n",
      " 15  payment_type                   11777 non-null  object        \n",
      " 16  payment_installments           11777 non-null  int64         \n",
      " 17  payment_value                  11777 non-null  float64       \n",
      " 18  review_id                      11777 non-null  object        \n",
      " 19  review_score                   11777 non-null  float64       \n",
      " 20  review_creation_date           11777 non-null  datetime64[ns]\n",
      " 21  review_answer_timestamp        11777 non-null  datetime64[ns]\n",
      " 22  customer_unique_id             11777 non-null  object        \n",
      " 23  customer_zip_code_prefix       11777 non-null  int64         \n",
      " 24  customer_city                  11777 non-null  object        \n",
      " 25  customer_state                 11777 non-null  object        \n",
      " 26  product_category_name          11777 non-null  object        \n",
      " 27  product_name_lenght            11777 non-null  float64       \n",
      " 28  product_description_lenght     11777 non-null  float64       \n",
      " 29  product_photos_qty             11777 non-null  float64       \n",
      " 30  product_weight_g               11777 non-null  float64       \n",
      " 31  product_length_cm              11777 non-null  float64       \n",
      " 32  product_height_cm              11777 non-null  float64       \n",
      " 33  product_width_cm               11777 non-null  float64       \n",
      " 34  seller_zip_code_prefix         11777 non-null  float64       \n",
      " 35  seller_city                    11777 non-null  object        \n",
      " 36  seller_state                   11777 non-null  object        \n",
      " 37  product_category_name_english  11777 non-null  object        \n",
      " 38  customer_lat                   11777 non-null  float64       \n",
      " 39  customer_lng                   11777 non-null  float64       \n",
      " 40  seller_lat                     11777 non-null  float64       \n",
      " 41  seller_lng                     11777 non-null  float64       \n",
      "dtypes: datetime64[ns](7), float64(17), int64(3), object(15)\n",
      "memory usage: 3.8+ MB\n"
     ]
    }
   ],
   "source": [
    "df.info()"
   ]
  },
  {
   "cell_type": "markdown",
   "id": "3e92ae91",
   "metadata": {},
   "source": [
    "### *F. Add Calculated Fields*"
   ]
  },
  {
   "cell_type": "markdown",
   "id": "d6d8f416",
   "metadata": {},
   "source": [
    "#### Purchase Frequency per Customer"
   ]
  },
  {
   "cell_type": "code",
   "execution_count": 68,
   "id": "a70b69ee",
   "metadata": {},
   "outputs": [
    {
     "name": "stdout",
     "output_type": "stream",
     "text": [
      "purchase_frequency\n",
      "1    11447\n",
      "2      272\n",
      "3       30\n",
      "4       28\n",
      "Name: count, dtype: int64\n"
     ]
    }
   ],
   "source": [
    "# Step 1: Recalculate purchase frequency\n",
    "purchase_freq = df.groupby('customer_unique_id')['order_id'].nunique()\n",
    "\n",
    "# Step 2: Map it back to df\n",
    "df['purchase_frequency'] = df['customer_unique_id'].map(purchase_freq)\n",
    "\n",
    "# Step 3: Double-check it looks right before exporting\n",
    "print(df['purchase_frequency'].value_counts().sort_index())\n",
    "\n"
   ]
  },
  {
   "cell_type": "markdown",
   "id": "4ebff4f8",
   "metadata": {},
   "source": [
    "___\n",
    "To understand **how often each customer makes a purchase**, **Purchase frequency** based on unique order IDs associated with each customer was calculated.\n",
    "\n",
    "- Helps identify **repeat customers** vs. **one-time buyers**\n",
    "- Enables **customer segmentation** based on loyalty or shopping behavior\n",
    "- Useful for **marketing strategies**, and **customer lifetime value** analysis\n",
    "___\n"
   ]
  },
  {
   "cell_type": "markdown",
   "id": "4cdc574f",
   "metadata": {},
   "source": [
    "### *G. Handle Outliers* "
   ]
  },
  {
   "cell_type": "code",
   "execution_count": 69,
   "id": "91250c30",
   "metadata": {},
   "outputs": [],
   "source": [
    "import numpy as np\n",
    "\n",
    "# Step 1: Select numeric columns excluding 'purchase_frequency' and 'square'\n",
    "exclude_cols = ['purchase_frequency', 'review_score']\n",
    "numeric_cols = df.select_dtypes(include=['float64', 'int64']).columns\n",
    "numeric_cols = [col for col in numeric_cols if col not in exclude_cols]\n",
    "\n",
    "# Step 2: IQR-based outlier capping\n",
    "for col in numeric_cols:\n",
    "    Q1 = df[col].quantile(0.25)\n",
    "    Q3 = df[col].quantile(0.75)\n",
    "    IQR = Q3 - Q1\n",
    "    lower = Q1 - 1.5 * IQR\n",
    "    upper = Q3 + 1.5 * IQR\n",
    "\n",
    "    df[col] = np.where(df[col] > upper, upper,\n",
    "                       np.where(df[col] < lower, lower, df[col]))\n"
   ]
  },
  {
   "cell_type": "markdown",
   "id": "b2831a6f",
   "metadata": {},
   "source": [
    "___\n",
    "##### Handling Outliers Using the IQR Method\n",
    "This code handles outliers in all numeric columns using the **IQR (Interquartile Range)** method by **capping** them:\n",
    "\n",
    "- Outliers **below the lower bound** are replaced with the **lower bound value**\n",
    "- Outliers **above the upper bound** are replaced with the **upper bound value**\n",
    "- Values **within bounds** are left unchanged\n",
    "\n",
    "\n",
    "##### Why It's Used\n",
    "- Reduces noise in the dataset without removing rows  \n",
    "- Keeps extreme values from skewing models or visualizations  \n",
    "- Maintains data size while improving quality\n",
    "____\n",
    "```python\n"
   ]
  },
  {
   "cell_type": "code",
   "execution_count": 70,
   "id": "b61f0348",
   "metadata": {},
   "outputs": [
    {
     "name": "stdout",
     "output_type": "stream",
     "text": [
      "purchase_frequency\n",
      "1    11447\n",
      "2      272\n",
      "3       30\n",
      "4       28\n",
      "Name: count, dtype: int64\n"
     ]
    }
   ],
   "source": [
    "print(df['purchase_frequency'].value_counts().sort_index())"
   ]
  },
  {
   "cell_type": "markdown",
   "id": "0cb5eef0",
   "metadata": {},
   "source": [
    "### *H. Standardize Formats & Remove Noise*"
   ]
  },
  {
   "cell_type": "markdown",
   "id": "b5f51c90",
   "metadata": {},
   "source": [
    "##### Ensuring consistent formats across all object (string) columns"
   ]
  },
  {
   "cell_type": "code",
   "execution_count": 71,
   "id": "90a8c79f",
   "metadata": {},
   "outputs": [],
   "source": [
    "object_cols = df.select_dtypes(include='object').columns\n",
    "\n",
    "for col in object_cols:\n",
    "    df[col] = df[col].astype(str).str.lower().str.strip()"
   ]
  },
  {
   "cell_type": "markdown",
   "id": "78a8830c",
   "metadata": {},
   "source": [
    "___\n",
    "This code cleans all object (text) columns by applying three transformations:\n",
    "\n",
    "- **`astype(str)`**:  \n",
    "  Ensures the column is treated as a string (even if some values are not).\n",
    "  The main reason we're converting object columns to str is because the rest of functions\n",
    "  are .str accessor methods that only work safely and consistently on string data.\n",
    "\n",
    "- **`.str.lower()`**:  \n",
    "  Converts all text to **lowercase**.  \n",
    "  Example: `'Delivered'` → `'delivered'`  \n",
    "  Useful for consistency during comparison, grouping, etc.\n",
    "\n",
    "- **`.str.strip()`**:  \n",
    "  Removes **leading and trailing whitespace**.  \n",
    "  Example: `' shipped '` → `'shipped'`  \n",
    "  Prevents issues where `'shipped '` ≠ `'shipped'`.\n",
    "\n",
    "##### Why It’s Important\n",
    "\n",
    "- Makes data **uniform and consistent**\n",
    "- Prevents errors in **filtering, grouping, or merging**\n",
    "___"
   ]
  },
  {
   "cell_type": "markdown",
   "id": "bb653a83",
   "metadata": {},
   "source": [
    "##### Datatype Conversion"
   ]
  },
  {
   "cell_type": "code",
   "execution_count": 72,
   "id": "30132995",
   "metadata": {},
   "outputs": [],
   "source": [
    "df['order_item_id'] = df['order_item_id'].astype(str)\n",
    "df['seller_zip_code_prefix'] = df['seller_zip_code_prefix'].astype(str)"
   ]
  },
  {
   "cell_type": "code",
   "execution_count": 73,
   "id": "eb37310b",
   "metadata": {},
   "outputs": [],
   "source": [
    "columns_to_int = [\n",
    "    'review_score',\n",
    "    'product_name_lenght',\n",
    "    'product_description_lenght',\n",
    "    'product_photos_qty',\n",
    "]\n",
    "\n",
    "# Convert using astype after handling any potential NaN or float values\n",
    "for col in columns_to_int:\n",
    "    df[col] = df[col].round().astype('Int64')  # 'Int64' allows for missing values"
   ]
  },
  {
   "cell_type": "markdown",
   "id": "22360c8f",
   "metadata": {},
   "source": [
    "#### Verify/Check the data types of each DataFrame to ensure successful conversion."
   ]
  },
  {
   "cell_type": "code",
   "execution_count": 74,
   "id": "aad2e83b",
   "metadata": {},
   "outputs": [
    {
     "name": "stdout",
     "output_type": "stream",
     "text": [
      "object\n",
      "object\n"
     ]
    }
   ],
   "source": [
    "print(df['order_item_id'].dtype)\n",
    "print(df['seller_zip_code_prefix'].dtype)"
   ]
  },
  {
   "cell_type": "code",
   "execution_count": 75,
   "id": "b0d51098",
   "metadata": {},
   "outputs": [
    {
     "name": "stdout",
     "output_type": "stream",
     "text": [
      "review_score                  Int64\n",
      "product_name_lenght           Int64\n",
      "product_description_lenght    Int64\n",
      "product_photos_qty            Int64\n",
      "dtype: object\n"
     ]
    }
   ],
   "source": [
    "# view selected columns' data types\n",
    "columns_to_int = [\n",
    "    'review_score',\n",
    "    'product_name_lenght',\n",
    "    'product_description_lenght',\n",
    "    'product_photos_qty',\n",
    "]\n",
    "\n",
    "print(df[columns_to_int].dtypes)"
   ]
  },
  {
   "cell_type": "code",
   "execution_count": 76,
   "id": "26e2891b",
   "metadata": {},
   "outputs": [],
   "source": [
    "# Step 4: Export to CSV\n",
    "df.to_csv('../data/transformed/transformed_data.csv', index=False)"
   ]
  },
  {
   "cell_type": "markdown",
   "id": "997a6111",
   "metadata": {},
   "source": [
    "## **3. Loading**"
   ]
  },
  {
   "cell_type": "code",
   "execution_count": 77,
   "id": "4940c925",
   "metadata": {},
   "outputs": [],
   "source": [
    "import pandas as pd\n",
    "\n",
    "# Load the transformed CSV data\n",
    "df_transformed = pd.read_csv('../data/transformed/transformed_data.csv')"
   ]
  },
  {
   "cell_type": "code",
   "execution_count": 78,
   "id": "e4ca3dd0",
   "metadata": {},
   "outputs": [
    {
     "data": {
      "application/vnd.microsoft.datawrangler.viewer.v0+json": {
       "columns": [
        {
         "name": "index",
         "rawType": "int64",
         "type": "integer"
        },
        {
         "name": "order_id",
         "rawType": "object",
         "type": "string"
        },
        {
         "name": "customer_id",
         "rawType": "object",
         "type": "string"
        },
        {
         "name": "order_status",
         "rawType": "object",
         "type": "string"
        },
        {
         "name": "order_purchase_timestamp",
         "rawType": "object",
         "type": "string"
        },
        {
         "name": "order_approved_at",
         "rawType": "object",
         "type": "string"
        },
        {
         "name": "order_delivered_carrier_date",
         "rawType": "object",
         "type": "string"
        },
        {
         "name": "order_delivered_customer_date",
         "rawType": "object",
         "type": "string"
        },
        {
         "name": "order_estimated_delivery_date",
         "rawType": "object",
         "type": "string"
        },
        {
         "name": "order_item_id",
         "rawType": "float64",
         "type": "float"
        },
        {
         "name": "product_id",
         "rawType": "object",
         "type": "string"
        },
        {
         "name": "seller_id",
         "rawType": "object",
         "type": "string"
        },
        {
         "name": "shipping_limit_date",
         "rawType": "object",
         "type": "string"
        },
        {
         "name": "price",
         "rawType": "float64",
         "type": "float"
        },
        {
         "name": "freight_value",
         "rawType": "float64",
         "type": "float"
        },
        {
         "name": "payment_sequential",
         "rawType": "float64",
         "type": "float"
        },
        {
         "name": "payment_type",
         "rawType": "object",
         "type": "string"
        },
        {
         "name": "payment_installments",
         "rawType": "float64",
         "type": "float"
        },
        {
         "name": "payment_value",
         "rawType": "float64",
         "type": "float"
        },
        {
         "name": "review_id",
         "rawType": "object",
         "type": "string"
        },
        {
         "name": "review_score",
         "rawType": "int64",
         "type": "integer"
        },
        {
         "name": "review_creation_date",
         "rawType": "object",
         "type": "string"
        },
        {
         "name": "review_answer_timestamp",
         "rawType": "object",
         "type": "string"
        },
        {
         "name": "customer_unique_id",
         "rawType": "object",
         "type": "string"
        },
        {
         "name": "customer_zip_code_prefix",
         "rawType": "float64",
         "type": "float"
        },
        {
         "name": "customer_city",
         "rawType": "object",
         "type": "string"
        },
        {
         "name": "customer_state",
         "rawType": "object",
         "type": "string"
        },
        {
         "name": "product_category_name",
         "rawType": "object",
         "type": "string"
        },
        {
         "name": "product_name_lenght",
         "rawType": "int64",
         "type": "integer"
        },
        {
         "name": "product_description_lenght",
         "rawType": "int64",
         "type": "integer"
        },
        {
         "name": "product_photos_qty",
         "rawType": "int64",
         "type": "integer"
        },
        {
         "name": "product_weight_g",
         "rawType": "float64",
         "type": "float"
        },
        {
         "name": "product_length_cm",
         "rawType": "float64",
         "type": "float"
        },
        {
         "name": "product_height_cm",
         "rawType": "float64",
         "type": "float"
        },
        {
         "name": "product_width_cm",
         "rawType": "float64",
         "type": "float"
        },
        {
         "name": "seller_zip_code_prefix",
         "rawType": "float64",
         "type": "float"
        },
        {
         "name": "seller_city",
         "rawType": "object",
         "type": "string"
        },
        {
         "name": "seller_state",
         "rawType": "object",
         "type": "string"
        },
        {
         "name": "product_category_name_english",
         "rawType": "object",
         "type": "string"
        },
        {
         "name": "customer_lat",
         "rawType": "float64",
         "type": "float"
        },
        {
         "name": "customer_lng",
         "rawType": "float64",
         "type": "float"
        },
        {
         "name": "seller_lat",
         "rawType": "float64",
         "type": "float"
        },
        {
         "name": "seller_lng",
         "rawType": "float64",
         "type": "float"
        },
        {
         "name": "purchase_frequency",
         "rawType": "int64",
         "type": "integer"
        }
       ],
       "ref": "328e1f00-1172-4121-913b-2f6042231cc3",
       "rows": [
        [
         "0",
         "53cdb2fc8bc7dce0b6741e2150273451",
         "b0830fb4747a6c6d20dea0b8c802d7ef",
         "delivered",
         "2018-07-24 20:41:37",
         "2018-07-26 03:24:27",
         "2018-07-26 14:31:00",
         "2018-08-07 15:27:45",
         "2018-08-13",
         "1.0",
         "595fac2a385ac33a80bd5114aec74eb8",
         "289cdb325fb7e7f891c38608bf9e0962",
         "2018-07-30 03:24:27",
         "118.7",
         "22.76",
         "1.0",
         "boleto",
         "1.0",
         "141.46",
         "8d5266042046a06655c8db133d120ba5",
         "4",
         "2018-08-08",
         "2018-08-08 18:37:50",
         "af07308b275d755c9edb36a90c618231",
         "47813.0",
         "barreiras",
         "ba",
         "perfumaria",
         "29",
         "178",
         "1",
         "400.0",
         "19.0",
         "13.0",
         "19.0",
         "31570.0",
         "belo horizonte",
         "sp",
         "perfumery",
         "-16.515006089081353",
         "-44.660710516494206",
         "-19.902360466221182",
         "-43.98042684085744",
         "1"
        ],
        [
         "1",
         "47770eb9100c2d0c44946d9cf07ec65d",
         "41ce2a54c0b03bf3443c3d931a367089",
         "delivered",
         "2018-08-08 08:38:49",
         "2018-08-08 08:55:23",
         "2018-08-08 13:50:00",
         "2018-08-17 18:06:29",
         "2018-09-04",
         "1.0",
         "aa4383b373c6aca5d8797843e5594415",
         "4869f7a5dfa277a7dca6462dcf3b52b2",
         "2018-08-13 08:55:23",
         "159.9",
         "19.22",
         "1.0",
         "credit_card",
         "3.0",
         "179.12",
         "e73b67b67587f7644d5bd1a52deb1b01",
         "5",
         "2018-08-18",
         "2018-08-22 19:07:58",
         "3a653a41f6f9fc3d2a113cf8398680e8",
         "75265.0",
         "vianopolis",
         "go",
         "automotivo",
         "46",
         "232",
         "1",
         "420.0",
         "24.0",
         "19.0",
         "21.0",
         "14840.0",
         "guariba",
         "sp",
         "auto",
         "-16.745149541882594",
         "-48.51478334802312",
         "-21.36350170979939",
         "-48.22960077888057",
         "1"
        ],
        [
         "2",
         "5ff96c15d0b717ac6ad1f3d77225a350",
         "19402a48fe860416adf93348aba37740",
         "delivered",
         "2018-07-25 17:44:10",
         "2018-07-25 17:55:14",
         "2018-07-26 13:16:00",
         "2018-07-30 15:52:25",
         "2018-08-08",
         "1.0",
         "10adb53d8faa890ca7c2f0cbcb68d777",
         "1900267e848ceeba8fa32d80c1a5f5a8",
         "2018-07-27 17:55:14",
         "19.9",
         "12.8",
         "1.0",
         "credit_card",
         "3.0",
         "32.7",
         "346e42116863ea64d51cef464d8f0c9c",
         "5",
         "2018-07-31",
         "2018-08-02 21:15:12",
         "e2dfa3127fedbbca9707b36304996dab",
         "4812.0",
         "sao paulo",
         "sp",
         "cama_mesa_banho",
         "52",
         "155",
         "1",
         "200.0",
         "16.0",
         "10.0",
         "16.0",
         "14940.0",
         "ibitinga",
         "sp",
         "bed_bath_table",
         "-23.713190055129683",
         "-46.68740654135837",
         "-21.75732063771276",
         "-48.82974353343716",
         "1"
        ],
        [
         "3",
         "f3e7c359154d965827355f39d6b1fdac",
         "62b423aab58096ca514ba6aa06be2f98",
         "delivered",
         "2018-08-09 11:44:40",
         "2018-08-10 03:24:51",
         "2018-08-10 12:29:00",
         "2018-08-13 18:24:27",
         "2018-08-17",
         "1.0",
         "e99d69efe684efaa643f99805f7c81bc",
         "55c26bcb609f480eb7868594245febb5",
         "2018-08-14 03:24:51",
         "89.9",
         "14.21",
         "1.0",
         "boleto",
         "1.0",
         "104.11",
         "9a55cbc65c8fad47581da5ebbb2b373e",
         "5",
         "2018-08-14",
         "2018-08-14 21:52:46",
         "9c9242ad7f1b52d926ea76778e1c0c57",
         "18052.0",
         "sorocaba",
         "sp",
         "papelaria",
         "56",
         "115",
         "1",
         "600.0",
         "33.0",
         "13.0",
         "25.0",
         "14910.0",
         "tabatinga",
         "sp",
         "stationery",
         "-23.53173194533856",
         "-47.49980351058789",
         "-21.73706314242179",
         "-48.687600901117015",
         "1"
        ],
        [
         "4",
         "b276e4f8c0fb86bd82fce576f21713e0",
         "cf8ffeddf027932e51e4eae73b384059",
         "delivered",
         "2018-07-29 23:34:51",
         "2018-07-29 23:45:15",
         "2018-07-30 14:43:00",
         "2018-07-31 22:48:50",
         "2018-08-06",
         "1.0",
         "c6c1f263e076bd9c1f1640250a5d0c29",
         "fe2032dab1a61af8794248c8196565c9",
         "2018-08-02 23:45:15",
         "179.0",
         "9.41",
         "1.0",
         "credit_card",
         "2.0",
         "188.41",
         "e71c2035f3e772a0a2339e001d383d8f",
         "5",
         "2018-08-01",
         "2018-08-04 02:05:33",
         "6cbe8a392b76916e84c2faf69d0d0da0",
         "13454.0",
         "santa barbara d'oeste",
         "sp",
         "perfumaria",
         "32",
         "102",
         "1",
         "425.0",
         "24.0",
         "12.0",
         "16.0",
         "13030.0",
         "campinas",
         "sp",
         "perfumery",
         "-22.74060229553914",
         "-47.37582085471676",
         "-22.92496986205361",
         "-47.07428354596362",
         "1"
        ]
       ],
       "shape": {
        "columns": 43,
        "rows": 5
       }
      },
      "text/html": [
       "<div>\n",
       "<style scoped>\n",
       "    .dataframe tbody tr th:only-of-type {\n",
       "        vertical-align: middle;\n",
       "    }\n",
       "\n",
       "    .dataframe tbody tr th {\n",
       "        vertical-align: top;\n",
       "    }\n",
       "\n",
       "    .dataframe thead th {\n",
       "        text-align: right;\n",
       "    }\n",
       "</style>\n",
       "<table border=\"1\" class=\"dataframe\">\n",
       "  <thead>\n",
       "    <tr style=\"text-align: right;\">\n",
       "      <th></th>\n",
       "      <th>order_id</th>\n",
       "      <th>customer_id</th>\n",
       "      <th>order_status</th>\n",
       "      <th>order_purchase_timestamp</th>\n",
       "      <th>order_approved_at</th>\n",
       "      <th>order_delivered_carrier_date</th>\n",
       "      <th>order_delivered_customer_date</th>\n",
       "      <th>order_estimated_delivery_date</th>\n",
       "      <th>order_item_id</th>\n",
       "      <th>product_id</th>\n",
       "      <th>...</th>\n",
       "      <th>product_width_cm</th>\n",
       "      <th>seller_zip_code_prefix</th>\n",
       "      <th>seller_city</th>\n",
       "      <th>seller_state</th>\n",
       "      <th>product_category_name_english</th>\n",
       "      <th>customer_lat</th>\n",
       "      <th>customer_lng</th>\n",
       "      <th>seller_lat</th>\n",
       "      <th>seller_lng</th>\n",
       "      <th>purchase_frequency</th>\n",
       "    </tr>\n",
       "  </thead>\n",
       "  <tbody>\n",
       "    <tr>\n",
       "      <th>0</th>\n",
       "      <td>53cdb2fc8bc7dce0b6741e2150273451</td>\n",
       "      <td>b0830fb4747a6c6d20dea0b8c802d7ef</td>\n",
       "      <td>delivered</td>\n",
       "      <td>2018-07-24 20:41:37</td>\n",
       "      <td>2018-07-26 03:24:27</td>\n",
       "      <td>2018-07-26 14:31:00</td>\n",
       "      <td>2018-08-07 15:27:45</td>\n",
       "      <td>2018-08-13</td>\n",
       "      <td>1.0</td>\n",
       "      <td>595fac2a385ac33a80bd5114aec74eb8</td>\n",
       "      <td>...</td>\n",
       "      <td>19.0</td>\n",
       "      <td>31570.0</td>\n",
       "      <td>belo horizonte</td>\n",
       "      <td>sp</td>\n",
       "      <td>perfumery</td>\n",
       "      <td>-16.515006</td>\n",
       "      <td>-44.660711</td>\n",
       "      <td>-19.902360</td>\n",
       "      <td>-43.980427</td>\n",
       "      <td>1</td>\n",
       "    </tr>\n",
       "    <tr>\n",
       "      <th>1</th>\n",
       "      <td>47770eb9100c2d0c44946d9cf07ec65d</td>\n",
       "      <td>41ce2a54c0b03bf3443c3d931a367089</td>\n",
       "      <td>delivered</td>\n",
       "      <td>2018-08-08 08:38:49</td>\n",
       "      <td>2018-08-08 08:55:23</td>\n",
       "      <td>2018-08-08 13:50:00</td>\n",
       "      <td>2018-08-17 18:06:29</td>\n",
       "      <td>2018-09-04</td>\n",
       "      <td>1.0</td>\n",
       "      <td>aa4383b373c6aca5d8797843e5594415</td>\n",
       "      <td>...</td>\n",
       "      <td>21.0</td>\n",
       "      <td>14840.0</td>\n",
       "      <td>guariba</td>\n",
       "      <td>sp</td>\n",
       "      <td>auto</td>\n",
       "      <td>-16.745150</td>\n",
       "      <td>-48.514783</td>\n",
       "      <td>-21.363502</td>\n",
       "      <td>-48.229601</td>\n",
       "      <td>1</td>\n",
       "    </tr>\n",
       "    <tr>\n",
       "      <th>2</th>\n",
       "      <td>5ff96c15d0b717ac6ad1f3d77225a350</td>\n",
       "      <td>19402a48fe860416adf93348aba37740</td>\n",
       "      <td>delivered</td>\n",
       "      <td>2018-07-25 17:44:10</td>\n",
       "      <td>2018-07-25 17:55:14</td>\n",
       "      <td>2018-07-26 13:16:00</td>\n",
       "      <td>2018-07-30 15:52:25</td>\n",
       "      <td>2018-08-08</td>\n",
       "      <td>1.0</td>\n",
       "      <td>10adb53d8faa890ca7c2f0cbcb68d777</td>\n",
       "      <td>...</td>\n",
       "      <td>16.0</td>\n",
       "      <td>14940.0</td>\n",
       "      <td>ibitinga</td>\n",
       "      <td>sp</td>\n",
       "      <td>bed_bath_table</td>\n",
       "      <td>-23.713190</td>\n",
       "      <td>-46.687407</td>\n",
       "      <td>-21.757321</td>\n",
       "      <td>-48.829744</td>\n",
       "      <td>1</td>\n",
       "    </tr>\n",
       "    <tr>\n",
       "      <th>3</th>\n",
       "      <td>f3e7c359154d965827355f39d6b1fdac</td>\n",
       "      <td>62b423aab58096ca514ba6aa06be2f98</td>\n",
       "      <td>delivered</td>\n",
       "      <td>2018-08-09 11:44:40</td>\n",
       "      <td>2018-08-10 03:24:51</td>\n",
       "      <td>2018-08-10 12:29:00</td>\n",
       "      <td>2018-08-13 18:24:27</td>\n",
       "      <td>2018-08-17</td>\n",
       "      <td>1.0</td>\n",
       "      <td>e99d69efe684efaa643f99805f7c81bc</td>\n",
       "      <td>...</td>\n",
       "      <td>25.0</td>\n",
       "      <td>14910.0</td>\n",
       "      <td>tabatinga</td>\n",
       "      <td>sp</td>\n",
       "      <td>stationery</td>\n",
       "      <td>-23.531732</td>\n",
       "      <td>-47.499804</td>\n",
       "      <td>-21.737063</td>\n",
       "      <td>-48.687601</td>\n",
       "      <td>1</td>\n",
       "    </tr>\n",
       "    <tr>\n",
       "      <th>4</th>\n",
       "      <td>b276e4f8c0fb86bd82fce576f21713e0</td>\n",
       "      <td>cf8ffeddf027932e51e4eae73b384059</td>\n",
       "      <td>delivered</td>\n",
       "      <td>2018-07-29 23:34:51</td>\n",
       "      <td>2018-07-29 23:45:15</td>\n",
       "      <td>2018-07-30 14:43:00</td>\n",
       "      <td>2018-07-31 22:48:50</td>\n",
       "      <td>2018-08-06</td>\n",
       "      <td>1.0</td>\n",
       "      <td>c6c1f263e076bd9c1f1640250a5d0c29</td>\n",
       "      <td>...</td>\n",
       "      <td>16.0</td>\n",
       "      <td>13030.0</td>\n",
       "      <td>campinas</td>\n",
       "      <td>sp</td>\n",
       "      <td>perfumery</td>\n",
       "      <td>-22.740602</td>\n",
       "      <td>-47.375821</td>\n",
       "      <td>-22.924970</td>\n",
       "      <td>-47.074284</td>\n",
       "      <td>1</td>\n",
       "    </tr>\n",
       "  </tbody>\n",
       "</table>\n",
       "<p>5 rows × 43 columns</p>\n",
       "</div>"
      ],
      "text/plain": [
       "                           order_id                       customer_id  \\\n",
       "0  53cdb2fc8bc7dce0b6741e2150273451  b0830fb4747a6c6d20dea0b8c802d7ef   \n",
       "1  47770eb9100c2d0c44946d9cf07ec65d  41ce2a54c0b03bf3443c3d931a367089   \n",
       "2  5ff96c15d0b717ac6ad1f3d77225a350  19402a48fe860416adf93348aba37740   \n",
       "3  f3e7c359154d965827355f39d6b1fdac  62b423aab58096ca514ba6aa06be2f98   \n",
       "4  b276e4f8c0fb86bd82fce576f21713e0  cf8ffeddf027932e51e4eae73b384059   \n",
       "\n",
       "  order_status order_purchase_timestamp    order_approved_at  \\\n",
       "0    delivered      2018-07-24 20:41:37  2018-07-26 03:24:27   \n",
       "1    delivered      2018-08-08 08:38:49  2018-08-08 08:55:23   \n",
       "2    delivered      2018-07-25 17:44:10  2018-07-25 17:55:14   \n",
       "3    delivered      2018-08-09 11:44:40  2018-08-10 03:24:51   \n",
       "4    delivered      2018-07-29 23:34:51  2018-07-29 23:45:15   \n",
       "\n",
       "  order_delivered_carrier_date order_delivered_customer_date  \\\n",
       "0          2018-07-26 14:31:00           2018-08-07 15:27:45   \n",
       "1          2018-08-08 13:50:00           2018-08-17 18:06:29   \n",
       "2          2018-07-26 13:16:00           2018-07-30 15:52:25   \n",
       "3          2018-08-10 12:29:00           2018-08-13 18:24:27   \n",
       "4          2018-07-30 14:43:00           2018-07-31 22:48:50   \n",
       "\n",
       "  order_estimated_delivery_date  order_item_id  \\\n",
       "0                    2018-08-13            1.0   \n",
       "1                    2018-09-04            1.0   \n",
       "2                    2018-08-08            1.0   \n",
       "3                    2018-08-17            1.0   \n",
       "4                    2018-08-06            1.0   \n",
       "\n",
       "                         product_id  ... product_width_cm  \\\n",
       "0  595fac2a385ac33a80bd5114aec74eb8  ...             19.0   \n",
       "1  aa4383b373c6aca5d8797843e5594415  ...             21.0   \n",
       "2  10adb53d8faa890ca7c2f0cbcb68d777  ...             16.0   \n",
       "3  e99d69efe684efaa643f99805f7c81bc  ...             25.0   \n",
       "4  c6c1f263e076bd9c1f1640250a5d0c29  ...             16.0   \n",
       "\n",
       "  seller_zip_code_prefix     seller_city  seller_state  \\\n",
       "0                31570.0  belo horizonte            sp   \n",
       "1                14840.0         guariba            sp   \n",
       "2                14940.0        ibitinga            sp   \n",
       "3                14910.0       tabatinga            sp   \n",
       "4                13030.0        campinas            sp   \n",
       "\n",
       "   product_category_name_english customer_lat  customer_lng  seller_lat  \\\n",
       "0                      perfumery   -16.515006    -44.660711  -19.902360   \n",
       "1                           auto   -16.745150    -48.514783  -21.363502   \n",
       "2                 bed_bath_table   -23.713190    -46.687407  -21.757321   \n",
       "3                     stationery   -23.531732    -47.499804  -21.737063   \n",
       "4                      perfumery   -22.740602    -47.375821  -22.924970   \n",
       "\n",
       "  seller_lng  purchase_frequency  \n",
       "0 -43.980427                   1  \n",
       "1 -48.229601                   1  \n",
       "2 -48.829744                   1  \n",
       "3 -48.687601                   1  \n",
       "4 -47.074284                   1  \n",
       "\n",
       "[5 rows x 43 columns]"
      ]
     },
     "execution_count": 78,
     "metadata": {},
     "output_type": "execute_result"
    }
   ],
   "source": [
    "\n",
    "\n",
    "# Save the DataFrame as a Parquet file\n",
    "df_transformed.to_parquet('../data/final/loaded_data.parquet, index=False')\n",
    "\n",
    "# Read and preview the Parquet file from the correct path\n",
    "preview_df = pd.read_parquet('../data/final/loaded_data.parquet')\n",
    "preview_df.head()"
   ]
  },
  {
   "cell_type": "markdown",
   "id": "198f31f9",
   "metadata": {},
   "source": [
    "___\n",
    "#### Loading the Transformed Data:\n",
    "We read the transformed dataset from the CSV file located in `data/transformed/transformed_data.csv` using `pandas.read_csv()`.\n",
    "\n",
    "#### Saving as Parquet:\n",
    "We created a new directory called `data/final/` if it didn't already exist using `os.makedirs()` with `exist_ok=True`.\n",
    "\n",
    "The DataFrame was then saved as a Parquet file (`loaded_data.parquet`) using `df.to_parquet()`. This format is preferred for analytics workflows due to its:\n",
    "\n",
    "- Smaller file size (compared to CSV)  \n",
    "- Faster read/write times  \n",
    "- Schema support and optimized columnar storage  \n",
    "\n",
    "#### Reading and Previewing:\n",
    "We confirmed the integrity of the saved Parquet file by reading it back with `pd.read_parquet()` and printing the first few rows using `.head()`.\n",
    "___\n"
   ]
  }
 ],
 "metadata": {
  "kernelspec": {
   "display_name": "Python 3",
   "language": "python",
   "name": "python3"
  },
  "language_info": {
   "codemirror_mode": {
    "name": "ipython",
    "version": 3
   },
   "file_extension": ".py",
   "mimetype": "text/x-python",
   "name": "python",
   "nbconvert_exporter": "python",
   "pygments_lexer": "ipython3",
   "version": "3.13.5"
  }
 },
 "nbformat": 4,
 "nbformat_minor": 5
}
