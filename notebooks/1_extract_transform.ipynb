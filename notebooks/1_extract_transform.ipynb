{
 "cells": [
  {
   "cell_type": "markdown",
   "id": "d680a90d",
   "metadata": {},
   "source": [
    "### **Section by Hana – ETL**"
   ]
  }
 ],
 "metadata": {
  "language_info": {
   "name": "python"
  }
 },
 "nbformat": 4,
 "nbformat_minor": 5
}
