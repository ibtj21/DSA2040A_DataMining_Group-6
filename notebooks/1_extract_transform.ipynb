{
 "cells": [
  {
   "cell_type": "markdown",
   "id": "d680a90d",
   "metadata": {},
   "source": [
    "## **Section by Hana – ETL Process: Olist Brazilian E-commerce Dataset**"
   ]
  },
  {
   "cell_type": "markdown",
   "id": "46fa18aa",
   "metadata": {},
   "source": [
    "___\n",
    "The Olist dataset contains multiple **relational CSV files** representing Brazil’s largest e-commerce platform. Each file captures a different aspect of the order lifecycle—customers, sellers, products, payments, and reviews.\n",
    "\n",
    "### Main Files:\n",
    "- `orders`: Order-level data with status and timestamps  \n",
    "- `order_items`: Product-level info per order  \n",
    "- `products`: Product metadata  \n",
    "- `payments`: Payment methods and values  \n",
    "- `reviews`: Customer feedback  \n",
    "- `customers`: Customer location  \n",
    "- `sellers`: Seller details  \n",
    "- `geo`: Geolocation of postal codes  \n",
    "- `category translation`: Product categories in English\n",
    "\n",
    "### Data Timeframe Selection\n",
    "- The original dataset spans from 2016-09-04 21:15:19 to 2018-10-17 17:30:18. However, for the purpose of this project, only a slice covering the most recent three months — from 2018-07-17 to 2018-10-17 — has been used for analysis\n",
    "\n",
    "### Why Relational?\n",
    "Tables are linked via keys like `order_id`, `product_id`, and `customer_id`, making it ideal for multi-table analysis.\n",
    "\n",
    "This structure supports a clean **ETL process**:  \n",
    "→ **Extract** raw files  \n",
    "→ **Transform** and join data  \n",
    "→ **Load** for analysis or modeling\n",
    "___"
   ]
  },
  {
   "cell_type": "markdown",
   "id": "ab829466",
   "metadata": {},
   "source": [
    "## 1. **Extraction**"
   ]
  },
  {
   "cell_type": "code",
   "execution_count": 273,
   "id": "f3edf48b",
   "metadata": {},
   "outputs": [],
   "source": [
    "import pandas as pd\n",
    "\n",
    "# Correct relative paths from notebooks/ to data/raw/\n",
    "orders = pd.read_csv(\"../data/raw/olist_orders_dataset.csv\")\n",
    "order_items = pd.read_csv(\"../data/raw/olist_order_items_dataset.csv\")\n",
    "products = pd.read_csv(\"../data/raw/olist_products_dataset.csv\")\n",
    "payments = pd.read_csv(\"../data/raw/olist_order_payments_dataset.csv\")\n",
    "reviews = pd.read_csv(\"../data/raw/olist_order_reviews_dataset.csv\")\n",
    "customers = pd.read_csv(\"../data/raw/olist_customers_dataset.csv\")\n",
    "sellers = pd.read_csv(\"../data/raw/olist_sellers_dataset.csv\")\n",
    "geo = pd.read_csv(\"../data/raw/olist_geolocation_dataset.csv\")\n",
    "categories = pd.read_csv(\"../data/raw/product_category_name_translation.csv\")\n"
   ]
  },
  {
   "cell_type": "markdown",
   "id": "4744faee",
   "metadata": {},
   "source": [
    "#### *A. Initial Data Inspection*"
   ]
  },
  {
   "cell_type": "code",
   "execution_count": 274,
   "id": "ef637deb",
   "metadata": {},
   "outputs": [
    {
     "name": "stdout",
     "output_type": "stream",
     "text": [
      "\n",
      "Orders Head:\n",
      "                           order_id                       customer_id  \\\n",
      "0  e481f51cbdc54678b7cc49136f2d6af7  9ef432eb6251297304e76186b10a928d   \n",
      "1  53cdb2fc8bc7dce0b6741e2150273451  b0830fb4747a6c6d20dea0b8c802d7ef   \n",
      "2  47770eb9100c2d0c44946d9cf07ec65d  41ce2a54c0b03bf3443c3d931a367089   \n",
      "3  949d5b44dbf5de918fe9c16f97b45f8a  f88197465ea7920adcdbec7375364d82   \n",
      "4  ad21c59c0840e6cb83a9ceb5573f8159  8ab97904e6daea8866dbdbc4fb7aad2c   \n",
      "\n",
      "  order_status order_purchase_timestamp    order_approved_at  \\\n",
      "0    delivered      2017-10-02 10:56:33  2017-10-02 11:07:15   \n",
      "1    delivered      2018-07-24 20:41:37  2018-07-26 03:24:27   \n",
      "2    delivered      2018-08-08 08:38:49  2018-08-08 08:55:23   \n",
      "3    delivered      2017-11-18 19:28:06  2017-11-18 19:45:59   \n",
      "4    delivered      2018-02-13 21:18:39  2018-02-13 22:20:29   \n",
      "\n",
      "  order_delivered_carrier_date order_delivered_customer_date  \\\n",
      "0          2017-10-04 19:55:00           2017-10-10 21:25:13   \n",
      "1          2018-07-26 14:31:00           2018-08-07 15:27:45   \n",
      "2          2018-08-08 13:50:00           2018-08-17 18:06:29   \n",
      "3          2017-11-22 13:39:59           2017-12-02 00:28:42   \n",
      "4          2018-02-14 19:46:34           2018-02-16 18:17:02   \n",
      "\n",
      "  order_estimated_delivery_date  \n",
      "0           2017-10-18 00:00:00  \n",
      "1           2018-08-13 00:00:00  \n",
      "2           2018-09-04 00:00:00  \n",
      "3           2017-12-15 00:00:00  \n",
      "4           2018-02-26 00:00:00  \n",
      "\n",
      "Order Items Head:\n",
      "                           order_id  order_item_id  \\\n",
      "0  00010242fe8c5a6d1ba2dd792cb16214              1   \n",
      "1  00018f77f2f0320c557190d7a144bdd3              1   \n",
      "2  000229ec398224ef6ca0657da4fc703e              1   \n",
      "3  00024acbcdf0a6daa1e931b038114c75              1   \n",
      "4  00042b26cf59d7ce69dfabb4e55b4fd9              1   \n",
      "\n",
      "                         product_id                         seller_id  \\\n",
      "0  4244733e06e7ecb4970a6e2683c13e61  48436dade18ac8b2bce089ec2a041202   \n",
      "1  e5f2d52b802189ee658865ca93d83a8f  dd7ddc04e1b6c2c614352b383efe2d36   \n",
      "2  c777355d18b72b67abbeef9df44fd0fd  5b51032eddd242adc84c38acab88f23d   \n",
      "3  7634da152a4610f1595efa32f14722fc  9d7a1d34a5052409006425275ba1c2b4   \n",
      "4  ac6c3623068f30de03045865e4e10089  df560393f3a51e74553ab94004ba5c87   \n",
      "\n",
      "   shipping_limit_date   price  freight_value  \n",
      "0  2017-09-19 09:45:35   58.90          13.29  \n",
      "1  2017-05-03 11:05:13  239.90          19.93  \n",
      "2  2018-01-18 14:48:30  199.00          17.87  \n",
      "3  2018-08-15 10:10:18   12.99          12.79  \n",
      "4  2017-02-13 13:57:51  199.90          18.14  \n",
      "\n",
      "Products Head:\n",
      "                         product_id  product_category_name  \\\n",
      "0  1e9e8ef04dbcff4541ed26657ea517e5             perfumaria   \n",
      "1  3aa071139cb16b67ca9e5dea641aaa2f                  artes   \n",
      "2  96bd76ec8810374ed1b65e291975717f          esporte_lazer   \n",
      "3  cef67bcfe19066a932b7673e239eb23d                  bebes   \n",
      "4  9dc1a7de274444849c219cff195d0b71  utilidades_domesticas   \n",
      "\n",
      "   product_name_lenght  product_description_lenght  product_photos_qty  \\\n",
      "0                 40.0                       287.0                 1.0   \n",
      "1                 44.0                       276.0                 1.0   \n",
      "2                 46.0                       250.0                 1.0   \n",
      "3                 27.0                       261.0                 1.0   \n",
      "4                 37.0                       402.0                 4.0   \n",
      "\n",
      "   product_weight_g  product_length_cm  product_height_cm  product_width_cm  \n",
      "0             225.0               16.0               10.0              14.0  \n",
      "1            1000.0               30.0               18.0              20.0  \n",
      "2             154.0               18.0                9.0              15.0  \n",
      "3             371.0               26.0                4.0              26.0  \n",
      "4             625.0               20.0               17.0              13.0  \n",
      "\n",
      "Payments Head:\n",
      "                           order_id  payment_sequential payment_type  \\\n",
      "0  b81ef226f3fe1789b1e8b2acac839d17                   1  credit_card   \n",
      "1  a9810da82917af2d9aefd1278f1dcfa0                   1  credit_card   \n",
      "2  25e8ea4e93396b6fa0d3dd708e76c1bd                   1  credit_card   \n",
      "3  ba78997921bbcdc1373bb41e913ab953                   1  credit_card   \n",
      "4  42fdf880ba16b47b59251dd489d4441a                   1  credit_card   \n",
      "\n",
      "   payment_installments  payment_value  \n",
      "0                     8          99.33  \n",
      "1                     1          24.39  \n",
      "2                     1          65.71  \n",
      "3                     8         107.78  \n",
      "4                     2         128.45  \n",
      "\n",
      "Reviews Head:\n",
      "                          review_id                          order_id  \\\n",
      "0  7bc2406110b926393aa56f80a40eba40  73fc7af87114b39712e6da79b0a377eb   \n",
      "1  80e641a11e56f04c1ad469d5645fdfde  a548910a1c6147796b98fdf73dbeba33   \n",
      "2  228ce5500dc1d8e020d8d1322874b6f0  f9e4b658b201a9f2ecdecbb34bed034b   \n",
      "3  e64fb393e7b32834bb789ff8bb30750e  658677c97b385a9be170737859d3511b   \n",
      "4  f7c4243c7fe1938f181bec41a392bdeb  8e6bfb81e283fa7e4f11123a3fb894f1   \n",
      "\n",
      "   review_score review_comment_title  \\\n",
      "0             4                  NaN   \n",
      "1             5                  NaN   \n",
      "2             5                  NaN   \n",
      "3             5                  NaN   \n",
      "4             5                  NaN   \n",
      "\n",
      "                              review_comment_message review_creation_date  \\\n",
      "0                                                NaN  2018-01-18 00:00:00   \n",
      "1                                                NaN  2018-03-10 00:00:00   \n",
      "2                                                NaN  2018-02-17 00:00:00   \n",
      "3              Recebi bem antes do prazo estipulado.  2017-04-21 00:00:00   \n",
      "4  Parabéns lojas lannister adorei comprar pela I...  2018-03-01 00:00:00   \n",
      "\n",
      "  review_answer_timestamp  \n",
      "0     2018-01-18 21:46:59  \n",
      "1     2018-03-11 03:05:13  \n",
      "2     2018-02-18 14:36:24  \n",
      "3     2017-04-21 22:02:06  \n",
      "4     2018-03-02 10:26:53  \n",
      "\n",
      "Customers Head:\n",
      "                        customer_id                customer_unique_id  \\\n",
      "0  06b8999e2fba1a1fbc88172c00ba8bc7  861eff4711a542e4b93843c6dd7febb0   \n",
      "1  18955e83d337fd6b2def6b18a428ac77  290c77bc529b7ac935b93aa66c333dc3   \n",
      "2  4e7b3e00288586ebd08712fdd0374a03  060e732b5b29e8181a18229c7b0b2b5e   \n",
      "3  b2b6027bc5c5109e529d4dc6358b12c3  259dac757896d24d7702b9acbbff3f3c   \n",
      "4  4f2d8ab171c80ec8364f7c12e35b23ad  345ecd01c38d18a9036ed96c73b8d066   \n",
      "\n",
      "   customer_zip_code_prefix          customer_city customer_state  \n",
      "0                     14409                 franca             SP  \n",
      "1                      9790  sao bernardo do campo             SP  \n",
      "2                      1151              sao paulo             SP  \n",
      "3                      8775        mogi das cruzes             SP  \n",
      "4                     13056               campinas             SP  \n",
      "\n",
      "Sellers Head:\n",
      "                          seller_id  seller_zip_code_prefix  \\\n",
      "0  3442f8959a84dea7ee197c632cb2df15                   13023   \n",
      "1  d1b65fc7debc3361ea86b5f14c68d2e2                   13844   \n",
      "2  ce3ad9de960102d0677a81f5d0bb7b2d                   20031   \n",
      "3  c0f3eea2e14555b6faeea3dd58c1b1c3                    4195   \n",
      "4  51a04a8a6bdcb23deccc82b0b80742cf                   12914   \n",
      "\n",
      "         seller_city seller_state  \n",
      "0           campinas           SP  \n",
      "1         mogi guacu           SP  \n",
      "2     rio de janeiro           RJ  \n",
      "3          sao paulo           SP  \n",
      "4  braganca paulista           SP  \n",
      "\n",
      "Geolocation Head:\n",
      "   geolocation_zip_code_prefix  geolocation_lat  geolocation_lng  \\\n",
      "0                         1037       -23.545621       -46.639292   \n",
      "1                         1046       -23.546081       -46.644820   \n",
      "2                         1046       -23.546129       -46.642951   \n",
      "3                         1041       -23.544392       -46.639499   \n",
      "4                         1035       -23.541578       -46.641607   \n",
      "\n",
      "  geolocation_city geolocation_state  \n",
      "0        sao paulo                SP  \n",
      "1        sao paulo                SP  \n",
      "2        sao paulo                SP  \n",
      "3        sao paulo                SP  \n",
      "4        sao paulo                SP  \n",
      "\n",
      "Category Translation Head:\n",
      "    product_category_name product_category_name_english\n",
      "0            beleza_saude                 health_beauty\n",
      "1  informatica_acessorios         computers_accessories\n",
      "2              automotivo                          auto\n",
      "3         cama_mesa_banho                bed_bath_table\n",
      "4        moveis_decoracao               furniture_decor\n"
     ]
    }
   ],
   "source": [
    "datasets = {\n",
    "    \"Orders\": orders,\n",
    "    \"Order Items\": order_items,\n",
    "    \"Products\": products,\n",
    "    \"Payments\": payments,\n",
    "    \"Reviews\": reviews,\n",
    "    \"Customers\": customers,\n",
    "    \"Sellers\": sellers,\n",
    "    \"Geolocation\": geo,\n",
    "    \"Category Translation\": categories\n",
    "}\n",
    "\n",
    "for name, df in datasets.items():\n",
    "    print(f\"\\n{name} Head:\")\n",
    "    print(df.head())\n"
   ]
  },
  {
   "cell_type": "code",
   "execution_count": 275,
   "id": "792dfe94",
   "metadata": {},
   "outputs": [
    {
     "data": {
      "text/plain": [
       "'2018-10-17 17:30:18'"
      ]
     },
     "execution_count": 275,
     "metadata": {},
     "output_type": "execute_result"
    }
   ],
   "source": [
    "orders['order_purchase_timestamp'].max()\n",
    "   "
   ]
  },
  {
   "cell_type": "code",
   "execution_count": 276,
   "id": "3653bc4c",
   "metadata": {},
   "outputs": [
    {
     "data": {
      "text/plain": [
       "'2016-09-04 21:15:19'"
      ]
     },
     "execution_count": 276,
     "metadata": {},
     "output_type": "execute_result"
    }
   ],
   "source": [
    "orders['order_purchase_timestamp'].min() "
   ]
  },
  {
   "cell_type": "code",
   "execution_count": 277,
   "id": "788f75be",
   "metadata": {},
   "outputs": [
    {
     "name": "stdout",
     "output_type": "stream",
     "text": [
      "\n",
      "Orders Info:\n",
      "<class 'pandas.core.frame.DataFrame'>\n",
      "RangeIndex: 99441 entries, 0 to 99440\n",
      "Data columns (total 8 columns):\n",
      " #   Column                         Non-Null Count  Dtype \n",
      "---  ------                         --------------  ----- \n",
      " 0   order_id                       99441 non-null  object\n",
      " 1   customer_id                    99441 non-null  object\n",
      " 2   order_status                   99441 non-null  object\n",
      " 3   order_purchase_timestamp       99441 non-null  object\n",
      " 4   order_approved_at              99281 non-null  object\n",
      " 5   order_delivered_carrier_date   97658 non-null  object\n",
      " 6   order_delivered_customer_date  96476 non-null  object\n",
      " 7   order_estimated_delivery_date  99441 non-null  object\n",
      "dtypes: object(8)\n",
      "memory usage: 6.1+ MB\n",
      "None\n",
      "\n",
      "Order Items Info:\n",
      "<class 'pandas.core.frame.DataFrame'>\n",
      "RangeIndex: 112650 entries, 0 to 112649\n",
      "Data columns (total 7 columns):\n",
      " #   Column               Non-Null Count   Dtype  \n",
      "---  ------               --------------   -----  \n",
      " 0   order_id             112650 non-null  object \n",
      " 1   order_item_id        112650 non-null  int64  \n",
      " 2   product_id           112650 non-null  object \n",
      " 3   seller_id            112650 non-null  object \n",
      " 4   shipping_limit_date  112650 non-null  object \n",
      " 5   price                112650 non-null  float64\n",
      " 6   freight_value        112650 non-null  float64\n",
      "dtypes: float64(2), int64(1), object(4)\n",
      "memory usage: 6.0+ MB\n",
      "None\n",
      "\n",
      "Products Info:\n",
      "<class 'pandas.core.frame.DataFrame'>\n",
      "RangeIndex: 32951 entries, 0 to 32950\n",
      "Data columns (total 9 columns):\n",
      " #   Column                      Non-Null Count  Dtype  \n",
      "---  ------                      --------------  -----  \n",
      " 0   product_id                  32951 non-null  object \n",
      " 1   product_category_name       32341 non-null  object \n",
      " 2   product_name_lenght         32341 non-null  float64\n",
      " 3   product_description_lenght  32341 non-null  float64\n",
      " 4   product_photos_qty          32341 non-null  float64\n",
      " 5   product_weight_g            32949 non-null  float64\n",
      " 6   product_length_cm           32949 non-null  float64\n",
      " 7   product_height_cm           32949 non-null  float64\n",
      " 8   product_width_cm            32949 non-null  float64\n",
      "dtypes: float64(7), object(2)\n",
      "memory usage: 2.3+ MB\n",
      "None\n",
      "\n",
      "Payments Info:\n",
      "<class 'pandas.core.frame.DataFrame'>\n",
      "RangeIndex: 103886 entries, 0 to 103885\n",
      "Data columns (total 5 columns):\n",
      " #   Column                Non-Null Count   Dtype  \n",
      "---  ------                --------------   -----  \n",
      " 0   order_id              103886 non-null  object \n",
      " 1   payment_sequential    103886 non-null  int64  \n",
      " 2   payment_type          103886 non-null  object \n",
      " 3   payment_installments  103886 non-null  int64  \n",
      " 4   payment_value         103886 non-null  float64\n",
      "dtypes: float64(1), int64(2), object(2)\n",
      "memory usage: 4.0+ MB\n",
      "None\n",
      "\n",
      "Reviews Info:\n",
      "<class 'pandas.core.frame.DataFrame'>\n",
      "RangeIndex: 99224 entries, 0 to 99223\n",
      "Data columns (total 7 columns):\n",
      " #   Column                   Non-Null Count  Dtype \n",
      "---  ------                   --------------  ----- \n",
      " 0   review_id                99224 non-null  object\n",
      " 1   order_id                 99224 non-null  object\n",
      " 2   review_score             99224 non-null  int64 \n",
      " 3   review_comment_title     11568 non-null  object\n",
      " 4   review_comment_message   40977 non-null  object\n",
      " 5   review_creation_date     99224 non-null  object\n",
      " 6   review_answer_timestamp  99224 non-null  object\n",
      "dtypes: int64(1), object(6)\n",
      "memory usage: 5.3+ MB\n",
      "None\n",
      "\n",
      "Customers Info:\n",
      "<class 'pandas.core.frame.DataFrame'>\n",
      "RangeIndex: 99441 entries, 0 to 99440\n",
      "Data columns (total 5 columns):\n",
      " #   Column                    Non-Null Count  Dtype \n",
      "---  ------                    --------------  ----- \n",
      " 0   customer_id               99441 non-null  object\n",
      " 1   customer_unique_id        99441 non-null  object\n",
      " 2   customer_zip_code_prefix  99441 non-null  int64 \n",
      " 3   customer_city             99441 non-null  object\n",
      " 4   customer_state            99441 non-null  object\n",
      "dtypes: int64(1), object(4)\n",
      "memory usage: 3.8+ MB\n",
      "None\n",
      "\n",
      "Sellers Info:\n",
      "<class 'pandas.core.frame.DataFrame'>\n",
      "RangeIndex: 3095 entries, 0 to 3094\n",
      "Data columns (total 4 columns):\n",
      " #   Column                  Non-Null Count  Dtype \n",
      "---  ------                  --------------  ----- \n",
      " 0   seller_id               3095 non-null   object\n",
      " 1   seller_zip_code_prefix  3095 non-null   int64 \n",
      " 2   seller_city             3095 non-null   object\n",
      " 3   seller_state            3095 non-null   object\n",
      "dtypes: int64(1), object(3)\n",
      "memory usage: 96.8+ KB\n",
      "None\n",
      "\n",
      "Geolocation Info:\n",
      "<class 'pandas.core.frame.DataFrame'>\n",
      "RangeIndex: 1000163 entries, 0 to 1000162\n",
      "Data columns (total 5 columns):\n",
      " #   Column                       Non-Null Count    Dtype  \n",
      "---  ------                       --------------    -----  \n",
      " 0   geolocation_zip_code_prefix  1000163 non-null  int64  \n",
      " 1   geolocation_lat              1000163 non-null  float64\n",
      " 2   geolocation_lng              1000163 non-null  float64\n",
      " 3   geolocation_city             1000163 non-null  object \n",
      " 4   geolocation_state            1000163 non-null  object \n",
      "dtypes: float64(2), int64(1), object(2)\n",
      "memory usage: 38.2+ MB\n",
      "None\n",
      "\n",
      "Category Translation Info:\n",
      "<class 'pandas.core.frame.DataFrame'>\n",
      "RangeIndex: 71 entries, 0 to 70\n",
      "Data columns (total 2 columns):\n",
      " #   Column                         Non-Null Count  Dtype \n",
      "---  ------                         --------------  ----- \n",
      " 0   product_category_name          71 non-null     object\n",
      " 1   product_category_name_english  71 non-null     object\n",
      "dtypes: object(2)\n",
      "memory usage: 1.2+ KB\n",
      "None\n"
     ]
    }
   ],
   "source": [
    "datasets = {\n",
    "    \"Orders\": orders,\n",
    "    \"Order Items\": order_items,\n",
    "    \"Products\": products,\n",
    "    \"Payments\": payments,\n",
    "    \"Reviews\": reviews,\n",
    "    \"Customers\": customers,\n",
    "    \"Sellers\": sellers,\n",
    "    \"Geolocation\": geo,\n",
    "    \"Category Translation\": categories\n",
    "}\n",
    "for name, df in datasets.items():\n",
    "    print(f\"\\n{name} Info:\")\n",
    "    print(df.info())"
   ]
  },
  {
   "cell_type": "markdown",
   "id": "a92c7a83",
   "metadata": {},
   "source": [
    "___\n",
    "### *B. Initial Inspection Observations*\n",
    "\n",
    "From the initial `.info()` checks across the Olist datasets, we observe the following:\n",
    "\n",
    "- **Data Volume**: Most datasets contain tens of thousands of entries, with `geolocation` being the largest (~1 million rows) and `category translation` the smallest (71 rows).\n",
    "- **Data Types**: Many columns are stored as `object` type, particularly those representing IDs and dates. This may require type conversion (e.g., to `datetime`) during preprocessing.\n",
    "- **Missing Data**:\n",
    "  - The `orders` dataset has some missing timestamps in delivery-related fields.\n",
    "  - The `products` dataset has a few missing values in product attributes.\n",
    "  - The `reviews` dataset has many missing values in comment titles and messages, which may be optional fields.\n",
    "- **Relational Structure**: \n",
    "  - Shared keys like `order_id`, `product_id`, `customer_id`, and `seller_id` across tables suggest strong relational integrity.\n",
    "  - This supports potential joins to create enriched views for further analysis.\n",
    "\n",
    "These findings guide us to perform data cleaning and transformations in the upcoming ETL steps.\n",
    "____\n"
   ]
  },
  {
   "cell_type": "markdown",
   "id": "9d62eaca",
   "metadata": {},
   "source": [
    "## **2. Transformaiton**"
   ]
  },
  {
   "cell_type": "markdown",
   "id": "eec77a99",
   "metadata": {},
   "source": [
    "### *A. Conversion of date columns to `datetime` type for purpose of filtering*"
   ]
  },
  {
   "cell_type": "markdown",
   "id": "28e3ccde",
   "metadata": {},
   "source": [
    "___\n",
    "Identify all datetime-related columns across all DataFrames.\n",
    "___"
   ]
  },
  {
   "cell_type": "code",
   "execution_count": 278,
   "id": "36d834d0",
   "metadata": {},
   "outputs": [
    {
     "name": "stdout",
     "output_type": "stream",
     "text": [
      "Orders has date-related columns: ['order_purchase_timestamp', 'order_delivered_carrier_date', 'order_delivered_customer_date', 'order_estimated_delivery_date']\n",
      "Order Items has date-related columns: ['shipping_limit_date']\n",
      "Reviews has date-related columns: ['review_creation_date', 'review_answer_timestamp']\n"
     ]
    }
   ],
   "source": [
    "# List all your DataFrames in a dictionary\n",
    "dfs = {\n",
    "    \"Orders\": orders,\n",
    "    \"Order Items\": order_items,\n",
    "    \"Products\": products,\n",
    "    \"Payments\": payments,\n",
    "    \"Reviews\": reviews,\n",
    "    \"Customers\": customers,\n",
    "    \"Sellers\": sellers,\n",
    "    \"Geolocation\": geo,\n",
    "    \"Category Translation\": categories\n",
    "}\n",
    "\n",
    "# Loop through and check for datetime-like columns\n",
    "for name, df in dfs.items():\n",
    "    date_cols = [col for col in df.columns if 'date' in col.lower() or 'timestamp' in col.lower()]\n",
    "    if date_cols:\n",
    "        print(f\"{name} has date-related columns: {date_cols}\")\n"
   ]
  },
  {
   "cell_type": "markdown",
   "id": "c0c64297",
   "metadata": {},
   "source": [
    "___\n",
    "Convert relevant date-related columns from string (object) to datetime64[ns] format for proper time-based analysis and filtering.\n",
    "____\n",
    "```python"
   ]
  },
  {
   "cell_type": "code",
   "execution_count": 279,
   "id": "cb2ed09c",
   "metadata": {},
   "outputs": [],
   "source": [
    "# Orders table\n",
    "orders['order_purchase_timestamp'] = pd.to_datetime(orders['order_purchase_timestamp'])\n",
    "orders['order_delivered_carrier_date'] = pd.to_datetime(orders['order_delivered_carrier_date'])\n",
    "orders['order_delivered_customer_date'] = pd.to_datetime(orders['order_delivered_customer_date'])\n",
    "orders['order_estimated_delivery_date'] = pd.to_datetime(orders['order_estimated_delivery_date'])\n",
    "\n",
    "# Order Items table\n",
    "order_items['shipping_limit_date'] = pd.to_datetime(order_items['shipping_limit_date'])\n",
    "\n",
    "# Reviews table\n",
    "reviews['review_creation_date'] = pd.to_datetime(reviews['review_creation_date'])\n",
    "reviews['review_answer_timestamp'] = pd.to_datetime(reviews['review_answer_timestamp'])\n"
   ]
  },
  {
   "cell_type": "markdown",
   "id": "c95c3917",
   "metadata": {},
   "source": [
    "___\n",
    "Verify / Check the data types of each DataFrame to ensure successful conversion using .dtypes.\n",
    "____\n",
    "```python\n"
   ]
  },
  {
   "cell_type": "code",
   "execution_count": 280,
   "id": "df570bec",
   "metadata": {},
   "outputs": [
    {
     "data": {
      "application/vnd.microsoft.datawrangler.viewer.v0+json": {
       "columns": [
        {
         "name": "index",
         "rawType": "object",
         "type": "string"
        },
        {
         "name": "0",
         "rawType": "object",
         "type": "unknown"
        }
       ],
       "ref": "ee5f5ba6-49bd-4ae2-aed0-37f11c7ff869",
       "rows": [
        [
         "order_id",
         "object"
        ],
        [
         "customer_id",
         "object"
        ],
        [
         "order_status",
         "object"
        ],
        [
         "order_purchase_timestamp",
         "datetime64[ns]"
        ],
        [
         "order_approved_at",
         "object"
        ],
        [
         "order_delivered_carrier_date",
         "datetime64[ns]"
        ],
        [
         "order_delivered_customer_date",
         "datetime64[ns]"
        ],
        [
         "order_estimated_delivery_date",
         "datetime64[ns]"
        ]
       ],
       "shape": {
        "columns": 1,
        "rows": 8
       }
      },
      "text/plain": [
       "order_id                                 object\n",
       "customer_id                              object\n",
       "order_status                             object\n",
       "order_purchase_timestamp         datetime64[ns]\n",
       "order_approved_at                        object\n",
       "order_delivered_carrier_date     datetime64[ns]\n",
       "order_delivered_customer_date    datetime64[ns]\n",
       "order_estimated_delivery_date    datetime64[ns]\n",
       "dtype: object"
      ]
     },
     "execution_count": 280,
     "metadata": {},
     "output_type": "execute_result"
    }
   ],
   "source": [
    "orders.dtypes"
   ]
  },
  {
   "cell_type": "code",
   "execution_count": 281,
   "id": "28a6d2ea",
   "metadata": {},
   "outputs": [
    {
     "data": {
      "application/vnd.microsoft.datawrangler.viewer.v0+json": {
       "columns": [
        {
         "name": "index",
         "rawType": "object",
         "type": "string"
        },
        {
         "name": "0",
         "rawType": "object",
         "type": "unknown"
        }
       ],
       "ref": "a2dbde27-6b77-4bd6-91b3-c19fbf34bb0e",
       "rows": [
        [
         "order_id",
         "object"
        ],
        [
         "order_item_id",
         "int64"
        ],
        [
         "product_id",
         "object"
        ],
        [
         "seller_id",
         "object"
        ],
        [
         "shipping_limit_date",
         "datetime64[ns]"
        ],
        [
         "price",
         "float64"
        ],
        [
         "freight_value",
         "float64"
        ]
       ],
       "shape": {
        "columns": 1,
        "rows": 7
       }
      },
      "text/plain": [
       "order_id                       object\n",
       "order_item_id                   int64\n",
       "product_id                     object\n",
       "seller_id                      object\n",
       "shipping_limit_date    datetime64[ns]\n",
       "price                         float64\n",
       "freight_value                 float64\n",
       "dtype: object"
      ]
     },
     "execution_count": 281,
     "metadata": {},
     "output_type": "execute_result"
    }
   ],
   "source": [
    "order_items.dtypes"
   ]
  },
  {
   "cell_type": "code",
   "execution_count": 282,
   "id": "20e6d426",
   "metadata": {},
   "outputs": [
    {
     "data": {
      "application/vnd.microsoft.datawrangler.viewer.v0+json": {
       "columns": [
        {
         "name": "index",
         "rawType": "object",
         "type": "string"
        },
        {
         "name": "0",
         "rawType": "object",
         "type": "unknown"
        }
       ],
       "ref": "ced7eb73-547c-442b-9567-3fe213e9e0a1",
       "rows": [
        [
         "review_id",
         "object"
        ],
        [
         "order_id",
         "object"
        ],
        [
         "review_score",
         "int64"
        ],
        [
         "review_comment_title",
         "object"
        ],
        [
         "review_comment_message",
         "object"
        ],
        [
         "review_creation_date",
         "datetime64[ns]"
        ],
        [
         "review_answer_timestamp",
         "datetime64[ns]"
        ]
       ],
       "shape": {
        "columns": 1,
        "rows": 7
       }
      },
      "text/plain": [
       "review_id                          object\n",
       "order_id                           object\n",
       "review_score                        int64\n",
       "review_comment_title               object\n",
       "review_comment_message             object\n",
       "review_creation_date       datetime64[ns]\n",
       "review_answer_timestamp    datetime64[ns]\n",
       "dtype: object"
      ]
     },
     "execution_count": 282,
     "metadata": {},
     "output_type": "execute_result"
    }
   ],
   "source": [
    "reviews.dtypes"
   ]
  },
  {
   "cell_type": "markdown",
   "id": "d353cbd6",
   "metadata": {},
   "source": [
    "### *B. Extracting Latest 3-Month Data Snapshot from Orders and Related Tables*"
   ]
  },
  {
   "cell_type": "code",
   "execution_count": 283,
   "id": "091a4ad7",
   "metadata": {},
   "outputs": [],
   "source": [
    "# Step 1: Define latest 3-month window\n",
    "latest_date = orders['order_purchase_timestamp'].max()\n",
    "three_months_ago = latest_date - pd.DateOffset(months=3)\n",
    "\n",
    "# Step 2: Filter orders\n",
    "filtered_orders = orders[\n",
    "    orders['order_purchase_timestamp'] >= three_months_ago\n",
    "].copy()\n",
    "\n",
    "# Step 3: Get list of order_ids\n",
    "filtered_order_ids = filtered_orders['order_id'].unique()\n",
    "\n",
    "# Step 4: Filter related tables using order_id\n",
    "filtered_order_items = order_items[\n",
    "    order_items['order_id'].isin(filtered_order_ids)\n",
    "].copy()\n",
    "\n",
    "filtered_payments = payments[\n",
    "    payments['order_id'].isin(filtered_order_ids)\n",
    "].copy()\n",
    "\n",
    "filtered_reviews = reviews[\n",
    "    reviews['order_id'].isin(filtered_order_ids)\n",
    "].copy()\n",
    "\n",
    "# Step 5: Filter customers using customer_id from filtered_orders\n",
    "filtered_customers = customers[\n",
    "    customers['customer_id'].isin(filtered_orders['customer_id'])\n",
    "].copy()\n",
    "\n",
    "# Step 6: Filter products using product_id from filtered_order_items\n",
    "filtered_products = products[\n",
    "    products['product_id'].isin(filtered_order_items['product_id'])\n",
    "].copy()\n",
    "\n",
    "# Step 7: Filter sellers using seller_id from filtered_order_items\n",
    "filtered_sellers = sellers[\n",
    "    sellers['seller_id'].isin(filtered_order_items['seller_id'])\n",
    "].copy()\n",
    "\n",
    "# Step 8: Filter category translation using product_category_name from filtered_products\n",
    "filtered_categories = categories[\n",
    "    categories['product_category_name'].isin(filtered_products['product_category_name'])\n",
    "].copy()\n",
    "\n",
    "# Step 9: Filter geolocation using both customer and seller zip codes\n",
    "customer_zip_codes = filtered_customers['customer_zip_code_prefix'].unique()\n",
    "seller_zip_codes = filtered_sellers['seller_zip_code_prefix'].unique()\n",
    "all_zip_codes = pd.concat([\n",
    "    pd.Series(customer_zip_codes),\n",
    "    pd.Series(seller_zip_codes)\n",
    "]).unique()\n",
    "\n",
    "filtered_geo = geo[\n",
    "    geo['geolocation_zip_code_prefix'].isin(all_zip_codes)\n",
    "].copy()"
   ]
  },
  {
   "cell_type": "markdown",
   "id": "b2fc0c3a",
   "metadata": {},
   "source": [
    "___\n",
    "- To focus the analysis on the most recent three months of activity, the datasets were filtered based on the order_purchase_timestamp field. Orders falling within this time window were retained, and all other tables were subsequently filtered to include only the relevant records linked to these recent orders.\n",
    "\n",
    "- This filtering approach ensures temporal consistency across all datasets. It also preserves the relational integrity necessary for downstream merging, analysis, and visualization. Redundant or unrelated entries were excluded, allowing for a cleaner, more focused subset of the data that reflects the latest consumer behavior and transactions\n",
    "____\n",
    "```python"
   ]
  },
  {
   "cell_type": "markdown",
   "id": "fd3fbc95",
   "metadata": {},
   "source": [
    "### *C.Merging All Filtered Data Based on Recent Orders (Last 3 Months)*\n"
   ]
  },
  {
   "cell_type": "code",
   "execution_count": null,
   "id": "4c4c3d77",
   "metadata": {},
   "outputs": [],
   "source": [
    "# Start from filtered_orders to keep all recent orders\n",
    "df = filtered_orders.copy()\n",
    "\n",
    "# Merge with order_items (may create NaNs if no items for some orders indicating maay be incomplete or canceled orders)\n",
    "df = df.merge(filtered_order_items, on='order_id', how='left')\n",
    "\n",
    "# Merge with payments and reviews (still left join to retain all orders)\n",
    "df = df.merge(filtered_payments, on='order_id', how='left')\n",
    "df = df.merge(filtered_reviews, on='order_id', how='left')\n",
    "\n",
    "# Merge with customers using customer_id\n",
    "df = df.merge(filtered_customers, on='customer_id', how='left')\n",
    "\n",
    "# Merge with products and sellers (based on order_items info)\n",
    "df = df.merge(filtered_products, on='product_id', how='left')\n",
    "df = df.merge(filtered_sellers, on='seller_id', how='left')\n",
    "\n",
    "# Merge with product category translation\n",
    "df = df.merge(filtered_categories, on='product_category_name', how='left')\n",
    "\n",
    "# --------- Optional: Add geolocation info ---------\n",
    "\n",
    "# 1. Customer geolocation: average lat/lng by zip\n",
    "geo_avg_customer = filtered_geo.groupby('geolocation_zip_code_prefix')[\n",
    "    ['geolocation_lat', 'geolocation_lng']\n",
    "].mean().reset_index()\n",
    "\n",
    "geo_avg_customer.rename(columns={\n",
    "    'geolocation_zip_code_prefix': 'customer_zip_code_prefix',\n",
    "    'geolocation_lat': 'customer_lat',\n",
    "    'geolocation_lng': 'customer_lng'\n",
    "}, inplace=True)\n",
    "\n",
    "df = df.merge(geo_avg_customer, on='customer_zip_code_prefix', how='left')\n",
    "\n",
    "# 2. Seller geolocation: average lat/lng by zip\n",
    "geo_avg_seller = filtered_geo.groupby('geolocation_zip_code_prefix')[\n",
    "    ['geolocation_lat', 'geolocation_lng']\n",
    "].mean().reset_index()\n",
    "\n",
    "geo_avg_seller.rename(columns={\n",
    "    'geolocation_zip_code_prefix': 'seller_zip_code_prefix',\n",
    "    'geolocation_lat': 'seller_lat',\n",
    "    'geolocation_lng': 'seller_lng'\n",
    "}, inplace=True)\n",
    "\n",
    "df = df.merge(geo_avg_seller, on='seller_zip_code_prefix', how='left')\n"
   ]
  },
  {
   "cell_type": "code",
   "execution_count": 285,
   "id": "fdad4d0f",
   "metadata": {},
   "outputs": [
    {
     "name": "stdout",
     "output_type": "stream",
     "text": [
      "<class 'pandas.core.frame.DataFrame'>\n",
      "RangeIndex: 11777 entries, 0 to 11776\n",
      "Data columns (total 44 columns):\n",
      " #   Column                         Non-Null Count  Dtype         \n",
      "---  ------                         --------------  -----         \n",
      " 0   order_id                       11777 non-null  object        \n",
      " 1   customer_id                    11777 non-null  object        \n",
      " 2   order_status                   11777 non-null  object        \n",
      " 3   order_purchase_timestamp       11777 non-null  datetime64[ns]\n",
      " 4   order_approved_at              11704 non-null  object        \n",
      " 5   order_delivered_carrier_date   11584 non-null  datetime64[ns]\n",
      " 6   order_delivered_customer_date  11499 non-null  datetime64[ns]\n",
      " 7   order_estimated_delivery_date  11777 non-null  datetime64[ns]\n",
      " 8   order_item_id                  11684 non-null  float64       \n",
      " 9   product_id                     11684 non-null  object        \n",
      " 10  seller_id                      11684 non-null  object        \n",
      " 11  shipping_limit_date            11684 non-null  datetime64[ns]\n",
      " 12  price                          11684 non-null  float64       \n",
      " 13  freight_value                  11684 non-null  float64       \n",
      " 14  payment_sequential             11777 non-null  int64         \n",
      " 15  payment_type                   11777 non-null  object        \n",
      " 16  payment_installments           11777 non-null  int64         \n",
      " 17  payment_value                  11777 non-null  float64       \n",
      " 18  review_id                      11714 non-null  object        \n",
      " 19  review_score                   11714 non-null  float64       \n",
      " 20  review_comment_title           4359 non-null   object        \n",
      " 21  review_comment_message         4611 non-null   object        \n",
      " 22  review_creation_date           11714 non-null  datetime64[ns]\n",
      " 23  review_answer_timestamp        11714 non-null  datetime64[ns]\n",
      " 24  customer_unique_id             11777 non-null  object        \n",
      " 25  customer_zip_code_prefix       11777 non-null  int64         \n",
      " 26  customer_city                  11777 non-null  object        \n",
      " 27  customer_state                 11777 non-null  object        \n",
      " 28  product_category_name          11621 non-null  object        \n",
      " 29  product_name_lenght            11621 non-null  float64       \n",
      " 30  product_description_lenght     11621 non-null  float64       \n",
      " 31  product_photos_qty             11621 non-null  float64       \n",
      " 32  product_weight_g               11684 non-null  float64       \n",
      " 33  product_length_cm              11684 non-null  float64       \n",
      " 34  product_height_cm              11684 non-null  float64       \n",
      " 35  product_width_cm               11684 non-null  float64       \n",
      " 36  seller_zip_code_prefix         11684 non-null  float64       \n",
      " 37  seller_city                    11684 non-null  object        \n",
      " 38  seller_state                   11684 non-null  object        \n",
      " 39  product_category_name_english  11604 non-null  object        \n",
      " 40  customer_lat                   11744 non-null  float64       \n",
      " 41  customer_lng                   11744 non-null  float64       \n",
      " 42  seller_lat                     11673 non-null  float64       \n",
      " 43  seller_lng                     11673 non-null  float64       \n",
      "dtypes: datetime64[ns](7), float64(17), int64(3), object(17)\n",
      "memory usage: 4.0+ MB\n"
     ]
    }
   ],
   "source": [
    "df.info()"
   ]
  },
  {
   "cell_type": "code",
   "execution_count": 286,
   "id": "2d07187a",
   "metadata": {},
   "outputs": [
    {
     "name": "stdout",
     "output_type": "stream",
     "text": [
      "Final Filtered and Merged df:\n",
      "Earliest: 2018-07-17 17:32:09\n",
      "Latest: 2018-10-17 17:30:18\n"
     ]
    }
   ],
   "source": [
    "print(\"Final Filtered and Merged df:\")\n",
    "print(\"Earliest:\", df['order_purchase_timestamp'].min())\n",
    "print(\"Latest:\", df['order_purchase_timestamp'].max())"
   ]
  },
  {
   "cell_type": "markdown",
   "id": "d29972f0",
   "metadata": {},
   "source": [
    "___\n",
    "- After filtering the datasets to retain only the relevant records from the most recent three months, multiple data tables were merged to form a single, comprehensive DataFrame.\n",
    "\n",
    "- This merging process was performed using key identifiers such as order_id, customer_id, product_id, and seller_id to preserve the relational structure between orders, customers, products, payments, reviews, sellers, and geolocation data.\n",
    "\n",
    "- As a result, a unified dataset with 11,777 entries and 44 columns was created, containing detailed transaction-level information suitable for in-depth analysis. Temporal coverage in this final dataset ranges from 2018-07-17 to 2018-10-17. Missing values in some columns reflect real-world data gaps such as unreviewed orders or incomplete delivery records.\n",
    "___"
   ]
  },
  {
   "cell_type": "markdown",
   "id": "d0e49e83",
   "metadata": {},
   "source": [
    "### *D. Check for duplicates*"
   ]
  },
  {
   "cell_type": "code",
   "execution_count": 287,
   "id": "e3ac2894",
   "metadata": {},
   "outputs": [
    {
     "data": {
      "text/plain": [
       "0"
      ]
     },
     "execution_count": 287,
     "metadata": {},
     "output_type": "execute_result"
    }
   ],
   "source": [
    "df.duplicated().sum()"
   ]
  },
  {
   "cell_type": "markdown",
   "id": "f5870c3e",
   "metadata": {},
   "source": [
    "___\n",
    "- No duplicate entries were found in the final merged DataFrame, ensuring data integrity for analysis.\n",
    "____\n",
    "```python"
   ]
  },
  {
   "cell_type": "markdown",
   "id": "1f13affd",
   "metadata": {},
   "source": [
    "### *E. Check for Missing Values*"
   ]
  },
  {
   "cell_type": "code",
   "execution_count": 288,
   "id": "15ae1e52",
   "metadata": {},
   "outputs": [
    {
     "data": {
      "application/vnd.microsoft.datawrangler.viewer.v0+json": {
       "columns": [
        {
         "name": "index",
         "rawType": "object",
         "type": "string"
        },
        {
         "name": "Missing Values",
         "rawType": "int64",
         "type": "integer"
        },
        {
         "name": "Percentage",
         "rawType": "float64",
         "type": "float"
        }
       ],
       "ref": "e8f99046-234d-413d-97f9-a20546612e09",
       "rows": [
        [
         "review_comment_title",
         "7418",
         "62.99"
        ],
        [
         "review_comment_message",
         "7166",
         "60.85"
        ],
        [
         "order_delivered_customer_date",
         "278",
         "2.36"
        ],
        [
         "order_delivered_carrier_date",
         "193",
         "1.64"
        ],
        [
         "product_category_name_english",
         "173",
         "1.47"
        ],
        [
         "product_category_name",
         "156",
         "1.32"
        ],
        [
         "product_photos_qty",
         "156",
         "1.32"
        ],
        [
         "product_description_lenght",
         "156",
         "1.32"
        ],
        [
         "product_name_lenght",
         "156",
         "1.32"
        ],
        [
         "seller_lat",
         "104",
         "0.88"
        ],
        [
         "seller_lng",
         "104",
         "0.88"
        ],
        [
         "product_height_cm",
         "93",
         "0.79"
        ],
        [
         "seller_city",
         "93",
         "0.79"
        ],
        [
         "order_item_id",
         "93",
         "0.79"
        ],
        [
         "product_id",
         "93",
         "0.79"
        ],
        [
         "freight_value",
         "93",
         "0.79"
        ],
        [
         "price",
         "93",
         "0.79"
        ],
        [
         "shipping_limit_date",
         "93",
         "0.79"
        ],
        [
         "seller_id",
         "93",
         "0.79"
        ],
        [
         "product_weight_g",
         "93",
         "0.79"
        ],
        [
         "product_length_cm",
         "93",
         "0.79"
        ],
        [
         "seller_state",
         "93",
         "0.79"
        ],
        [
         "product_width_cm",
         "93",
         "0.79"
        ],
        [
         "seller_zip_code_prefix",
         "93",
         "0.79"
        ],
        [
         "order_approved_at",
         "73",
         "0.62"
        ],
        [
         "review_id",
         "63",
         "0.53"
        ],
        [
         "review_answer_timestamp",
         "63",
         "0.53"
        ],
        [
         "review_creation_date",
         "63",
         "0.53"
        ],
        [
         "review_score",
         "63",
         "0.53"
        ],
        [
         "customer_lat",
         "33",
         "0.28"
        ],
        [
         "customer_lng",
         "33",
         "0.28"
        ]
       ],
       "shape": {
        "columns": 2,
        "rows": 31
       }
      },
      "text/html": [
       "<div>\n",
       "<style scoped>\n",
       "    .dataframe tbody tr th:only-of-type {\n",
       "        vertical-align: middle;\n",
       "    }\n",
       "\n",
       "    .dataframe tbody tr th {\n",
       "        vertical-align: top;\n",
       "    }\n",
       "\n",
       "    .dataframe thead th {\n",
       "        text-align: right;\n",
       "    }\n",
       "</style>\n",
       "<table border=\"1\" class=\"dataframe\">\n",
       "  <thead>\n",
       "    <tr style=\"text-align: right;\">\n",
       "      <th></th>\n",
       "      <th>Missing Values</th>\n",
       "      <th>Percentage</th>\n",
       "    </tr>\n",
       "  </thead>\n",
       "  <tbody>\n",
       "    <tr>\n",
       "      <th>review_comment_title</th>\n",
       "      <td>7418</td>\n",
       "      <td>62.99</td>\n",
       "    </tr>\n",
       "    <tr>\n",
       "      <th>review_comment_message</th>\n",
       "      <td>7166</td>\n",
       "      <td>60.85</td>\n",
       "    </tr>\n",
       "    <tr>\n",
       "      <th>order_delivered_customer_date</th>\n",
       "      <td>278</td>\n",
       "      <td>2.36</td>\n",
       "    </tr>\n",
       "    <tr>\n",
       "      <th>order_delivered_carrier_date</th>\n",
       "      <td>193</td>\n",
       "      <td>1.64</td>\n",
       "    </tr>\n",
       "    <tr>\n",
       "      <th>product_category_name_english</th>\n",
       "      <td>173</td>\n",
       "      <td>1.47</td>\n",
       "    </tr>\n",
       "    <tr>\n",
       "      <th>product_category_name</th>\n",
       "      <td>156</td>\n",
       "      <td>1.32</td>\n",
       "    </tr>\n",
       "    <tr>\n",
       "      <th>product_photos_qty</th>\n",
       "      <td>156</td>\n",
       "      <td>1.32</td>\n",
       "    </tr>\n",
       "    <tr>\n",
       "      <th>product_description_lenght</th>\n",
       "      <td>156</td>\n",
       "      <td>1.32</td>\n",
       "    </tr>\n",
       "    <tr>\n",
       "      <th>product_name_lenght</th>\n",
       "      <td>156</td>\n",
       "      <td>1.32</td>\n",
       "    </tr>\n",
       "    <tr>\n",
       "      <th>seller_lat</th>\n",
       "      <td>104</td>\n",
       "      <td>0.88</td>\n",
       "    </tr>\n",
       "    <tr>\n",
       "      <th>seller_lng</th>\n",
       "      <td>104</td>\n",
       "      <td>0.88</td>\n",
       "    </tr>\n",
       "    <tr>\n",
       "      <th>product_height_cm</th>\n",
       "      <td>93</td>\n",
       "      <td>0.79</td>\n",
       "    </tr>\n",
       "    <tr>\n",
       "      <th>seller_city</th>\n",
       "      <td>93</td>\n",
       "      <td>0.79</td>\n",
       "    </tr>\n",
       "    <tr>\n",
       "      <th>order_item_id</th>\n",
       "      <td>93</td>\n",
       "      <td>0.79</td>\n",
       "    </tr>\n",
       "    <tr>\n",
       "      <th>product_id</th>\n",
       "      <td>93</td>\n",
       "      <td>0.79</td>\n",
       "    </tr>\n",
       "    <tr>\n",
       "      <th>freight_value</th>\n",
       "      <td>93</td>\n",
       "      <td>0.79</td>\n",
       "    </tr>\n",
       "    <tr>\n",
       "      <th>price</th>\n",
       "      <td>93</td>\n",
       "      <td>0.79</td>\n",
       "    </tr>\n",
       "    <tr>\n",
       "      <th>shipping_limit_date</th>\n",
       "      <td>93</td>\n",
       "      <td>0.79</td>\n",
       "    </tr>\n",
       "    <tr>\n",
       "      <th>seller_id</th>\n",
       "      <td>93</td>\n",
       "      <td>0.79</td>\n",
       "    </tr>\n",
       "    <tr>\n",
       "      <th>product_weight_g</th>\n",
       "      <td>93</td>\n",
       "      <td>0.79</td>\n",
       "    </tr>\n",
       "    <tr>\n",
       "      <th>product_length_cm</th>\n",
       "      <td>93</td>\n",
       "      <td>0.79</td>\n",
       "    </tr>\n",
       "    <tr>\n",
       "      <th>seller_state</th>\n",
       "      <td>93</td>\n",
       "      <td>0.79</td>\n",
       "    </tr>\n",
       "    <tr>\n",
       "      <th>product_width_cm</th>\n",
       "      <td>93</td>\n",
       "      <td>0.79</td>\n",
       "    </tr>\n",
       "    <tr>\n",
       "      <th>seller_zip_code_prefix</th>\n",
       "      <td>93</td>\n",
       "      <td>0.79</td>\n",
       "    </tr>\n",
       "    <tr>\n",
       "      <th>order_approved_at</th>\n",
       "      <td>73</td>\n",
       "      <td>0.62</td>\n",
       "    </tr>\n",
       "    <tr>\n",
       "      <th>review_id</th>\n",
       "      <td>63</td>\n",
       "      <td>0.53</td>\n",
       "    </tr>\n",
       "    <tr>\n",
       "      <th>review_answer_timestamp</th>\n",
       "      <td>63</td>\n",
       "      <td>0.53</td>\n",
       "    </tr>\n",
       "    <tr>\n",
       "      <th>review_creation_date</th>\n",
       "      <td>63</td>\n",
       "      <td>0.53</td>\n",
       "    </tr>\n",
       "    <tr>\n",
       "      <th>review_score</th>\n",
       "      <td>63</td>\n",
       "      <td>0.53</td>\n",
       "    </tr>\n",
       "    <tr>\n",
       "      <th>customer_lat</th>\n",
       "      <td>33</td>\n",
       "      <td>0.28</td>\n",
       "    </tr>\n",
       "    <tr>\n",
       "      <th>customer_lng</th>\n",
       "      <td>33</td>\n",
       "      <td>0.28</td>\n",
       "    </tr>\n",
       "  </tbody>\n",
       "</table>\n",
       "</div>"
      ],
      "text/plain": [
       "                               Missing Values  Percentage\n",
       "review_comment_title                     7418       62.99\n",
       "review_comment_message                   7166       60.85\n",
       "order_delivered_customer_date             278        2.36\n",
       "order_delivered_carrier_date              193        1.64\n",
       "product_category_name_english             173        1.47\n",
       "product_category_name                     156        1.32\n",
       "product_photos_qty                        156        1.32\n",
       "product_description_lenght                156        1.32\n",
       "product_name_lenght                       156        1.32\n",
       "seller_lat                                104        0.88\n",
       "seller_lng                                104        0.88\n",
       "product_height_cm                          93        0.79\n",
       "seller_city                                93        0.79\n",
       "order_item_id                              93        0.79\n",
       "product_id                                 93        0.79\n",
       "freight_value                              93        0.79\n",
       "price                                      93        0.79\n",
       "shipping_limit_date                        93        0.79\n",
       "seller_id                                  93        0.79\n",
       "product_weight_g                           93        0.79\n",
       "product_length_cm                          93        0.79\n",
       "seller_state                               93        0.79\n",
       "product_width_cm                           93        0.79\n",
       "seller_zip_code_prefix                     93        0.79\n",
       "order_approved_at                          73        0.62\n",
       "review_id                                  63        0.53\n",
       "review_answer_timestamp                    63        0.53\n",
       "review_creation_date                       63        0.53\n",
       "review_score                               63        0.53\n",
       "customer_lat                               33        0.28\n",
       "customer_lng                               33        0.28"
      ]
     },
     "execution_count": 288,
     "metadata": {},
     "output_type": "execute_result"
    }
   ],
   "source": [
    "# Percentage of missing values\n",
    "missing_percent = (df.isnull().mean() * 100).round(2)\n",
    "missing_summary = pd.DataFrame({\n",
    "    'Missing Values': df.isnull().sum(),\n",
    "    'Percentage': missing_percent\n",
    "})\n",
    "missing_summary = missing_summary[missing_summary['Missing Values'] > 0].sort_values(by='Missing Values', ascending=False)\n",
    "\n",
    "missing_summary"
   ]
  },
  {
   "cell_type": "code",
   "execution_count": 289,
   "id": "3183a382",
   "metadata": {},
   "outputs": [],
   "source": [
    "# Remove columns with more than 50% missing values\n",
    "threshold = 0.5  # 50%\n",
    "df = df.loc[:, df.isnull().mean() <= threshold]"
   ]
  },
  {
   "cell_type": "markdown",
   "id": "a34b9611",
   "metadata": {},
   "source": [
    "#### Fill datetime columns with a related datetime column (if known), else use forward fill"
   ]
  },
  {
   "cell_type": "code",
   "execution_count": 290,
   "id": "14343e46",
   "metadata": {},
   "outputs": [],
   "source": [
    "import warnings\n",
    "\n",
    "# Suppress all warnings \n",
    "warnings.filterwarnings('ignore')\n",
    "\n",
    "# Fill datetime columns with a related datetime column (if known), else use forward fill\n",
    "datetime_cols = df.select_dtypes(include='datetime64[ns]').columns\n",
    "\n",
    "for col in datetime_cols:\n",
    "    if col == 'order_approved_at':\n",
    "        df[col] = df[col].fillna(df['order_purchase_timestamp'])  # domain-specific logic\n",
    "    else:\n",
    "        df[col] = df[col].fillna(method='ffill')  # forward fill as default for datetime"
   ]
  },
  {
   "cell_type": "markdown",
   "id": "04003b68",
   "metadata": {},
   "source": [
    "#### Fill missing numeric values with mean or median using skewness check"
   ]
  },
  {
   "cell_type": "code",
   "execution_count": 291,
   "id": "61f1ca88",
   "metadata": {},
   "outputs": [],
   "source": [
    "numeric_cols = df.select_dtypes(include=['float64', 'int64']).columns\n",
    "\n",
    "for col in numeric_cols:\n",
    "    if df[col].isnull().sum() > 0:  # only process columns with missing values\n",
    "        skewness = df[col].skew()\n",
    "        if abs(skewness) > 1:  # high skew: use median\n",
    "            df[col] = df[col].fillna(df[col].median())\n",
    "        else:  # low or moderate skew: use mean\n",
    "            df[col] = df[col].fillna(df[col].mean())"
   ]
  },
  {
   "cell_type": "markdown",
   "id": "03c43eaf",
   "metadata": {},
   "source": [
    "#### Fill object (categorical) columns with mode"
   ]
  },
  {
   "cell_type": "code",
   "execution_count": 292,
   "id": "e0efe333",
   "metadata": {},
   "outputs": [],
   "source": [
    "# Fill object (categorical) columns with mode\n",
    "object_cols = df.select_dtypes(include='object').columns\n",
    "\n",
    "for col in object_cols:\n",
    "    if df[col].isnull().any():\n",
    "        mode_value = df[col].mode().iloc[0] if not df[col].mode().empty else 'unknown'\n",
    "        df[col] = df[col].fillna(mode_value)\n"
   ]
  },
  {
   "cell_type": "markdown",
   "id": "f113f4cf",
   "metadata": {},
   "source": [
    "#### Verify/Check the missing values after filling"
   ]
  },
  {
   "cell_type": "code",
   "execution_count": 293,
   "id": "44403206",
   "metadata": {},
   "outputs": [
    {
     "data": {
      "application/vnd.microsoft.datawrangler.viewer.v0+json": {
       "columns": [
        {
         "name": "index",
         "rawType": "object",
         "type": "string"
        },
        {
         "name": "0",
         "rawType": "int64",
         "type": "integer"
        }
       ],
       "ref": "f317d30a-ced4-4323-8f0a-42cbc124552e",
       "rows": [
        [
         "order_id",
         "0"
        ],
        [
         "customer_id",
         "0"
        ],
        [
         "order_status",
         "0"
        ],
        [
         "order_purchase_timestamp",
         "0"
        ],
        [
         "order_approved_at",
         "0"
        ],
        [
         "order_delivered_carrier_date",
         "0"
        ],
        [
         "order_delivered_customer_date",
         "0"
        ],
        [
         "order_estimated_delivery_date",
         "0"
        ],
        [
         "order_item_id",
         "0"
        ],
        [
         "product_id",
         "0"
        ],
        [
         "seller_id",
         "0"
        ],
        [
         "shipping_limit_date",
         "0"
        ],
        [
         "price",
         "0"
        ],
        [
         "freight_value",
         "0"
        ],
        [
         "payment_sequential",
         "0"
        ],
        [
         "payment_type",
         "0"
        ],
        [
         "payment_installments",
         "0"
        ],
        [
         "payment_value",
         "0"
        ],
        [
         "review_id",
         "0"
        ],
        [
         "review_score",
         "0"
        ],
        [
         "review_creation_date",
         "0"
        ],
        [
         "review_answer_timestamp",
         "0"
        ],
        [
         "customer_unique_id",
         "0"
        ],
        [
         "customer_zip_code_prefix",
         "0"
        ],
        [
         "customer_city",
         "0"
        ],
        [
         "customer_state",
         "0"
        ],
        [
         "product_category_name",
         "0"
        ],
        [
         "product_name_lenght",
         "0"
        ],
        [
         "product_description_lenght",
         "0"
        ],
        [
         "product_photos_qty",
         "0"
        ],
        [
         "product_weight_g",
         "0"
        ],
        [
         "product_length_cm",
         "0"
        ],
        [
         "product_height_cm",
         "0"
        ],
        [
         "product_width_cm",
         "0"
        ],
        [
         "seller_zip_code_prefix",
         "0"
        ],
        [
         "seller_city",
         "0"
        ],
        [
         "seller_state",
         "0"
        ],
        [
         "product_category_name_english",
         "0"
        ],
        [
         "customer_lat",
         "0"
        ],
        [
         "customer_lng",
         "0"
        ],
        [
         "seller_lat",
         "0"
        ],
        [
         "seller_lng",
         "0"
        ]
       ],
       "shape": {
        "columns": 1,
        "rows": 42
       }
      },
      "text/plain": [
       "order_id                         0\n",
       "customer_id                      0\n",
       "order_status                     0\n",
       "order_purchase_timestamp         0\n",
       "order_approved_at                0\n",
       "order_delivered_carrier_date     0\n",
       "order_delivered_customer_date    0\n",
       "order_estimated_delivery_date    0\n",
       "order_item_id                    0\n",
       "product_id                       0\n",
       "seller_id                        0\n",
       "shipping_limit_date              0\n",
       "price                            0\n",
       "freight_value                    0\n",
       "payment_sequential               0\n",
       "payment_type                     0\n",
       "payment_installments             0\n",
       "payment_value                    0\n",
       "review_id                        0\n",
       "review_score                     0\n",
       "review_creation_date             0\n",
       "review_answer_timestamp          0\n",
       "customer_unique_id               0\n",
       "customer_zip_code_prefix         0\n",
       "customer_city                    0\n",
       "customer_state                   0\n",
       "product_category_name            0\n",
       "product_name_lenght              0\n",
       "product_description_lenght       0\n",
       "product_photos_qty               0\n",
       "product_weight_g                 0\n",
       "product_length_cm                0\n",
       "product_height_cm                0\n",
       "product_width_cm                 0\n",
       "seller_zip_code_prefix           0\n",
       "seller_city                      0\n",
       "seller_state                     0\n",
       "product_category_name_english    0\n",
       "customer_lat                     0\n",
       "customer_lng                     0\n",
       "seller_lat                       0\n",
       "seller_lng                       0\n",
       "dtype: int64"
      ]
     },
     "execution_count": 293,
     "metadata": {},
     "output_type": "execute_result"
    }
   ],
   "source": [
    "df.isnull().sum()\n"
   ]
  },
  {
   "cell_type": "code",
   "execution_count": 294,
   "id": "e7027d55",
   "metadata": {},
   "outputs": [
    {
     "name": "stdout",
     "output_type": "stream",
     "text": [
      "<class 'pandas.core.frame.DataFrame'>\n",
      "RangeIndex: 11777 entries, 0 to 11776\n",
      "Data columns (total 42 columns):\n",
      " #   Column                         Non-Null Count  Dtype         \n",
      "---  ------                         --------------  -----         \n",
      " 0   order_id                       11777 non-null  object        \n",
      " 1   customer_id                    11777 non-null  object        \n",
      " 2   order_status                   11777 non-null  object        \n",
      " 3   order_purchase_timestamp       11777 non-null  datetime64[ns]\n",
      " 4   order_approved_at              11777 non-null  object        \n",
      " 5   order_delivered_carrier_date   11777 non-null  datetime64[ns]\n",
      " 6   order_delivered_customer_date  11777 non-null  datetime64[ns]\n",
      " 7   order_estimated_delivery_date  11777 non-null  datetime64[ns]\n",
      " 8   order_item_id                  11777 non-null  float64       \n",
      " 9   product_id                     11777 non-null  object        \n",
      " 10  seller_id                      11777 non-null  object        \n",
      " 11  shipping_limit_date            11777 non-null  datetime64[ns]\n",
      " 12  price                          11777 non-null  float64       \n",
      " 13  freight_value                  11777 non-null  float64       \n",
      " 14  payment_sequential             11777 non-null  int64         \n",
      " 15  payment_type                   11777 non-null  object        \n",
      " 16  payment_installments           11777 non-null  int64         \n",
      " 17  payment_value                  11777 non-null  float64       \n",
      " 18  review_id                      11777 non-null  object        \n",
      " 19  review_score                   11777 non-null  float64       \n",
      " 20  review_creation_date           11777 non-null  datetime64[ns]\n",
      " 21  review_answer_timestamp        11777 non-null  datetime64[ns]\n",
      " 22  customer_unique_id             11777 non-null  object        \n",
      " 23  customer_zip_code_prefix       11777 non-null  int64         \n",
      " 24  customer_city                  11777 non-null  object        \n",
      " 25  customer_state                 11777 non-null  object        \n",
      " 26  product_category_name          11777 non-null  object        \n",
      " 27  product_name_lenght            11777 non-null  float64       \n",
      " 28  product_description_lenght     11777 non-null  float64       \n",
      " 29  product_photos_qty             11777 non-null  float64       \n",
      " 30  product_weight_g               11777 non-null  float64       \n",
      " 31  product_length_cm              11777 non-null  float64       \n",
      " 32  product_height_cm              11777 non-null  float64       \n",
      " 33  product_width_cm               11777 non-null  float64       \n",
      " 34  seller_zip_code_prefix         11777 non-null  float64       \n",
      " 35  seller_city                    11777 non-null  object        \n",
      " 36  seller_state                   11777 non-null  object        \n",
      " 37  product_category_name_english  11777 non-null  object        \n",
      " 38  customer_lat                   11777 non-null  float64       \n",
      " 39  customer_lng                   11777 non-null  float64       \n",
      " 40  seller_lat                     11777 non-null  float64       \n",
      " 41  seller_lng                     11777 non-null  float64       \n",
      "dtypes: datetime64[ns](7), float64(17), int64(3), object(15)\n",
      "memory usage: 3.8+ MB\n"
     ]
    }
   ],
   "source": [
    "df.info()"
   ]
  },
  {
   "cell_type": "markdown",
   "id": "3e92ae91",
   "metadata": {},
   "source": [
    "### *F. Add Calculated Fields*"
   ]
  },
  {
   "cell_type": "markdown",
   "id": "e9ce0242",
   "metadata": {},
   "source": [
    "#### Profit Margin"
   ]
  },
  {
   "cell_type": "code",
   "execution_count": 295,
   "id": "53840707",
   "metadata": {},
   "outputs": [
    {
     "data": {
      "application/vnd.microsoft.datawrangler.viewer.v0+json": {
       "columns": [
        {
         "name": "index",
         "rawType": "int64",
         "type": "integer"
        },
        {
         "name": "profit_margin",
         "rawType": "float64",
         "type": "float"
        }
       ],
       "ref": "451308e8-e572-480b-9069-b64134e323dd",
       "rows": [
        [
         "0",
         "0.81"
        ],
        [
         "1",
         "0.88"
        ],
        [
         "2",
         "0.36"
        ],
        [
         "3",
         "0.84"
        ],
        [
         "4",
         "0.95"
        ]
       ],
       "shape": {
        "columns": 1,
        "rows": 5
       }
      },
      "text/plain": [
       "0    0.81\n",
       "1    0.88\n",
       "2    0.36\n",
       "3    0.84\n",
       "4    0.95\n",
       "Name: profit_margin, dtype: float64"
      ]
     },
     "execution_count": 295,
     "metadata": {},
     "output_type": "execute_result"
    }
   ],
   "source": [
    "df['profit_margin'] =round((df['price'] - df['freight_value']) / df['price'],2)\n",
    "df['profit_margin'].head()"
   ]
  },
  {
   "cell_type": "markdown",
   "id": "ca66d27b",
   "metadata": {},
   "source": [
    "___\n",
    "- **Profit Margin** calculated using the formula:\n",
    "\n",
    "  **Profit Margin** = (Price − Freight Value) / Price\n",
    "\n",
    "\n",
    "  - This metric shows how much of the **product price** is left after subtracting the **freight cost** (logistics).\n",
    "  - A **higher value** indicates more profit relative to the selling price.\n",
    "\n",
    "  #### 🔍 Example Interpretation:\n",
    "  - For the **first row**, `profit_margin = 0.81`:\n",
    "    - This means that **81% of the product price is retained as profit** after covering shipping costs.\n",
    "    - Only **19% of the price** went toward freight expenses.\n",
    "___"
   ]
  },
  {
   "cell_type": "markdown",
   "id": "d6d8f416",
   "metadata": {},
   "source": [
    "#### Purchase Frequency per Customer"
   ]
  },
  {
   "cell_type": "code",
   "execution_count": 296,
   "id": "4427f953",
   "metadata": {},
   "outputs": [],
   "source": [
    "purchase_freq = df.groupby('customer_unique_id')['order_id'].nunique()\n",
    "df['purchase_frequency'] = df['customer_unique_id'].map(purchase_freq)"
   ]
  },
  {
   "cell_type": "markdown",
   "id": "4ebff4f8",
   "metadata": {},
   "source": [
    "___\n",
    "To understand **how often each customer makes a purchase**, **Purchase frequency** based on unique order IDs associated with each customer was calculated.\n",
    "\n",
    "- Helps identify **repeat customers** vs. **one-time buyers**\n",
    "- Enables **customer segmentation** based on loyalty or shopping behavior\n",
    "- Useful for **churn prediction**, **marketing strategies**, and **customer lifetime value** analysis\n",
    "___\n"
   ]
  },
  {
   "cell_type": "markdown",
   "id": "4cdc574f",
   "metadata": {},
   "source": [
    "### *G. Handle Outliers* "
   ]
  },
  {
   "cell_type": "code",
   "execution_count": 297,
   "id": "91250c30",
   "metadata": {},
   "outputs": [],
   "source": [
    "import numpy as np\n",
    "\n",
    "numeric_cols = df.select_dtypes(include=['float64', 'int64']).columns\n",
    "\n",
    "for col in numeric_cols:\n",
    "    Q1 = df[col].quantile(0.25)        # 25th percentile (lower quartile)\n",
    "    Q3 = df[col].quantile(0.75)        # 75th percentile (upper quartile)\n",
    "    IQR = Q3 - Q1                      # Interquartile Range\n",
    "    lower = Q1 - 1.5 * IQR             # Lower bound for outlier detection\n",
    "    upper = Q3 + 1.5 * IQR             # Upper bound for outlier detection\n",
    "\n",
    "    # Cap values above upper to upper, and below lower to lower\n",
    "    df[col] = np.where(df[col] > upper, upper,\n",
    "                       np.where(df[col] < lower, lower, df[col]))\n"
   ]
  },
  {
   "cell_type": "markdown",
   "id": "b2831a6f",
   "metadata": {},
   "source": [
    "___\n",
    "##### Handling Outliers Using the IQR Method\n",
    "This code handles outliers in all numeric columns using the **IQR (Interquartile Range)** method by **capping** them:\n",
    "\n",
    "- Outliers **below the lower bound** are replaced with the **lower bound value**\n",
    "- Outliers **above the upper bound** are replaced with the **upper bound value**\n",
    "- Values **within bounds** are left unchanged\n",
    "\n",
    "\n",
    "##### Why It's Used\n",
    "- Reduces noise in the dataset without removing rows  \n",
    "- Keeps extreme values from skewing models or visualizations  \n",
    "- Maintains data size while improving quality\n",
    "____\n",
    "```python\n"
   ]
  },
  {
   "cell_type": "markdown",
   "id": "0cb5eef0",
   "metadata": {},
   "source": [
    "### *H. Standardize Formats & Remove Noise*"
   ]
  },
  {
   "cell_type": "markdown",
   "id": "b5f51c90",
   "metadata": {},
   "source": [
    "##### Ensuring consistent formats across all object (string) columns"
   ]
  },
  {
   "cell_type": "code",
   "execution_count": 298,
   "id": "90a8c79f",
   "metadata": {},
   "outputs": [],
   "source": [
    "object_cols = df.select_dtypes(include='object').columns\n",
    "\n",
    "for col in object_cols:\n",
    "    df[col] = df[col].astype(str).str.lower().str.strip()"
   ]
  },
  {
   "cell_type": "markdown",
   "id": "78a8830c",
   "metadata": {},
   "source": [
    "___\n",
    "This code cleans all object (text) columns by applying three transformations:\n",
    "\n",
    "- **`astype(str)`**:  \n",
    "  Ensures the column is treated as a string (even if some values are not).\n",
    "\n",
    "- **`.str.lower()`**:  \n",
    "  Converts all text to **lowercase**.  \n",
    "  Example: `'Delivered'` → `'delivered'`  \n",
    "  Useful for consistency during comparison, grouping, etc.\n",
    "\n",
    "- **`.str.strip()`**:  \n",
    "  Removes **leading and trailing whitespace**.  \n",
    "  Example: `' shipped '` → `'shipped'`  \n",
    "  Prevents issues where `'shipped '` ≠ `'shipped'`.\n",
    "\n",
    "##### Why It’s Important\n",
    "\n",
    "- Makes data **uniform and consistent**\n",
    "- Prevents errors in **filtering, grouping, or merging**\n",
    "- A good practice in **data cleaning** for all text columns\n",
    "___"
   ]
  },
  {
   "cell_type": "markdown",
   "id": "bb653a83",
   "metadata": {},
   "source": [
    "##### Datatype Conversion"
   ]
  },
  {
   "cell_type": "code",
   "execution_count": 299,
   "id": "30132995",
   "metadata": {},
   "outputs": [],
   "source": [
    "df['order_item_id'] = df['order_item_id'].astype(str)\n",
    "df['seller_zip_code_prefix'] = df['seller_zip_code_prefix'].astype(str)"
   ]
  },
  {
   "cell_type": "code",
   "execution_count": 300,
   "id": "eb37310b",
   "metadata": {},
   "outputs": [],
   "source": [
    "columns_to_int = [\n",
    "    'review_score',\n",
    "    'product_name_lenght',\n",
    "    'product_description_lenght',\n",
    "    'product_photos_qty',\n",
    "]\n",
    "\n",
    "# Convert using astype after handling any potential NaN or float values\n",
    "for col in columns_to_int:\n",
    "    df[col] = df[col].round().astype('Int64')  # 'Int64' allows for missing values"
   ]
  },
  {
   "cell_type": "markdown",
   "id": "22360c8f",
   "metadata": {},
   "source": [
    "#### Verify/Check the data types of each DataFrame to ensure successful conversion."
   ]
  },
  {
   "cell_type": "code",
   "execution_count": 301,
   "id": "aad2e83b",
   "metadata": {},
   "outputs": [
    {
     "name": "stdout",
     "output_type": "stream",
     "text": [
      "object\n",
      "object\n"
     ]
    }
   ],
   "source": [
    "print(df['order_item_id'].dtype)\n",
    "print(df['seller_zip_code_prefix'].dtype)"
   ]
  },
  {
   "cell_type": "code",
   "execution_count": 302,
   "id": "b0d51098",
   "metadata": {},
   "outputs": [
    {
     "name": "stdout",
     "output_type": "stream",
     "text": [
      "review_score                  Int64\n",
      "product_name_lenght           Int64\n",
      "product_description_lenght    Int64\n",
      "product_photos_qty            Int64\n",
      "dtype: object\n"
     ]
    }
   ],
   "source": [
    "# view selected columns' data types\n",
    "columns_to_int = [\n",
    "    'review_score',\n",
    "    'product_name_lenght',\n",
    "    'product_description_lenght',\n",
    "    'product_photos_qty',\n",
    "]\n",
    "\n",
    "print(df[columns_to_int].dtypes)"
   ]
  }
 ],
 "metadata": {
  "kernelspec": {
   "display_name": "Python 3",
   "language": "python",
   "name": "python3"
  },
  "language_info": {
   "codemirror_mode": {
    "name": "ipython",
    "version": 3
   },
   "file_extension": ".py",
   "mimetype": "text/x-python",
   "name": "python",
   "nbconvert_exporter": "python",
   "pygments_lexer": "ipython3",
   "version": "3.12.10"
  }
 },
 "nbformat": 4,
 "nbformat_minor": 5
}
