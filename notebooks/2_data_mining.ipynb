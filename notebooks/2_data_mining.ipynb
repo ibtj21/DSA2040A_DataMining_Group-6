{
 "cells": [
  {
   "cell_type": "markdown",
   "id": "3c37bdc0",
   "metadata": {},
   "source": [
    "## **Section by Selmah & Hana – Data Mining process**"
   ]
  },
  {
   "cell_type": "markdown",
   "id": "613a6c95",
   "metadata": {},
   "source": [
    "##  K-Means Clustering: Theory & Working Principle\n",
    "\n",
    "###  What is K-Means?\n",
    "K-Means is an **unsupervised machine learning algorithm** used to group data into **K clusters** based on feature similarity. It is used with continuous numerical data and is particularly effective for actions like **customer segmentation** and **pattern recognition**. \n",
    "\n",
    "It minimizes the **variance within clusters** and maximizes the variance between clusters.\n",
    "\n",
    "---\n",
    "\n",
    "###  **How It Works (Step-by-Step)**\n",
    "1. **Choose K**: Decide how many clusters you want to create (e.g., K=3).\n",
    "2. **Initialize Centroids**: Randomly place K points (centroids) in the data space.\n",
    "3. **Assign Points**: Each data point is assigned to the **nearest centroid** (using distance, usually Euclidean).\n",
    "4. **Update Centroids**: Calculate the **mean position** of points in each cluster and move the centroid there.\n",
    "5. **Repeat Steps**: Continue until centroids stop changing significantly (algorithm converges).\n",
    "\n",
    "---\n",
    "\n",
    "###  **Mathematics Behind It**\n",
    "The algorithm minimizes the **Within-Cluster Sum of Squares (WCSS) also known as the **inertia**:**\n",
    "\n",
    "\\[\n",
    "J = \\sum_{k=1}^{K} \\sum_{i \\in C_k} ||x_i - \\mu_k||^2\n",
    "\\]\n",
    "Where:  \n",
    "- \\( C_k \\) = cluster k  \n",
    "- \\( x_i \\) = data point  \n",
    "- \\( \\mu_k \\) = centroid of cluster k\n",
    "\n",
    "Uses Squared Distance to Penalize distant points more (outliers)\n",
    "\n",
    "Its goal is : To minimize the total cost \\( J \\).The indirect effect is that it also maximizes the variance between clusters.Because K-Means recomputes centroids in every iteration to better separate the data. \n",
    "\n",
    "K-Means indirectly maximizes the **Between-Cluster Sum of Squares (BCSS)**:\n",
    "\n",
    "\\[\n",
    "\\text{BCSS} = \\sum_{k=1}^{K} n_k ||\\mu_k - \\mu||^2\n",
    "\\]\n",
    "\n",
    "Where:\n",
    "- \\( n_k \\) is the number of data points in cluster \\( k \\)\n",
    "- \\( \\mu_k \\) is the centroid of cluster \\( k \\)\n",
    "- \\( \\mu \\) is the overall mean (centroid of all data points)\n",
    "\n",
    "- Achieve **compact**, **distinct** clusters .Applying ANOVA after clustering often leads to rejection of the null hypothesis that all group means are equal.\n",
    "---\n",
    "\n",
    "###  Why Use K-Means?\n",
    "-  Simple and fast\n",
    "-  Works well for large datasets\n",
    "-  Great for segmentation (customers, products, etc.)\n",
    "\n",
    "---\n",
    "\n",
    "###  **Limitations**\n",
    "-  Must predefine K\n",
    "-  Sensitive to outliers\n",
    "-  Works best with spherical (non-overlapping) clusters\n",
    "\n",
    "---\n",
    "\n",
    "###  **Application to Our Project**\n",
    "We want to identify **customer segments** or **order patterns** based on numerical attributes such as:\n",
    "- `payment_value` (how much was paid per order)\n",
    "- `purchase_frequency` (how often customers purchase)\n",
    "- `product_weight_g` (could affect shipping behavior)\n",
    "\n",
    "These clusters will help uncover patterns like **high-value customers* , **Bulk buyers** , and **frequent buyers** which are crucial for decision-making.\n",
    "\n",
    "---"
   ]
  },
  {
   "cell_type": "markdown",
   "id": "92f82094",
   "metadata": {},
   "source": [
    "## Step 1. Loading the Required Libraries\n",
    "**Why?**  \n",
    "We need to import the libraries necessary for:\n",
    "- **Data manipulation** (pandas)\n",
    "- **Feature scaling** (StandardScaler)\n",
    "- **Clustering** (KMeans)\n",
    "- **Visualization** (matplotlib, seaborn)"
   ]
  },
  {
   "cell_type": "code",
   "execution_count": 455,
   "id": "deecd6ad",
   "metadata": {},
   "outputs": [],
   "source": [
    "# Import required libraries\n",
    "import pandas as pd                     # For data manipulation\n",
    "from sklearn.preprocessing import StandardScaler  # For feature scaling\n",
    "from sklearn.cluster import KMeans      # For K-Means clustering\n",
    "import matplotlib.pyplot as plt         # For basic plotting\n",
    "import seaborn as sns                   # For improved visualization\n"
   ]
  },
  {
   "cell_type": "markdown",
   "id": "4f2dccd0",
   "metadata": {},
   "source": [
    "## Step 2. Loading the Transformed Dataset\n",
    "**Why?**  \n",
    "We use the **cleaned and transformed dataset** from the ETL step.  \n",
    "This ensures we start with **processed data**.\n"
   ]
  },
  {
   "cell_type": "code",
   "execution_count": 456,
   "id": "472062e7",
   "metadata": {},
   "outputs": [
    {
     "data": {
      "application/vnd.microsoft.datawrangler.viewer.v0+json": {
       "columns": [
        {
         "name": "index",
         "rawType": "int64",
         "type": "integer"
        },
        {
         "name": "order_id",
         "rawType": "object",
         "type": "string"
        },
        {
         "name": "customer_id",
         "rawType": "object",
         "type": "string"
        },
        {
         "name": "order_status",
         "rawType": "object",
         "type": "string"
        },
        {
         "name": "order_purchase_timestamp",
         "rawType": "object",
         "type": "string"
        },
        {
         "name": "order_approved_at",
         "rawType": "object",
         "type": "string"
        },
        {
         "name": "order_delivered_carrier_date",
         "rawType": "object",
         "type": "string"
        },
        {
         "name": "order_delivered_customer_date",
         "rawType": "object",
         "type": "string"
        },
        {
         "name": "order_estimated_delivery_date",
         "rawType": "object",
         "type": "string"
        },
        {
         "name": "order_item_id",
         "rawType": "float64",
         "type": "float"
        },
        {
         "name": "product_id",
         "rawType": "object",
         "type": "string"
        },
        {
         "name": "seller_id",
         "rawType": "object",
         "type": "string"
        },
        {
         "name": "shipping_limit_date",
         "rawType": "object",
         "type": "string"
        },
        {
         "name": "price",
         "rawType": "float64",
         "type": "float"
        },
        {
         "name": "freight_value",
         "rawType": "float64",
         "type": "float"
        },
        {
         "name": "payment_sequential",
         "rawType": "float64",
         "type": "float"
        },
        {
         "name": "payment_type",
         "rawType": "object",
         "type": "string"
        },
        {
         "name": "payment_installments",
         "rawType": "float64",
         "type": "float"
        },
        {
         "name": "payment_value",
         "rawType": "float64",
         "type": "float"
        },
        {
         "name": "review_id",
         "rawType": "object",
         "type": "string"
        },
        {
         "name": "review_score",
         "rawType": "int64",
         "type": "integer"
        },
        {
         "name": "review_creation_date",
         "rawType": "object",
         "type": "string"
        },
        {
         "name": "review_answer_timestamp",
         "rawType": "object",
         "type": "string"
        },
        {
         "name": "customer_unique_id",
         "rawType": "object",
         "type": "string"
        },
        {
         "name": "customer_zip_code_prefix",
         "rawType": "float64",
         "type": "float"
        },
        {
         "name": "customer_city",
         "rawType": "object",
         "type": "string"
        },
        {
         "name": "customer_state",
         "rawType": "object",
         "type": "string"
        },
        {
         "name": "product_category_name",
         "rawType": "object",
         "type": "string"
        },
        {
         "name": "product_name_lenght",
         "rawType": "int64",
         "type": "integer"
        },
        {
         "name": "product_description_lenght",
         "rawType": "int64",
         "type": "integer"
        },
        {
         "name": "product_photos_qty",
         "rawType": "int64",
         "type": "integer"
        },
        {
         "name": "product_weight_g",
         "rawType": "float64",
         "type": "float"
        },
        {
         "name": "product_length_cm",
         "rawType": "float64",
         "type": "float"
        },
        {
         "name": "product_height_cm",
         "rawType": "float64",
         "type": "float"
        },
        {
         "name": "product_width_cm",
         "rawType": "float64",
         "type": "float"
        },
        {
         "name": "seller_zip_code_prefix",
         "rawType": "float64",
         "type": "float"
        },
        {
         "name": "seller_city",
         "rawType": "object",
         "type": "string"
        },
        {
         "name": "seller_state",
         "rawType": "object",
         "type": "string"
        },
        {
         "name": "product_category_name_english",
         "rawType": "object",
         "type": "string"
        },
        {
         "name": "customer_lat",
         "rawType": "float64",
         "type": "float"
        },
        {
         "name": "customer_lng",
         "rawType": "float64",
         "type": "float"
        },
        {
         "name": "seller_lat",
         "rawType": "float64",
         "type": "float"
        },
        {
         "name": "seller_lng",
         "rawType": "float64",
         "type": "float"
        },
        {
         "name": "purchase_frequency",
         "rawType": "int64",
         "type": "integer"
        }
       ],
       "ref": "01d4ed93-a552-4762-a833-7c6a1e242bd9",
       "rows": [
        [
         "0",
         "53cdb2fc8bc7dce0b6741e2150273451",
         "b0830fb4747a6c6d20dea0b8c802d7ef",
         "delivered",
         "2018-07-24 20:41:37",
         "2018-07-26 03:24:27",
         "2018-07-26 14:31:00",
         "2018-08-07 15:27:45",
         "2018-08-13",
         "1.0",
         "595fac2a385ac33a80bd5114aec74eb8",
         "289cdb325fb7e7f891c38608bf9e0962",
         "2018-07-30 03:24:27",
         "118.7",
         "22.76",
         "1.0",
         "boleto",
         "1.0",
         "141.46",
         "8d5266042046a06655c8db133d120ba5",
         "4",
         "2018-08-08",
         "2018-08-08 18:37:50",
         "af07308b275d755c9edb36a90c618231",
         "47813.0",
         "barreiras",
         "ba",
         "perfumaria",
         "29",
         "178",
         "1",
         "400.0",
         "19.0",
         "13.0",
         "19.0",
         "31570.0",
         "belo horizonte",
         "sp",
         "perfumery",
         "-16.515006089081353",
         "-44.660710516494206",
         "-19.902360466221182",
         "-43.98042684085744",
         "1"
        ],
        [
         "1",
         "47770eb9100c2d0c44946d9cf07ec65d",
         "41ce2a54c0b03bf3443c3d931a367089",
         "delivered",
         "2018-08-08 08:38:49",
         "2018-08-08 08:55:23",
         "2018-08-08 13:50:00",
         "2018-08-17 18:06:29",
         "2018-09-04",
         "1.0",
         "aa4383b373c6aca5d8797843e5594415",
         "4869f7a5dfa277a7dca6462dcf3b52b2",
         "2018-08-13 08:55:23",
         "159.9",
         "19.22",
         "1.0",
         "credit_card",
         "3.0",
         "179.12",
         "e73b67b67587f7644d5bd1a52deb1b01",
         "5",
         "2018-08-18",
         "2018-08-22 19:07:58",
         "3a653a41f6f9fc3d2a113cf8398680e8",
         "75265.0",
         "vianopolis",
         "go",
         "automotivo",
         "46",
         "232",
         "1",
         "420.0",
         "24.0",
         "19.0",
         "21.0",
         "14840.0",
         "guariba",
         "sp",
         "auto",
         "-16.745149541882594",
         "-48.51478334802312",
         "-21.36350170979939",
         "-48.22960077888057",
         "1"
        ],
        [
         "2",
         "5ff96c15d0b717ac6ad1f3d77225a350",
         "19402a48fe860416adf93348aba37740",
         "delivered",
         "2018-07-25 17:44:10",
         "2018-07-25 17:55:14",
         "2018-07-26 13:16:00",
         "2018-07-30 15:52:25",
         "2018-08-08",
         "1.0",
         "10adb53d8faa890ca7c2f0cbcb68d777",
         "1900267e848ceeba8fa32d80c1a5f5a8",
         "2018-07-27 17:55:14",
         "19.9",
         "12.8",
         "1.0",
         "credit_card",
         "3.0",
         "32.7",
         "346e42116863ea64d51cef464d8f0c9c",
         "5",
         "2018-07-31",
         "2018-08-02 21:15:12",
         "e2dfa3127fedbbca9707b36304996dab",
         "4812.0",
         "sao paulo",
         "sp",
         "cama_mesa_banho",
         "52",
         "155",
         "1",
         "200.0",
         "16.0",
         "10.0",
         "16.0",
         "14940.0",
         "ibitinga",
         "sp",
         "bed_bath_table",
         "-23.713190055129683",
         "-46.68740654135837",
         "-21.75732063771276",
         "-48.82974353343716",
         "1"
        ],
        [
         "3",
         "f3e7c359154d965827355f39d6b1fdac",
         "62b423aab58096ca514ba6aa06be2f98",
         "delivered",
         "2018-08-09 11:44:40",
         "2018-08-10 03:24:51",
         "2018-08-10 12:29:00",
         "2018-08-13 18:24:27",
         "2018-08-17",
         "1.0",
         "e99d69efe684efaa643f99805f7c81bc",
         "55c26bcb609f480eb7868594245febb5",
         "2018-08-14 03:24:51",
         "89.9",
         "14.21",
         "1.0",
         "boleto",
         "1.0",
         "104.11",
         "9a55cbc65c8fad47581da5ebbb2b373e",
         "5",
         "2018-08-14",
         "2018-08-14 21:52:46",
         "9c9242ad7f1b52d926ea76778e1c0c57",
         "18052.0",
         "sorocaba",
         "sp",
         "papelaria",
         "56",
         "115",
         "1",
         "600.0",
         "33.0",
         "13.0",
         "25.0",
         "14910.0",
         "tabatinga",
         "sp",
         "stationery",
         "-23.53173194533856",
         "-47.49980351058789",
         "-21.73706314242179",
         "-48.687600901117015",
         "1"
        ],
        [
         "4",
         "b276e4f8c0fb86bd82fce576f21713e0",
         "cf8ffeddf027932e51e4eae73b384059",
         "delivered",
         "2018-07-29 23:34:51",
         "2018-07-29 23:45:15",
         "2018-07-30 14:43:00",
         "2018-07-31 22:48:50",
         "2018-08-06",
         "1.0",
         "c6c1f263e076bd9c1f1640250a5d0c29",
         "fe2032dab1a61af8794248c8196565c9",
         "2018-08-02 23:45:15",
         "179.0",
         "9.41",
         "1.0",
         "credit_card",
         "2.0",
         "188.41",
         "e71c2035f3e772a0a2339e001d383d8f",
         "5",
         "2018-08-01",
         "2018-08-04 02:05:33",
         "6cbe8a392b76916e84c2faf69d0d0da0",
         "13454.0",
         "santa barbara d'oeste",
         "sp",
         "perfumaria",
         "32",
         "102",
         "1",
         "425.0",
         "24.0",
         "12.0",
         "16.0",
         "13030.0",
         "campinas",
         "sp",
         "perfumery",
         "-22.74060229553914",
         "-47.37582085471676",
         "-22.92496986205361",
         "-47.07428354596362",
         "1"
        ]
       ],
       "shape": {
        "columns": 43,
        "rows": 5
       }
      },
      "text/html": [
       "<div>\n",
       "<style scoped>\n",
       "    .dataframe tbody tr th:only-of-type {\n",
       "        vertical-align: middle;\n",
       "    }\n",
       "\n",
       "    .dataframe tbody tr th {\n",
       "        vertical-align: top;\n",
       "    }\n",
       "\n",
       "    .dataframe thead th {\n",
       "        text-align: right;\n",
       "    }\n",
       "</style>\n",
       "<table border=\"1\" class=\"dataframe\">\n",
       "  <thead>\n",
       "    <tr style=\"text-align: right;\">\n",
       "      <th></th>\n",
       "      <th>order_id</th>\n",
       "      <th>customer_id</th>\n",
       "      <th>order_status</th>\n",
       "      <th>order_purchase_timestamp</th>\n",
       "      <th>order_approved_at</th>\n",
       "      <th>order_delivered_carrier_date</th>\n",
       "      <th>order_delivered_customer_date</th>\n",
       "      <th>order_estimated_delivery_date</th>\n",
       "      <th>order_item_id</th>\n",
       "      <th>product_id</th>\n",
       "      <th>...</th>\n",
       "      <th>product_width_cm</th>\n",
       "      <th>seller_zip_code_prefix</th>\n",
       "      <th>seller_city</th>\n",
       "      <th>seller_state</th>\n",
       "      <th>product_category_name_english</th>\n",
       "      <th>customer_lat</th>\n",
       "      <th>customer_lng</th>\n",
       "      <th>seller_lat</th>\n",
       "      <th>seller_lng</th>\n",
       "      <th>purchase_frequency</th>\n",
       "    </tr>\n",
       "  </thead>\n",
       "  <tbody>\n",
       "    <tr>\n",
       "      <th>0</th>\n",
       "      <td>53cdb2fc8bc7dce0b6741e2150273451</td>\n",
       "      <td>b0830fb4747a6c6d20dea0b8c802d7ef</td>\n",
       "      <td>delivered</td>\n",
       "      <td>2018-07-24 20:41:37</td>\n",
       "      <td>2018-07-26 03:24:27</td>\n",
       "      <td>2018-07-26 14:31:00</td>\n",
       "      <td>2018-08-07 15:27:45</td>\n",
       "      <td>2018-08-13</td>\n",
       "      <td>1.0</td>\n",
       "      <td>595fac2a385ac33a80bd5114aec74eb8</td>\n",
       "      <td>...</td>\n",
       "      <td>19.0</td>\n",
       "      <td>31570.0</td>\n",
       "      <td>belo horizonte</td>\n",
       "      <td>sp</td>\n",
       "      <td>perfumery</td>\n",
       "      <td>-16.515006</td>\n",
       "      <td>-44.660711</td>\n",
       "      <td>-19.902360</td>\n",
       "      <td>-43.980427</td>\n",
       "      <td>1</td>\n",
       "    </tr>\n",
       "    <tr>\n",
       "      <th>1</th>\n",
       "      <td>47770eb9100c2d0c44946d9cf07ec65d</td>\n",
       "      <td>41ce2a54c0b03bf3443c3d931a367089</td>\n",
       "      <td>delivered</td>\n",
       "      <td>2018-08-08 08:38:49</td>\n",
       "      <td>2018-08-08 08:55:23</td>\n",
       "      <td>2018-08-08 13:50:00</td>\n",
       "      <td>2018-08-17 18:06:29</td>\n",
       "      <td>2018-09-04</td>\n",
       "      <td>1.0</td>\n",
       "      <td>aa4383b373c6aca5d8797843e5594415</td>\n",
       "      <td>...</td>\n",
       "      <td>21.0</td>\n",
       "      <td>14840.0</td>\n",
       "      <td>guariba</td>\n",
       "      <td>sp</td>\n",
       "      <td>auto</td>\n",
       "      <td>-16.745150</td>\n",
       "      <td>-48.514783</td>\n",
       "      <td>-21.363502</td>\n",
       "      <td>-48.229601</td>\n",
       "      <td>1</td>\n",
       "    </tr>\n",
       "    <tr>\n",
       "      <th>2</th>\n",
       "      <td>5ff96c15d0b717ac6ad1f3d77225a350</td>\n",
       "      <td>19402a48fe860416adf93348aba37740</td>\n",
       "      <td>delivered</td>\n",
       "      <td>2018-07-25 17:44:10</td>\n",
       "      <td>2018-07-25 17:55:14</td>\n",
       "      <td>2018-07-26 13:16:00</td>\n",
       "      <td>2018-07-30 15:52:25</td>\n",
       "      <td>2018-08-08</td>\n",
       "      <td>1.0</td>\n",
       "      <td>10adb53d8faa890ca7c2f0cbcb68d777</td>\n",
       "      <td>...</td>\n",
       "      <td>16.0</td>\n",
       "      <td>14940.0</td>\n",
       "      <td>ibitinga</td>\n",
       "      <td>sp</td>\n",
       "      <td>bed_bath_table</td>\n",
       "      <td>-23.713190</td>\n",
       "      <td>-46.687407</td>\n",
       "      <td>-21.757321</td>\n",
       "      <td>-48.829744</td>\n",
       "      <td>1</td>\n",
       "    </tr>\n",
       "    <tr>\n",
       "      <th>3</th>\n",
       "      <td>f3e7c359154d965827355f39d6b1fdac</td>\n",
       "      <td>62b423aab58096ca514ba6aa06be2f98</td>\n",
       "      <td>delivered</td>\n",
       "      <td>2018-08-09 11:44:40</td>\n",
       "      <td>2018-08-10 03:24:51</td>\n",
       "      <td>2018-08-10 12:29:00</td>\n",
       "      <td>2018-08-13 18:24:27</td>\n",
       "      <td>2018-08-17</td>\n",
       "      <td>1.0</td>\n",
       "      <td>e99d69efe684efaa643f99805f7c81bc</td>\n",
       "      <td>...</td>\n",
       "      <td>25.0</td>\n",
       "      <td>14910.0</td>\n",
       "      <td>tabatinga</td>\n",
       "      <td>sp</td>\n",
       "      <td>stationery</td>\n",
       "      <td>-23.531732</td>\n",
       "      <td>-47.499804</td>\n",
       "      <td>-21.737063</td>\n",
       "      <td>-48.687601</td>\n",
       "      <td>1</td>\n",
       "    </tr>\n",
       "    <tr>\n",
       "      <th>4</th>\n",
       "      <td>b276e4f8c0fb86bd82fce576f21713e0</td>\n",
       "      <td>cf8ffeddf027932e51e4eae73b384059</td>\n",
       "      <td>delivered</td>\n",
       "      <td>2018-07-29 23:34:51</td>\n",
       "      <td>2018-07-29 23:45:15</td>\n",
       "      <td>2018-07-30 14:43:00</td>\n",
       "      <td>2018-07-31 22:48:50</td>\n",
       "      <td>2018-08-06</td>\n",
       "      <td>1.0</td>\n",
       "      <td>c6c1f263e076bd9c1f1640250a5d0c29</td>\n",
       "      <td>...</td>\n",
       "      <td>16.0</td>\n",
       "      <td>13030.0</td>\n",
       "      <td>campinas</td>\n",
       "      <td>sp</td>\n",
       "      <td>perfumery</td>\n",
       "      <td>-22.740602</td>\n",
       "      <td>-47.375821</td>\n",
       "      <td>-22.924970</td>\n",
       "      <td>-47.074284</td>\n",
       "      <td>1</td>\n",
       "    </tr>\n",
       "  </tbody>\n",
       "</table>\n",
       "<p>5 rows × 43 columns</p>\n",
       "</div>"
      ],
      "text/plain": [
       "                           order_id                       customer_id  \\\n",
       "0  53cdb2fc8bc7dce0b6741e2150273451  b0830fb4747a6c6d20dea0b8c802d7ef   \n",
       "1  47770eb9100c2d0c44946d9cf07ec65d  41ce2a54c0b03bf3443c3d931a367089   \n",
       "2  5ff96c15d0b717ac6ad1f3d77225a350  19402a48fe860416adf93348aba37740   \n",
       "3  f3e7c359154d965827355f39d6b1fdac  62b423aab58096ca514ba6aa06be2f98   \n",
       "4  b276e4f8c0fb86bd82fce576f21713e0  cf8ffeddf027932e51e4eae73b384059   \n",
       "\n",
       "  order_status order_purchase_timestamp    order_approved_at  \\\n",
       "0    delivered      2018-07-24 20:41:37  2018-07-26 03:24:27   \n",
       "1    delivered      2018-08-08 08:38:49  2018-08-08 08:55:23   \n",
       "2    delivered      2018-07-25 17:44:10  2018-07-25 17:55:14   \n",
       "3    delivered      2018-08-09 11:44:40  2018-08-10 03:24:51   \n",
       "4    delivered      2018-07-29 23:34:51  2018-07-29 23:45:15   \n",
       "\n",
       "  order_delivered_carrier_date order_delivered_customer_date  \\\n",
       "0          2018-07-26 14:31:00           2018-08-07 15:27:45   \n",
       "1          2018-08-08 13:50:00           2018-08-17 18:06:29   \n",
       "2          2018-07-26 13:16:00           2018-07-30 15:52:25   \n",
       "3          2018-08-10 12:29:00           2018-08-13 18:24:27   \n",
       "4          2018-07-30 14:43:00           2018-07-31 22:48:50   \n",
       "\n",
       "  order_estimated_delivery_date  order_item_id  \\\n",
       "0                    2018-08-13            1.0   \n",
       "1                    2018-09-04            1.0   \n",
       "2                    2018-08-08            1.0   \n",
       "3                    2018-08-17            1.0   \n",
       "4                    2018-08-06            1.0   \n",
       "\n",
       "                         product_id  ... product_width_cm  \\\n",
       "0  595fac2a385ac33a80bd5114aec74eb8  ...             19.0   \n",
       "1  aa4383b373c6aca5d8797843e5594415  ...             21.0   \n",
       "2  10adb53d8faa890ca7c2f0cbcb68d777  ...             16.0   \n",
       "3  e99d69efe684efaa643f99805f7c81bc  ...             25.0   \n",
       "4  c6c1f263e076bd9c1f1640250a5d0c29  ...             16.0   \n",
       "\n",
       "  seller_zip_code_prefix     seller_city  seller_state  \\\n",
       "0                31570.0  belo horizonte            sp   \n",
       "1                14840.0         guariba            sp   \n",
       "2                14940.0        ibitinga            sp   \n",
       "3                14910.0       tabatinga            sp   \n",
       "4                13030.0        campinas            sp   \n",
       "\n",
       "   product_category_name_english customer_lat  customer_lng  seller_lat  \\\n",
       "0                      perfumery   -16.515006    -44.660711  -19.902360   \n",
       "1                           auto   -16.745150    -48.514783  -21.363502   \n",
       "2                 bed_bath_table   -23.713190    -46.687407  -21.757321   \n",
       "3                     stationery   -23.531732    -47.499804  -21.737063   \n",
       "4                      perfumery   -22.740602    -47.375821  -22.924970   \n",
       "\n",
       "  seller_lng  purchase_frequency  \n",
       "0 -43.980427                   1  \n",
       "1 -48.229601                   1  \n",
       "2 -48.829744                   1  \n",
       "3 -48.687601                   1  \n",
       "4 -47.074284                   1  \n",
       "\n",
       "[5 rows x 43 columns]"
      ]
     },
     "execution_count": 456,
     "metadata": {},
     "output_type": "execute_result"
    }
   ],
   "source": [
    "# Load the transformed dataset\n",
    "df = pd.read_csv('../data/transformed/transformed_data.csv')\n",
    "\n",
    "# Display the first 5 rows to verify data structure\n",
    "df.head()\n"
   ]
  },
  {
   "cell_type": "markdown",
   "id": "f2c0ff98",
   "metadata": {},
   "source": [
    "## Step 3. Selecting Features for Clustering\n",
    "###  Why are we selecting features?  \n",
    "K-Means clustering groups customers into segments based on their similarities.  \n",
    "To make meaningful clusters, we must select **numeric features** that capture customer behavior and product characteristics.  \n",
    "\n",
    "### Why these specific features?  \n",
    "- **`payment_value`** → Total amount paid per order, representing spending behavior.     \n",
    "- **`purchase_frequency`** → Indicates how often a customer buys (loyalty).  \n",
    "- **`product_weight_g`** → May reveal trends related to product types purchased.  \n",
    "\n",
    "By using these features, we aim to cluster customers based on **monetary value, purchase behavior, and product attributes**.\n",
    "\n",
    "---\n",
    "###  Extract the Selected Data  \n",
    "We now create a subset of our dataset with only the chosen features for clustering."
   ]
  },
  {
   "cell_type": "code",
   "execution_count": 457,
   "id": "7c8f57a7",
   "metadata": {},
   "outputs": [
    {
     "data": {
      "application/vnd.microsoft.datawrangler.viewer.v0+json": {
       "columns": [
        {
         "name": "index",
         "rawType": "int64",
         "type": "integer"
        },
        {
         "name": "payment_value",
         "rawType": "float64",
         "type": "float"
        },
        {
         "name": "purchase_frequency",
         "rawType": "int64",
         "type": "integer"
        },
        {
         "name": "product_weight_g",
         "rawType": "float64",
         "type": "float"
        }
       ],
       "ref": "254422a2-f525-471b-8f21-36e21b0e5819",
       "rows": [
        [
         "0",
         "141.46",
         "1",
         "400.0"
        ],
        [
         "1",
         "179.12",
         "1",
         "420.0"
        ],
        [
         "2",
         "32.7",
         "1",
         "200.0"
        ],
        [
         "3",
         "104.11",
         "1",
         "600.0"
        ],
        [
         "4",
         "188.41",
         "1",
         "425.0"
        ]
       ],
       "shape": {
        "columns": 3,
        "rows": 5
       }
      },
      "text/html": [
       "<div>\n",
       "<style scoped>\n",
       "    .dataframe tbody tr th:only-of-type {\n",
       "        vertical-align: middle;\n",
       "    }\n",
       "\n",
       "    .dataframe tbody tr th {\n",
       "        vertical-align: top;\n",
       "    }\n",
       "\n",
       "    .dataframe thead th {\n",
       "        text-align: right;\n",
       "    }\n",
       "</style>\n",
       "<table border=\"1\" class=\"dataframe\">\n",
       "  <thead>\n",
       "    <tr style=\"text-align: right;\">\n",
       "      <th></th>\n",
       "      <th>payment_value</th>\n",
       "      <th>purchase_frequency</th>\n",
       "      <th>product_weight_g</th>\n",
       "    </tr>\n",
       "  </thead>\n",
       "  <tbody>\n",
       "    <tr>\n",
       "      <th>0</th>\n",
       "      <td>141.46</td>\n",
       "      <td>1</td>\n",
       "      <td>400.0</td>\n",
       "    </tr>\n",
       "    <tr>\n",
       "      <th>1</th>\n",
       "      <td>179.12</td>\n",
       "      <td>1</td>\n",
       "      <td>420.0</td>\n",
       "    </tr>\n",
       "    <tr>\n",
       "      <th>2</th>\n",
       "      <td>32.70</td>\n",
       "      <td>1</td>\n",
       "      <td>200.0</td>\n",
       "    </tr>\n",
       "    <tr>\n",
       "      <th>3</th>\n",
       "      <td>104.11</td>\n",
       "      <td>1</td>\n",
       "      <td>600.0</td>\n",
       "    </tr>\n",
       "    <tr>\n",
       "      <th>4</th>\n",
       "      <td>188.41</td>\n",
       "      <td>1</td>\n",
       "      <td>425.0</td>\n",
       "    </tr>\n",
       "  </tbody>\n",
       "</table>\n",
       "</div>"
      ],
      "text/plain": [
       "   payment_value  purchase_frequency  product_weight_g\n",
       "0         141.46                   1             400.0\n",
       "1         179.12                   1             420.0\n",
       "2          32.70                   1             200.0\n",
       "3         104.11                   1             600.0\n",
       "4         188.41                   1             425.0"
      ]
     },
     "execution_count": 457,
     "metadata": {},
     "output_type": "execute_result"
    }
   ],
   "source": [
    "# Select only the numerical columns needed for clustering\n",
    "features = ['payment_value','purchase_frequency', 'product_weight_g']\n",
    "data = df[features]\n",
    "data.head()\n",
    "\n"
   ]
  },
  {
   "cell_type": "markdown",
   "id": "e3101b54",
   "metadata": {},
   "source": [
    "##  Step 4: Data Preprocessing for K-Means  \n",
    "\n",
    "###  Why do we need to preprocess the data?  \n",
    "K-Means clustering uses **distance-based calculations (Euclidean distance)**.  \n",
    "If features are on different scales,  \n",
    "the algorithm will give more weight to larger-scale variables, leading to biased clusters.\n",
    "\n",
    "###  What preprocessing will we do?   \n",
    "1. **Scale features** → Use `StandardScaler` to normalize all features so they have mean = 0 and standard deviation = 1.  \n",
    "2. **Verify the transformed data** → Ensure scaling worked correctly before clustering.\n"
   ]
  },
  {
   "cell_type": "code",
   "execution_count": 458,
   "id": "eba6d68a",
   "metadata": {},
   "outputs": [
    {
     "data": {
      "application/vnd.microsoft.datawrangler.viewer.v0+json": {
       "columns": [
        {
         "name": "index",
         "rawType": "int64",
         "type": "integer"
        },
        {
         "name": "payment_value",
         "rawType": "float64",
         "type": "float"
        },
        {
         "name": "purchase_frequency",
         "rawType": "float64",
         "type": "float"
        },
        {
         "name": "product_weight_g",
         "rawType": "float64",
         "type": "float"
        }
       ],
       "ref": "833c0a3c-b7c0-4230-a0c3-91fedd42b987",
       "rows": [
        [
         "0",
         "0.019281049822831273",
         "-0.15280768502622608",
         "-0.6168094370548455"
        ],
        [
         "1",
         "0.3864359491735273",
         "-0.15280768502622608",
         "-0.5987064975116728"
        ],
        [
         "2",
         "-1.0410420211644684",
         "-0.15280768502622608",
         "-0.7978388324865715"
        ],
        [
         "3",
         "-0.34485159730272635",
         "-0.15280768502622608",
         "-0.43578004162311945"
        ],
        [
         "4",
         "0.4770060239204196",
         "-0.15280768502622608",
         "-0.5941807626258797"
        ]
       ],
       "shape": {
        "columns": 3,
        "rows": 5
       }
      },
      "text/html": [
       "<div>\n",
       "<style scoped>\n",
       "    .dataframe tbody tr th:only-of-type {\n",
       "        vertical-align: middle;\n",
       "    }\n",
       "\n",
       "    .dataframe tbody tr th {\n",
       "        vertical-align: top;\n",
       "    }\n",
       "\n",
       "    .dataframe thead th {\n",
       "        text-align: right;\n",
       "    }\n",
       "</style>\n",
       "<table border=\"1\" class=\"dataframe\">\n",
       "  <thead>\n",
       "    <tr style=\"text-align: right;\">\n",
       "      <th></th>\n",
       "      <th>payment_value</th>\n",
       "      <th>purchase_frequency</th>\n",
       "      <th>product_weight_g</th>\n",
       "    </tr>\n",
       "  </thead>\n",
       "  <tbody>\n",
       "    <tr>\n",
       "      <th>0</th>\n",
       "      <td>0.019281</td>\n",
       "      <td>-0.152808</td>\n",
       "      <td>-0.616809</td>\n",
       "    </tr>\n",
       "    <tr>\n",
       "      <th>1</th>\n",
       "      <td>0.386436</td>\n",
       "      <td>-0.152808</td>\n",
       "      <td>-0.598706</td>\n",
       "    </tr>\n",
       "    <tr>\n",
       "      <th>2</th>\n",
       "      <td>-1.041042</td>\n",
       "      <td>-0.152808</td>\n",
       "      <td>-0.797839</td>\n",
       "    </tr>\n",
       "    <tr>\n",
       "      <th>3</th>\n",
       "      <td>-0.344852</td>\n",
       "      <td>-0.152808</td>\n",
       "      <td>-0.435780</td>\n",
       "    </tr>\n",
       "    <tr>\n",
       "      <th>4</th>\n",
       "      <td>0.477006</td>\n",
       "      <td>-0.152808</td>\n",
       "      <td>-0.594181</td>\n",
       "    </tr>\n",
       "  </tbody>\n",
       "</table>\n",
       "</div>"
      ],
      "text/plain": [
       "   payment_value  purchase_frequency  product_weight_g\n",
       "0       0.019281           -0.152808         -0.616809\n",
       "1       0.386436           -0.152808         -0.598706\n",
       "2      -1.041042           -0.152808         -0.797839\n",
       "3      -0.344852           -0.152808         -0.435780\n",
       "4       0.477006           -0.152808         -0.594181"
      ]
     },
     "execution_count": 458,
     "metadata": {},
     "output_type": "execute_result"
    }
   ],
   "source": [
    "from sklearn.preprocessing import StandardScaler\n",
    "\n",
    "# 1. Scale the features using StandardScaler\n",
    "scaler = StandardScaler()\n",
    "scaled_data = scaler.fit_transform(data)\n",
    "\n",
    "# 2. Convert scaled data back to DataFrame for readability\n",
    "import pandas as pd\n",
    "scaled_df = pd.DataFrame(scaled_data, columns=features)\n",
    "\n",
    "# Display first 5 rows of scaled data\n",
    "scaled_df.head()\n"
   ]
  },
  {
   "cell_type": "markdown",
   "id": "51ab91e1",
   "metadata": {},
   "source": [
    "## Step 5: Choosing the Optimal Number of Clusters (Elbow Method)\n",
    "\n",
    "###  Why do we need to choose an optimal `k`?\n",
    "- K-Means requires us to specify the number of clusters (`k`) beforehand.\n",
    "- Choosing too few clusters may oversimplify the data, while too many clusters may lead to overfitting and meaningless segmentation.\n",
    "\n",
    "###  What is the Elbow Method?\n",
    "The **Elbow Method** plots the **Within-Cluster-Sum-of-Squares (WCSS)** for different values of `k`.\n",
    "- **WCSS** measures how tightly the data points fit within a cluster.\n",
    "- As `k` increases, WCSS decreases, but after a certain point, the improvement becomes marginal — this is the **\"elbow\" point**.\n",
    "- The `k` at the elbow is considered optimal.\n",
    "\n",
    "###  Our Plan:\n",
    "1. Run K-Means for a range of `k` values (e.g., 1 to 15).  \n",
    "2. Calculate WCSS for each `k`.  \n",
    "3. Plot the elbow curve to visually determine the best `k`.\n"
   ]
  },
  {
   "cell_type": "code",
   "execution_count": 459,
   "id": "ccbbb242",
   "metadata": {},
   "outputs": [
    {
     "name": "stdout",
     "output_type": "stream",
     "text": [
      "✅ Optimal number of clusters (Elbow Method): 4\n"
     ]
    },
    {
     "data": {
      "image/png": "[encoded data removed]",
      "text/plain": [
       "<Figure size 800x500 with 1 Axes>"
      ]
     },
     "metadata": {},
     "output_type": "display_data"
    }
   ],
   "source": [
    "# PART 1: Elbow Method - Find Optimal k\n",
    "from sklearn.cluster import KMeans\n",
    "import matplotlib.pyplot as plt\n",
    "from kneed import KneeLocator\n",
    "\n",
    "# Assumes 'scaled_df' is already defined and contains scaled features\n",
    "\n",
    "wcss = []\n",
    "K_range = range(1, 15)\n",
    "\n",
    "for k in K_range:\n",
    "    kmeans = KMeans(n_clusters=k, random_state=42, n_init='auto')\n",
    "    kmeans.fit(scaled_df)\n",
    "    wcss.append(kmeans.inertia_)\n",
    "\n",
    "# Automatically find elbow\n",
    "knee = KneeLocator(K_range, wcss, curve='convex', direction='decreasing')\n",
    "optimal_k = knee.elbow\n",
    "print(f\"✅ Optimal number of clusters (Elbow Method): {optimal_k}\")\n",
    "\n",
    "# Plot elbow curve\n",
    "plt.figure(figsize=(8, 5))\n",
    "plt.plot(K_range, wcss, marker='o', linestyle='--', color='blue')\n",
    "plt.axvline(x=optimal_k, color='red', linestyle='--', label=f'Elbow at k={optimal_k}')\n",
    "plt.title('Elbow Method for Optimal k')\n",
    "plt.xlabel('Number of Clusters (k)')\n",
    "plt.ylabel('WCSS')\n",
    "plt.grid(True)\n",
    "plt.legend()\n",
    "plt.tight_layout()\n",
    "plt.show()"
   ]
  },
  {
   "cell_type": "markdown",
   "id": "ffedcd42",
   "metadata": {},
   "source": [
    "##  Step 5.5: Interpreting the Elbow Method Output\n",
    "\n",
    "###  Why is this important?\n",
    "- The **Elbow Method** helps us determine the **optimal number of clusters (k)** by plotting the **Within-Cluster Sum of Squares (WCSS)** against different values of k.\n",
    "- The point where the curve **bends like an elbow** indicates where adding more clusters does not significantly improve model performance.\n",
    "\n",
    "### Our Observation:\n",
    "- In our plot, the curve sharply decreases up to `k = 4` and then levels off."
   ]
  },
  {
   "cell_type": "markdown",
   "id": "dfdfe467",
   "metadata": {},
   "source": [
    "___\n",
    "### Silhouette Score Analysis - k choice validation - Section by Hana"
   ]
  },
  {
   "cell_type": "code",
   "execution_count": 460,
   "id": "9115ff50",
   "metadata": {},
   "outputs": [
    {
     "name": "stdout",
     "output_type": "stream",
     "text": [
      "\n",
      "🔍 Silhouette Scores (for validation):\n",
      "Silhouette Score for k=2: 0.522\n",
      "Silhouette Score for k=3: 0.555\n",
      "Silhouette Score for k=4: 0.547\n",
      "Silhouette Score for k=5: 0.552\n",
      "Silhouette Score for k=6: 0.444\n",
      "Silhouette Score for k=7: 0.473\n",
      "Silhouette Score for k=8: 0.507\n",
      "Silhouette Score for k=9: 0.462\n",
      "Silhouette Score for k=10: 0.455\n"
     ]
    }
   ],
   "source": [
    "# PART 2: Silhouette Score Analysis\n",
    "from sklearn.cluster import KMeans\n",
    "from sklearn.metrics import silhouette_score\n",
    "\n",
    "# Assumes 'scaled_df' is already defined\n",
    "\n",
    "print(\"\\n🔍 Silhouette Scores (for validation):\")\n",
    "for k in range(2, 11):  # Silhouette score is undefined for k=1\n",
    "    kmeans = KMeans(n_clusters=k, random_state=42, n_init='auto')\n",
    "    labels = kmeans.fit_predict(scaled_df)\n",
    "    score = silhouette_score(scaled_df, labels)\n",
    "    print(f\"Silhouette Score for k={k}: {score:.3f}\")"
   ]
  },
  {
   "cell_type": "markdown",
   "id": "2e5fab8a",
   "metadata": {},
   "source": [
    "___\n",
    "##  What the Silhouette Score Does\n",
    "\n",
    "The **Silhouette Score** evaluates the **quality of clustering** by measuring how close each point is to its own cluster compared to other clusters.\n",
    "\n",
    "###  Silhouette Score Interpretation Recap\n",
    "\n",
    "The Silhouette Score ranges from -1 to 1:\n",
    "\n",
    "- **> 0.5**: Good structure (clusters are well-separated)\n",
    "- **0.25 – 0.5**: Reasonable structure (some overlap)\n",
    "- **< 0.25**: Poor clustering (overlap or wrong k)\n",
    "\n",
    "---\n",
    "\n",
    "##  Top 2 Scores (Best Clustering Quality)\n",
    "\n",
    "| k | Score  | Interpretation                                                                 |\n",
    "|---|--------|----------------------------------------------------------------------------------|\n",
    "| 3 | 0.555  | Best silhouette score — clusters are well-separated and compact.             |\n",
    "| 5 | 0.552  | Nearly as good as k=3 — gives more granularity without sacrificing quality.     |\n",
    "\n",
    "✔️ **k = 3** is great for *maximizing statistical quality*.  \n",
    "✔️ **k = 5** is excellent if you want *more actionable business segments* (e.g., VIPs, occasional buyers).\n",
    "\n",
    "---\n",
    "\n",
    "##  Lowest 2 Scores (Weakest Clustering Quality)\n",
    "\n",
    "| k  | Score  | Interpretation                                                                 |\n",
    "|----|--------|----------------------------------------------------------------------------------|\n",
    "| 6  | 0.444  | Clusters may overlap or be noisy — likely too many clusters.                   |\n",
    "| 10 | 0.455  | Weak structure — overfitting or artificial divisions in the data.              |\n",
    "\n",
    " These values indicate **poor separation or cohesion**, so **k=6 and k=10 are not recommended**.\n",
    "\n",
    "---\n",
    "###  Why We Chose **k = 5**\n",
    "\n",
    "While the **Elbow Method** suggested **k = 4**, the **Silhouette Scores** showed that **k = 5** also maintains a high-quality clustering structure (score = 0.552, close to the best score of 0.555 at k = 3).\n",
    "\n",
    "Choosing **k = 5** gives us:\n",
    "\n",
    "- Slightly more **granularity** and **business insight** than k = 4\n",
    "- The ability to **identify niche groups** such as **VIPs or loyal mid-spenders**\n",
    "- A solid balance between **statistical strength** and **marketing actionability**\n",
    "\n",
    " Therefore, **k = 5** is justified and preferred for this analysis as it best supports our goal of **meaningful, actionable segmentation**.\n",
    "\n",
    "\n"
   ]
  },
  {
   "cell_type": "markdown",
   "id": "785ffd17",
   "metadata": {},
   "source": [
    "## Step 6: Applying K-Means Clustering with k=5 - Section by Selmah\n",
    "\n",
    "###  Why this step?\n",
    "Based on the **Elbow Method**, we identified **k=5** as the optimal number of clusters, capturing more granular differences between customer/order groups. \n",
    "We apply the K-Means algorithm to: \n",
    "  - Assign each customer/order to a cluster.\n",
    "  - Group similar patterns together (e.g., customers with similar spending or order characteristics).\n",
    "\n",
    "###  What is happening here?\n",
    "- Initialize **K-Means** with `n_clusters=5`.\n",
    "- Fit the model on our standardized feature set.\n",
    "- Predict and assign a **cluster label** for each record.\n"
   ]
  },
  {
   "cell_type": "code",
   "execution_count": null,
   "id": "ade1b1da",
   "metadata": {},
   "outputs": [
    {
     "data": {
      "application/vnd.microsoft.datawrangler.viewer.v0+json": {
       "columns": [
        {
         "name": "index",
         "rawType": "int64",
         "type": "integer"
        },
        {
         "name": "payment_value",
         "rawType": "float64",
         "type": "float"
        },
        {
         "name": "purchase_frequency",
         "rawType": "int64",
         "type": "integer"
        },
        {
         "name": "product_weight_g",
         "rawType": "float64",
         "type": "float"
        },
        {
         "name": "Cluster",
         "rawType": "int32",
         "type": "integer"
        }
       ],
       "ref": "64278eb9-a04f-4a1b-8f19-fc594f3e324a",
       "rows": [
        [
         "0",
         "141.46",
         "1",
         "400.0",
         "1"
        ],
        [
         "1",
         "179.12",
         "1",
         "420.0",
         "1"
        ],
        [
         "2",
         "32.7",
         "1",
         "200.0",
         "1"
        ],
        [
         "3",
         "104.11",
         "1",
         "600.0",
         "1"
        ],
        [
         "4",
         "188.41",
         "1",
         "425.0",
         "3"
        ]
       ],
       "shape": {
        "columns": 4,
        "rows": 5
       }
      },
      "text/html": [
       "<div>\n",
       "<style scoped>\n",
       "    .dataframe tbody tr th:only-of-type {\n",
       "        vertical-align: middle;\n",
       "    }\n",
       "\n",
       "    .dataframe tbody tr th {\n",
       "        vertical-align: top;\n",
       "    }\n",
       "\n",
       "    .dataframe thead th {\n",
       "        text-align: right;\n",
       "    }\n",
       "</style>\n",
       "<table border=\"1\" class=\"dataframe\">\n",
       "  <thead>\n",
       "    <tr style=\"text-align: right;\">\n",
       "      <th></th>\n",
       "      <th>payment_value</th>\n",
       "      <th>purchase_frequency</th>\n",
       "      <th>product_weight_g</th>\n",
       "      <th>Cluster</th>\n",
       "    </tr>\n",
       "  </thead>\n",
       "  <tbody>\n",
       "    <tr>\n",
       "      <th>0</th>\n",
       "      <td>141.46</td>\n",
       "      <td>1</td>\n",
       "      <td>400.0</td>\n",
       "      <td>1</td>\n",
       "    </tr>\n",
       "    <tr>\n",
       "      <th>1</th>\n",
       "      <td>179.12</td>\n",
       "      <td>1</td>\n",
       "      <td>420.0</td>\n",
       "      <td>1</td>\n",
       "    </tr>\n",
       "    <tr>\n",
       "      <th>2</th>\n",
       "      <td>32.70</td>\n",
       "      <td>1</td>\n",
       "      <td>200.0</td>\n",
       "      <td>1</td>\n",
       "    </tr>\n",
       "    <tr>\n",
       "      <th>3</th>\n",
       "      <td>104.11</td>\n",
       "      <td>1</td>\n",
       "      <td>600.0</td>\n",
       "      <td>1</td>\n",
       "    </tr>\n",
       "    <tr>\n",
       "      <th>4</th>\n",
       "      <td>188.41</td>\n",
       "      <td>1</td>\n",
       "      <td>425.0</td>\n",
       "      <td>3</td>\n",
       "    </tr>\n",
       "  </tbody>\n",
       "</table>\n",
       "</div>"
      ],
      "text/plain": [
       "   payment_value  purchase_frequency  product_weight_g  Cluster\n",
       "0         141.46                   1             400.0        1\n",
       "1         179.12                   1             420.0        1\n",
       "2          32.70                   1             200.0        1\n",
       "3         104.11                   1             600.0        1\n",
       "4         188.41                   1             425.0        3"
      ]
     },
     "execution_count": 461,
     "metadata": {},
     "output_type": "execute_result"
    }
   ],
   "source": [
    "# Step 4: Apply KMeans with k=5\n",
    "from sklearn.cluster import KMeans\n",
    "\n",
    "# Initialize KMeans with 5 clusters\n",
    "kmeans = KMeans(n_clusters=5, random_state=42)\n",
    "\n",
    "# Fit the model and predict cluster labels\n",
    "df['Cluster'] = kmeans.fit_predict(scaled_df)\n",
    "\n",
    "# Display first few rows to confirm clustering\n",
    "df[['payment_value','purchase_frequency', 'product_weight_g', 'Cluster']].head()\n"
   ]
  },
  {
   "cell_type": "markdown",
   "id": "161b206c",
   "metadata": {},
   "source": [
    "## Step 7: Cluster Profiling – Understanding Each Cluster\n",
    "\n",
    "###  Why this step?\n",
    "Once clusters are created, we need to interpret what they mean:\n",
    "- Are some clusters high-value customers?\n",
    "- Are some clusters loyal customers?\n",
    "- Do some clusters represent high-weight products?\n",
    "- This helps translate raw clusters into actionable business insights.\n",
    "\n",
    "###  What is happening here?\n",
    "- We group the data by the new `Cluster` column.\n",
    "- Calculate the mean (or other statistics) for the key features per cluster.\n",
    "- This summary allows us to describe each cluster’s characteristics.\n"
   ]
  },
  {
   "cell_type": "code",
   "execution_count": 462,
   "id": "fb7e0cad",
   "metadata": {},
   "outputs": [
    {
     "data": {
      "application/vnd.microsoft.datawrangler.viewer.v0+json": {
       "columns": [
        {
         "name": "Cluster",
         "rawType": "int32",
         "type": "integer"
        },
        {
         "name": "payment_value",
         "rawType": "float64",
         "type": "float"
        },
        {
         "name": "purchase_frequency",
         "rawType": "float64",
         "type": "float"
        },
        {
         "name": "product_weight_g",
         "rawType": "float64",
         "type": "float"
        }
       ],
       "ref": "15a5c95c-ab71-4a5d-9261-523ed2372f76",
       "rows": [
        [
         "0",
         "213.4",
         "1.0",
         "3112.09"
        ],
        [
         "1",
         "82.04",
         "1.0",
         "561.62"
        ],
        [
         "2",
         "141.7",
         "2.0",
         "1147.04"
        ],
        [
         "3",
         "280.35",
         "1.0",
         "695.4"
        ],
        [
         "4",
         "247.51",
         "3.48",
         "635.98"
        ]
       ],
       "shape": {
        "columns": 3,
        "rows": 5
       }
      },
      "text/html": [
       "<div>\n",
       "<style scoped>\n",
       "    .dataframe tbody tr th:only-of-type {\n",
       "        vertical-align: middle;\n",
       "    }\n",
       "\n",
       "    .dataframe tbody tr th {\n",
       "        vertical-align: top;\n",
       "    }\n",
       "\n",
       "    .dataframe thead th {\n",
       "        text-align: right;\n",
       "    }\n",
       "</style>\n",
       "<table border=\"1\" class=\"dataframe\">\n",
       "  <thead>\n",
       "    <tr style=\"text-align: right;\">\n",
       "      <th></th>\n",
       "      <th>payment_value</th>\n",
       "      <th>purchase_frequency</th>\n",
       "      <th>product_weight_g</th>\n",
       "    </tr>\n",
       "    <tr>\n",
       "      <th>Cluster</th>\n",
       "      <th></th>\n",
       "      <th></th>\n",
       "      <th></th>\n",
       "    </tr>\n",
       "  </thead>\n",
       "  <tbody>\n",
       "    <tr>\n",
       "      <th>0</th>\n",
       "      <td>213.40</td>\n",
       "      <td>1.00</td>\n",
       "      <td>3112.09</td>\n",
       "    </tr>\n",
       "    <tr>\n",
       "      <th>1</th>\n",
       "      <td>82.04</td>\n",
       "      <td>1.00</td>\n",
       "      <td>561.62</td>\n",
       "    </tr>\n",
       "    <tr>\n",
       "      <th>2</th>\n",
       "      <td>141.70</td>\n",
       "      <td>2.00</td>\n",
       "      <td>1147.04</td>\n",
       "    </tr>\n",
       "    <tr>\n",
       "      <th>3</th>\n",
       "      <td>280.35</td>\n",
       "      <td>1.00</td>\n",
       "      <td>695.40</td>\n",
       "    </tr>\n",
       "    <tr>\n",
       "      <th>4</th>\n",
       "      <td>247.51</td>\n",
       "      <td>3.48</td>\n",
       "      <td>635.98</td>\n",
       "    </tr>\n",
       "  </tbody>\n",
       "</table>\n",
       "</div>"
      ],
      "text/plain": [
       "         payment_value  purchase_frequency  product_weight_g\n",
       "Cluster                                                     \n",
       "0               213.40                1.00           3112.09\n",
       "1                82.04                1.00            561.62\n",
       "2               141.70                2.00           1147.04\n",
       "3               280.35                1.00            695.40\n",
       "4               247.51                3.48            635.98"
      ]
     },
     "execution_count": 462,
     "metadata": {},
     "output_type": "execute_result"
    }
   ],
   "source": [
    "# Group by cluster and calculate mean of selected features\n",
    "cluster_profile = df.groupby('Cluster')[['payment_value', 'purchase_frequency', 'product_weight_g']].mean().round(2)\n",
    "cluster_profile\n",
    "\n",
    "# View cluster profiles\n",
    "cluster_profile"
   ]
  },
  {
   "cell_type": "markdown",
   "id": "a0593fe6",
   "metadata": {},
   "source": [
    "___\n",
    "###  K-Means Clustering Results: Customer Segments\n",
    "\n",
    "After applying **K-Means (k=5)** to the selected features (`payment_value`, `purchase_frequency`, `product_weight_g`), we obtained **5 distinct customer clusters**.  \n",
    "The table below summarizes the characteristics and business implications of each cluster:\n",
    "\n",
    "\n",
    "| Cluster | Type Description | Business Implication |\n",
    "|---------|------------------|-----------------------|\n",
    "| 0 | Moderate-spend, one-time buyers of **very heavy** products | Offer installation help, promote accessories for upselling, remarketing to re-engage |\n",
    "| 1 | Low-spend, one-time buyers of **lightweight** products | Ideal for sampling campaigns, nurture into repeat buyers, use budget offers |\n",
    "| 2 | Moderate-spend, **returning** buyers of **heavier** products | Develop loyalty programs, optimize delivery logistics, upsell heavier alternatives |\n",
    "| 3 | High-spend, one-time buyers of **medium-weight** products | Target for premium seasonal campaigns, provide personalized experience to retain |\n",
    "| 4 | High-spend, **frequent** buyers of **medium-weight** products | VIP segment: prioritize with exclusive offers, early access, and dedicated support |\n",
    "\n",
    "___\n",
    "\n",
    "| Metric               | Best Cluster | Value     | Interpretation                              |\n",
    "|----------------------|--------------|-----------|----------------------------------------------|\n",
    "| Purchase Frequency   | Cluster 4    | 3.48      | Most loyal/repeat customers                  |\n",
    "| Payment Value        | Cluster 3    | 280.35    | Highest spenders in a single transaction     |\n",
    "| Product Weight (g)   | Cluster 0    | 3112.09   | Buy large/heavy items (bulk or specialized)  |\n",
    "\n",
    "\n",
    "___\n",
    "\n"
   ]
  },
  {
   "cell_type": "markdown",
   "id": "4a5dc0f2",
   "metadata": {},
   "source": [
    "## Step 8: Visualizing Customer Clusters\n",
    "### Step 8.1: Cluster Size Distribution\n",
    "After assigning customers to clusters using KMeans, it is important to understand how many customers fall into each cluster.  \n",
    "This helps to:\n",
    "- Assess whether clusters are balanced or dominated by one large group.\n",
    "- Identify niche (small) clusters that may represent special customer segments.\n",
    "We will plot a bar chart showing the count of records per cluster.\n",
    "\n"
   ]
  },
  {
   "cell_type": "code",
   "execution_count": 463,
   "id": "1060f69e",
   "metadata": {},
   "outputs": [
    {
     "data": {
      "image/png": "[encoded data removed]",
      "text/plain": [
       "<Figure size 800x500 with 1 Axes>"
      ]
     },
     "metadata": {},
     "output_type": "display_data"
    }
   ],
   "source": [
    "import matplotlib.pyplot as plt\n",
    "import seaborn as sns\n",
    "\n",
    "# Count the number of customers in each cluster\n",
    "cluster_counts = df['Cluster'].value_counts().sort_index()\n",
    "\n",
    "# Plot a bar chart\n",
    "plt.figure(figsize=(8, 5))\n",
    "sns.barplot(x=cluster_counts.index, y=cluster_counts.values, hue=cluster_counts.index, palette='Set2', legend=False)\n",
    "\n",
    "# Formatting\n",
    "plt.title('Customer Count per Cluster', fontsize=14)\n",
    "plt.xlabel('Cluster')\n",
    "plt.ylabel('Number of Customers')\n",
    "plt.grid(axis='y', linestyle='--', alpha=0.5)\n",
    "\n",
    "plt.show()\n"
   ]
  },
  {
   "cell_type": "markdown",
   "id": "6b25b6fe",
   "metadata": {},
   "source": [
    "___\n",
    "###  How many people are in each cluster?\n",
    "\n",
    "| Cluster | Count | General Type                           | Interpretation                                                                 |\n",
    "|---------|-------|----------------------------------------|--------------------------------------------------------------------------------|\n",
    "| 0       | 2242  | Low spend, low frequency               | One-timers or low-engagement customers. May need reactivation strategies.     |\n",
    "| 1       | 7409  | Low spend, medium frequency            | Mid-weight, price-sensitive regulars. Good for low-cost, high-volume campaigns.|\n",
    "| 2       | 272   | Mid-high spend, moderate frequency     | Loyal mid-high spenders. Great for upselling and cross-selling.               |\n",
    "| 3       | 1796  | Slightly better spenders, single purchase | High-value one-timers. Test targeted promotions to increase frequency.       |\n",
    "| 4       | 58    | Very high spend and frequency          | Top-tier VIPs. A small, highly valuable group – prioritize loyalty programs.  |\n",
    "\n",
    "___"
   ]
  },
  {
   "cell_type": "markdown",
   "id": "e8fd96ef",
   "metadata": {},
   "source": [
    "### Step 8.2: Radar Chart for Cluster Profiles\n",
    "- The radar chart allows us to compare clusters across multiple features simultaneously.  \n",
    "- Each axis represents one of the key features (`payment_value`,`purchase_frequency`, `product_weight_g`),  \n",
    "and the values are normalized to allow fair comparison.  \n",
    "- This visualization highlights which clusters exhibit higher or lower values for each feature,  \n",
    "helping to easily identify distinct customer profiles.\n"
   ]
  },
  {
   "cell_type": "code",
   "execution_count": 464,
   "id": "43a38d55",
   "metadata": {},
   "outputs": [
    {
     "data": {
      "image/png": "[encoded data removed]",
      "text/plain": [
       "<Figure size 800x800 with 1 Axes>"
      ]
     },
     "metadata": {},
     "output_type": "display_data"
    }
   ],
   "source": [
    "import matplotlib.pyplot as plt\n",
    "import numpy as np\n",
    "import seaborn as sns\n",
    "\n",
    "# Step 1: Prepare normalized data\n",
    "cluster_profile = df.groupby('Cluster')[['payment_value', 'purchase_frequency', 'product_weight_g']].mean()\n",
    "cluster_normalized = (cluster_profile - cluster_profile.min()) / (cluster_profile.max() - cluster_profile.min())\n",
    "\n",
    "# Step 2: Radar chart setup\n",
    "features = cluster_normalized.columns\n",
    "N = len(features)\n",
    "angles = np.linspace(0, 2 * np.pi, N, endpoint=False).tolist()\n",
    "angles += angles[:1]  # loop back to start\n",
    "\n",
    "colors = sns.color_palette('Set2', n_colors=len(cluster_normalized))\n",
    "\n",
    "# Step 3: Create radar plot\n",
    "plt.figure(figsize=(8, 8))\n",
    "for i, (idx, row) in enumerate(cluster_normalized.iterrows()):\n",
    "    values = row.tolist()\n",
    "    values += values[:1]\n",
    "    if sum(values) == 0:\n",
    "        plt.scatter(0, 0, color=colors[i], label=f'Cluster {idx} (zero profile)')\n",
    "    else:\n",
    "        plt.polar(angles, values, label=f'Cluster {idx}', color=colors[i], linewidth=2)\n",
    "        plt.fill(angles, values, alpha=0.1, color=colors[i])\n",
    "\n",
    "# Step 4: Final touches\n",
    "plt.xticks(angles[:-1], features)\n",
    "plt.yticks([])\n",
    "plt.title(\"Cluster Feature Profiles (Radar Chart)\")\n",
    "plt.legend(loc='upper right', bbox_to_anchor=(1.3, 1.1))\n",
    "plt.tight_layout()\n",
    "plt.show()\n"
   ]
  },
  {
   "cell_type": "markdown",
   "id": "247b9579",
   "metadata": {},
   "source": [
    "## Normalized Cluster Feature Profiles\n",
    "\n",
    "| Cluster | Payment Value | Purchase Frequency | Product Weight (g) | Profile Summary |\n",
    "|---------|----------------|---------------------|---------------------|------------------|\n",
    "| **0**   | 0.662          | 0.000               | **1.000**           | Strong in product weight, moderate in payment, **low frequency** – likely **bulk buyers** with infrequent orders. |\n",
    "| **1**   | 0.000          | 0.000               | 0.000               | **Very low across all dimensions** – likely **infrequent, low-value customers** with minimal activity. |\n",
    "| **2**   | 0.301          | 0.403               | 0.230               | **Moderate frequency**, low-to-mid in payment and weight – could be **repeat mid-tier customers**. |\n",
    "| **3**   | **1.000**      | 0.000               | 0.052               | **High spenders**, but infrequent and buying **lighter products** – maybe **one-time premium buyers**. |\n",
    "| **4**   | 0.834          | **1.000**           | 0.029               | **Frequent and high spenders**, but with **light products** – likely **high-value VIPs**. |\n",
    "\n",
    "---\n",
    "\n",
    "## Radar Chart Interpretation \n",
    "- Each axis of the radar chart represents one feature: `payment_value`, `purchase_frequency`, and `product_weight_g`.\n",
    "- Values are **normalized** between 0 and 1.\n",
    "- The farther out a cluster’s line is on a specific axis, the **stronger that feature** is for that cluster.\n",
    "- **Central clusters** have weaker values for all features.\n",
    "- Look at the **shape** and **dominance** to understand customer behavior.\n",
    "\n",
    "### Key Insights:\n",
    "\n",
    "- **Cluster 4**: Top in both frequency and spending → likely **VIP customers**.\n",
    "- **Cluster 0**: Heavyweight purchases, low frequency → likely **wholesale or bulk buyers**.\n",
    "- **Cluster 3**: Highest spenders but low in frequency and weight → possibly **luxury or one-time buyers**.\n",
    "- **Cluster 2**: Moderate in all features → **mid-tier customers**, possibly **promotable to VIPs**.\n",
    "- **Cluster 1**: Low on all counts → **low-engagement or dormant users**.\n"
   ]
  },
  {
   "cell_type": "markdown",
   "id": "ea17e3b4",
   "metadata": {},
   "source": [
    "___\n",
    "## Decision Tree Classifier for Late Delivery Prediction\n",
    "\n",
    "We start with a **Decision Tree Classifier** to predict whether an order is delivered on time or late.  \n",
    "A decision tree splits data based on feature thresholds, forming branches that lead to predictions (\"On-Time\" or \"Late\").  \n",
    "This model is simple, interpretable, and helps us understand the key factors influencing late deliveries.  \n",
    "\n",
    "**Why Decision Tree first?**\n",
    "- It serves as a **baseline model**.\n",
    "- It clearly shows how decisions are made at each step.\n",
    "- It prepares us for **Random Forest**, which is an ensemble of multiple decision trees.\n",
    "\n",
    "Next, we will implement Random Forest for improved performance.\n"
   ]
  },
  {
   "cell_type": "markdown",
   "id": "08d240bb",
   "metadata": {},
   "source": [
    "## Step 1. Create the Target Variable LateDelivery\n",
    "- We first need to create a column that indicates whether an order was delivered late or not.\n",
    "\n",
    "- If the actual delivery date is later than the estimated delivery date, we mark it as 1 (Late).\n",
    "\n",
    "- Otherwise, it’s 0 (On-time)."
   ]
  },
  {
   "cell_type": "code",
   "execution_count": 465,
   "id": "31a98577",
   "metadata": {},
   "outputs": [
    {
     "data": {
      "application/vnd.microsoft.datawrangler.viewer.v0+json": {
       "columns": [
        {
         "name": "index",
         "rawType": "int64",
         "type": "integer"
        },
        {
         "name": "order_delivered_customer_date",
         "rawType": "object",
         "type": "string"
        },
        {
         "name": "order_estimated_delivery_date",
         "rawType": "object",
         "type": "string"
        },
        {
         "name": "LateDelivery",
         "rawType": "int32",
         "type": "integer"
        }
       ],
       "ref": "1937af31-4209-4d69-aacc-9a6f425e16fe",
       "rows": [
        [
         "0",
         "2018-08-07 15:27:45",
         "2018-08-13",
         "0"
        ],
        [
         "1",
         "2018-08-17 18:06:29",
         "2018-09-04",
         "0"
        ],
        [
         "2",
         "2018-07-30 15:52:25",
         "2018-08-08",
         "0"
        ],
        [
         "3",
         "2018-08-13 18:24:27",
         "2018-08-17",
         "0"
        ],
        [
         "4",
         "2018-07-31 22:48:50",
         "2018-08-06",
         "0"
        ]
       ],
       "shape": {
        "columns": 3,
        "rows": 5
       }
      },
      "text/html": [
       "<div>\n",
       "<style scoped>\n",
       "    .dataframe tbody tr th:only-of-type {\n",
       "        vertical-align: middle;\n",
       "    }\n",
       "\n",
       "    .dataframe tbody tr th {\n",
       "        vertical-align: top;\n",
       "    }\n",
       "\n",
       "    .dataframe thead th {\n",
       "        text-align: right;\n",
       "    }\n",
       "</style>\n",
       "<table border=\"1\" class=\"dataframe\">\n",
       "  <thead>\n",
       "    <tr style=\"text-align: right;\">\n",
       "      <th></th>\n",
       "      <th>order_delivered_customer_date</th>\n",
       "      <th>order_estimated_delivery_date</th>\n",
       "      <th>LateDelivery</th>\n",
       "    </tr>\n",
       "  </thead>\n",
       "  <tbody>\n",
       "    <tr>\n",
       "      <th>0</th>\n",
       "      <td>2018-08-07 15:27:45</td>\n",
       "      <td>2018-08-13</td>\n",
       "      <td>0</td>\n",
       "    </tr>\n",
       "    <tr>\n",
       "      <th>1</th>\n",
       "      <td>2018-08-17 18:06:29</td>\n",
       "      <td>2018-09-04</td>\n",
       "      <td>0</td>\n",
       "    </tr>\n",
       "    <tr>\n",
       "      <th>2</th>\n",
       "      <td>2018-07-30 15:52:25</td>\n",
       "      <td>2018-08-08</td>\n",
       "      <td>0</td>\n",
       "    </tr>\n",
       "    <tr>\n",
       "      <th>3</th>\n",
       "      <td>2018-08-13 18:24:27</td>\n",
       "      <td>2018-08-17</td>\n",
       "      <td>0</td>\n",
       "    </tr>\n",
       "    <tr>\n",
       "      <th>4</th>\n",
       "      <td>2018-07-31 22:48:50</td>\n",
       "      <td>2018-08-06</td>\n",
       "      <td>0</td>\n",
       "    </tr>\n",
       "  </tbody>\n",
       "</table>\n",
       "</div>"
      ],
      "text/plain": [
       "  order_delivered_customer_date order_estimated_delivery_date  LateDelivery\n",
       "0           2018-08-07 15:27:45                    2018-08-13             0\n",
       "1           2018-08-17 18:06:29                    2018-09-04             0\n",
       "2           2018-07-30 15:52:25                    2018-08-08             0\n",
       "3           2018-08-13 18:24:27                    2018-08-17             0\n",
       "4           2018-07-31 22:48:50                    2018-08-06             0"
      ]
     },
     "execution_count": 465,
     "metadata": {},
     "output_type": "execute_result"
    }
   ],
   "source": [
    "# Step 1: Create a new column 'LateDelivery' where:\n",
    "# 1 = Delivered late\n",
    "# 0 = Delivered on time\n",
    "import pandas as pd\n",
    "df['LateDelivery'] = (pd.to_datetime(df['order_delivered_customer_date']) >\n",
    "                      pd.to_datetime(df['order_estimated_delivery_date'])).astype(int)\n",
    "\n",
    "# Preview to confirm the new column\n",
    "df[['order_delivered_customer_date', 'order_estimated_delivery_date', 'LateDelivery']].head()\n"
   ]
  },
  {
   "cell_type": "markdown",
   "id": "24d87279",
   "metadata": {},
   "source": [
    "## Step 2. Select Features for Prediction\n",
    "- We choose features that may influence delivery times, such as product weight, price,freight_value, etc.\n",
    "\n",
    "- These features will be our independent variables (X).\n",
    "\n",
    "- LateDelivery will be the target variable (y)."
   ]
  },
  {
   "cell_type": "code",
   "execution_count": 466,
   "id": "bb96637c",
   "metadata": {},
   "outputs": [
    {
     "data": {
      "text/plain": [
       "((11777, 3), (11777,))"
      ]
     },
     "execution_count": 466,
     "metadata": {},
     "output_type": "execute_result"
    }
   ],
   "source": [
    "#  Step 2: Select the relevant predictor features\n",
    "features = ['price','product_weight_g','freight_value']\n",
    "\n",
    "# Independent variables (X) and target variable (y)\n",
    "X = df[features]\n",
    "y = df['LateDelivery']\n",
    "\n",
    "# Check dimensions to confirm selection\n",
    "X.shape, y.shape\n"
   ]
  },
  {
   "cell_type": "markdown",
   "id": "832827b6",
   "metadata": {},
   "source": [
    "- The dataset has 11,777 records.\n",
    "\n",
    "- There are 5 predictor variables used to train the decision tree.\n",
    "\n",
    "- The target variable is a single column (LateDelivery) that the model tries to predict."
   ]
  },
  {
   "cell_type": "markdown",
   "id": "d5f97651",
   "metadata": {},
   "source": [
    "## Step 3. Training and Visualizing the Decision Tree\n",
    "-In this step, we will:\n",
    "\n",
    "  - Train a Decision Tree Classifier on the training dataset to predict whether an order is delivered late.\n",
    "\n",
    "  - Visualize the decision tree to understand the decision-making process.\n",
    "\n",
    "  - Explain how the tree splits data based on features.\n",
    "\n"
   ]
  },
  {
   "cell_type": "code",
   "execution_count": 467,
   "id": "bf61569f",
   "metadata": {},
   "outputs": [
    {
     "data": {
      "image/png": "[encoded data removed]",
      "text/plain": [
       "<Figure size 2000x1000 with 1 Axes>"
      ]
     },
     "metadata": {},
     "output_type": "display_data"
    }
   ],
   "source": [
    "# Step 4: Train a Decision Tree Classifier and visualize it\n",
    "\n",
    "from sklearn.tree import DecisionTreeClassifier, plot_tree\n",
    "import matplotlib.pyplot as plt\n",
    "\n",
    "# Initialize the decision tree classifier\n",
    "# Limits the tree to 4 levels to avoid overfitting while keeping interpretability.\n",
    "dt_model = DecisionTreeClassifier(max_depth=4, random_state=42)  \n",
    "# max_depth=4 keeps the tree simple and interpretable\n",
    "\n",
    "# Train the model using the training data\n",
    "dt_model.fit(X, y)\n",
    "\n",
    "# Visualize the trained decision tree\n",
    "plt.figure(figsize=(20, 10))\n",
    "plot_tree(dt_model, feature_names=X.columns, class_names=[\"On-Time\", \"Late\"], filled=True,fontsize=6\n",
    "          )\n",
    "plt.show()\n"
   ]
  },
  {
   "cell_type": "markdown",
   "id": "1c360a5b",
   "metadata": {},
   "source": [
    "###  Understanding the Decision Tree Output (Simplified)\n",
    "\n",
    "A **decision tree** is like a flowchart that helps predict an outcome (e.g., **On-Time** or **Late** delivery) by asking a series of **yes/no questions** about features in the data.\n",
    "\n",
    "---\n",
    "\n",
    "###  **1. Decision Nodes (Orange Boxes)**\n",
    "- Contain a **condition** (e.g., `freight_value ≤ 12.775`).\n",
    "- Show:\n",
    "  - **Gini**: how mixed the classes are (lower = purer).\n",
    "  - **Samples**: how many data points reach this node.\n",
    "  - **Value**: distribution of classes (e.g., `[Late, On-Time]`).\n",
    "  - **Class**: the class the model predicts at this point.\n",
    "\n",
    "---\n",
    "\n",
    "### **2. Leaf Nodes (Blue Boxes)**\n",
    "- These are the **end points** of the tree.\n",
    "- Show:\n",
    "  - **Final Prediction** (e.g., \"On-Time\" or \"Late\").\n",
    "  - **Number of samples** in that leaf.\n",
    "  - **Probability** or confidence of the prediction.\n",
    "\n",
    "---\n",
    "\n",
    "### **How to Read the Tree**\n",
    "1. Start at the **top node**.\n",
    "2. Follow the branch based on whether the condition is **true or false**.\n",
    "3. Continue until you reach a **blue leaf**.\n",
    "4. The leaf tells you the **predicted class** and how confident the model is.\n",
    "\n",
    "---\n",
    "\n",
    "**Example in Simple Words:**\n",
    "- If `freight_value` is **low**, deliveries are **mostly on time**.\n",
    "- If it’s **high**, the model checks **product weight**.\n",
    "- Heavy products might require more conditions to classify correctly.\n",
    "- The process repeats until a clear prediction is made.\n"
   ]
  },
  {
   "cell_type": "markdown",
   "id": "d8cd0689",
   "metadata": {},
   "source": [
    "##  Step 4: Evaluating the Decision Tree Model\n",
    "\n",
    "Now that we have trained our decision tree and understood its structure, the next step is to **evaluate how well it performs**.  \n",
    "We do this by checking metrics such as:\n",
    "\n",
    "- **Accuracy**: Percentage of correct predictions.\n",
    "- **Precision**: How many predicted \"Late\" deliveries were actually late.\n",
    "- **Recall**: How many actual late deliveries were correctly identified.\n",
    "- **F1-Score**: Balance between precision and recall.\n",
    "- **Confusion Matrix**: A table showing correct vs incorrect predictions.\n",
    "\n",
    "This evaluation helps determine if our model is **reliable** or needs further tuning.\n"
   ]
  },
  {
   "cell_type": "code",
   "execution_count": 468,
   "id": "b5bf2a52",
   "metadata": {},
   "outputs": [
    {
     "name": "stdout",
     "output_type": "stream",
     "text": [
      "Confusion Matrix:\n",
      " [[10710    10]\n",
      " [ 1036    21]]\n",
      "\n",
      "Classification Report:\n",
      "               precision    recall  f1-score   support\n",
      "\n",
      "           0       0.91      1.00      0.95     10720\n",
      "           1       0.68      0.02      0.04      1057\n",
      "\n",
      "    accuracy                           0.91     11777\n",
      "   macro avg       0.79      0.51      0.50     11777\n",
      "weighted avg       0.89      0.91      0.87     11777\n",
      "\n",
      "\n",
      "Accuracy Score: 0.9111828139594124\n"
     ]
    }
   ],
   "source": [
    "# Import required libraries\n",
    "from sklearn.metrics import confusion_matrix, classification_report, accuracy_score\n",
    "from sklearn.tree import DecisionTreeClassifier\n",
    "\n",
    "# 1. Define features (X) and target (y)\n",
    "X = df[['freight_value', 'product_weight_g', 'price']]\n",
    "y = df['LateDelivery']\n",
    "\n",
    "# 2. Train Decision Tree Model\n",
    "clf = DecisionTreeClassifier(max_depth=4, random_state=42)\n",
    "clf.fit(X, y)\n",
    "\n",
    "# 3. Make predictions\n",
    "y_pred = clf.predict(X)\n",
    "\n",
    "# 4. Generate confusion matrix\n",
    "cm = confusion_matrix(y, y_pred)\n",
    "\n",
    "# ✅ 5. Print classification metrics\n",
    "print(\"Confusion Matrix:\\n\", cm)\n",
    "print(\"\\nClassification Report:\\n\", classification_report(y, y_pred))\n",
    "print(\"\\nAccuracy Score:\", accuracy_score(y, y_pred))\n",
    "\n"
   ]
  },
  {
   "cell_type": "markdown",
   "id": "23e6c711",
   "metadata": {},
   "source": [
    "###  Interpretation of Decision Tree Model Evaluation\n",
    "\n",
    "### 1. **Confusion Matrix**\n",
    "[[10710 10]\n",
    "[ 1036 21]]\n",
    "- **True Positives (TP):** 21 – Correctly predicted late deliveries.\n",
    "- **True Negatives (TN):** 10,710 – Correctly predicted on-time deliveries.\n",
    "- **False Positives (FP):** 10 – Predicted late, but were actually on-time.\n",
    "- **False Negatives (FN):** 1,036 – Predicted on-time, but were actually late.\n",
    "\n",
    "---\n",
    "\n",
    "### 2. **Classification Report**\n",
    "| Metric      | Class 0 (On-Time) | Class 1 (Late) | Explanation |\n",
    "|-------------|-------------------|----------------|-------------|\n",
    "| **Precision** | 0.91 | 0.68 | For on-time, 91% of predicted on-time were correct; for late, only 68% were correct. |\n",
    "| **Recall**    | 1.00 | 0.02 | Model detects almost all on-time deliveries, but only 2% of late deliveries. |\n",
    "| **F1-Score**  | 0.95 | 0.04 | Harmonic mean of precision and recall; very low for late deliveries. |\n",
    "| **Support**   | 10,720 | 1,057 | Number of actual instances per class. |\n",
    "\n",
    "---\n",
    "\n",
    "### 3. **Overall Accuracy**\n",
    "- **Accuracy Score:** `0.91` (91%)  \n",
    "- High accuracy because the majority of deliveries are on-time.\n",
    "- Not a good indicator of performance for late deliveries (minority class).\n",
    "\n",
    "---\n",
    "\n",
    "### 4. **Key Insights**\n",
    "- The model is **highly biased towards predicting \"on-time\"** deliveries.\n",
    "- It **fails to capture most of the late deliveries** (low recall for class 1).\n",
    "- Accuracy alone is **not a good metric** for this imbalanced dataset.\n",
    "\n",
    "---\n",
    "\n",
    "### 5. **Conclusion**\n",
    "- The model is **good at predicting on-time deliveries** but **poor at identifying late deliveries**.  \n",
    "- To improve predictions:\n",
    "  - Use techniques like **SMOTE** (oversampling), **class weighting**, or **ensemble methods** to handle class imbalance.\n",
    "\n"
   ]
  },
  {
   "cell_type": "markdown",
   "id": "5cc8d902",
   "metadata": {},
   "source": [
    "##  Step 5: Visualizing the Confusion Matrix\n",
    "\n",
    "While the numeric confusion matrix is informative, a **heatmap visualization** makes it easier to interpret.  \n",
    "It shows how many predictions were correct vs. incorrect using color intensity.\n",
    "\n",
    "- **True Positives (TP)**: Correctly predicted \"Late\" deliveries.\n",
    "- **True Negatives (TN)**: Correctly predicted \"On-Time\" deliveries.\n",
    "- **False Positives (FP)**: Predicted \"Late\" but was actually \"On-Time\".\n",
    "- **False Negatives (FN)**: Predicted \"On-Time\" but was actually \"Late\".\n",
    "\n",
    "This visualization quickly highlights whether the model is biased towards one class.\n"
   ]
  },
  {
   "cell_type": "code",
   "execution_count": 469,
   "id": "0d917837",
   "metadata": {},
   "outputs": [
    {
     "data": {
      "image/png": "[encoded data removed]",
      "text/plain": [
       "<Figure size 500x400 with 2 Axes>"
      ]
     },
     "metadata": {},
     "output_type": "display_data"
    }
   ],
   "source": [
    "import seaborn as sns\n",
    "import matplotlib.pyplot as plt\n",
    "\n",
    "# Step 6.1: Get the confusion matrix\n",
    "cm = confusion_matrix(y, y_pred)\n",
    "\n",
    "# Step 6.2: Plot using seaborn heatmap\n",
    "plt.figure(figsize=(5,4))\n",
    "sns.heatmap(cm, annot=True, fmt='d', cmap='Blues', xticklabels=['On-Time','Late'], yticklabels=['On-Time','Late'])\n",
    "plt.xlabel('Predicted')\n",
    "plt.ylabel('Actual')\n",
    "plt.title('Confusion Matrix - Decision Tree Model')\n",
    "plt.show()\n"
   ]
  },
  {
   "cell_type": "markdown",
   "id": "fc1dc73f",
   "metadata": {},
   "source": [
    "## Random Forest Classifier for Late Delivery Prediction\n",
    "\n",
    "After using a single Decision Tree as our baseline model, we now implement a **Random Forest Classifier**.\n",
    "\n",
    "###  What is Random Forest?\n",
    "Random Forest is an **ensemble learning technique** that builds multiple decision trees and combines their predictions.  \n",
    "It reduces overfitting and improves accuracy compared to a single tree.\n",
    "\n",
    "###  Why use Random Forest?\n",
    "- **Higher accuracy** due to averaging multiple trees.\n",
    "- **Less overfitting**, providing better generalization on unseen data.\n",
    "- **Feature importance** can be extracted, showing which factors influence predictions.\n",
    "\n",
    "###  Steps:\n",
    "1. Train a Random Forest model on the dataset.\n",
    "2. Evaluate using accuracy, confusion matrix, and classification report.\n",
    "3. Compare results with the Decision Tree classifier.\n",
    "4. Analyze feature importance.\n"
   ]
  },
  {
   "cell_type": "markdown",
   "id": "a8985ef9",
   "metadata": {},
   "source": [
    "## Step 1. Training the Random Forest Classifier\n",
    "\n",
    "Here, we create and train a **Random Forest Classifier** to predict late deliveries.  \n",
    "- **Random Forest** builds multiple decision trees and takes the majority vote for the final prediction.  \n",
    "- This helps to reduce overfitting and gives more stable predictions than a single decision tree.\n",
    "\n",
    "We will use:\n",
    "- `n_estimators=100`: number of trees in the forest.\n",
    "- `random_state=42`: ensures reproducibility of results.\n"
   ]
  },
  {
   "cell_type": "markdown",
   "id": "bf4dd1b7",
   "metadata": {},
   "source": [
    "## Step 2. Split Data into Training and Testing Sets\n",
    "🔹 Why we do this?\n",
    "- To train the Random Forest on one part of the data (train set)\n",
    "\n",
    "- To test its performance on unseen data (test set)\n",
    "\n",
    "- This prevents overfitting and gives a realistic performance measure"
   ]
  },
  {
   "cell_type": "code",
   "execution_count": 470,
   "id": "93579c77",
   "metadata": {},
   "outputs": [
    {
     "data": {
      "text/plain": [
       "((9421, 3), (2356, 3), (9421,), (2356,))"
      ]
     },
     "execution_count": 470,
     "metadata": {},
     "output_type": "execute_result"
    }
   ],
   "source": [
    "# Step 2: Split the data into training and testing sets\n",
    "\n",
    "from sklearn.model_selection import train_test_split\n",
    "\n",
    "# Splitting the dataset: 80% for training and 20% for testing\n",
    "X_train, X_test, y_train, y_test = train_test_split(X, y, test_size=0.2, random_state=42)\n",
    "\n",
    "# Check the shape of resulting datasets\n",
    "(X_train.shape, X_test.shape, y_train.shape, y_test.shape)\n"
   ]
  },
  {
   "cell_type": "markdown",
   "id": "81f52c80",
   "metadata": {},
   "source": [
    "- This means:\n",
    "\n",
    "    - Training data has 9421 samples.\n",
    "\n",
    "   - Testing data has 2356 samples"
   ]
  },
  {
   "cell_type": "markdown",
   "id": "d504c09c",
   "metadata": {},
   "source": [
    "## Step 3. Train the Random Forest Model\n",
    "Now that we have our training and testing sets, we will train the Random Forest Classifier using the training data (X_train, y_train).\n",
    "\n",
    "\n"
   ]
  },
  {
   "cell_type": "code",
   "execution_count": 471,
   "id": "faa2dbfa",
   "metadata": {},
   "outputs": [
    {
     "data": {
      "text/html": [
       "<style>#sk-container-id-21 {\n",
       "  /* Definition of color scheme common for light and dark mode */\n",
       "  --sklearn-color-text: black;\n",
       "  --sklearn-color-line: gray;\n",
       "  /* Definition of color scheme for unfitted estimators */\n",
       "  --sklearn-color-unfitted-level-0: #fff5e6;\n",
       "  --sklearn-color-unfitted-level-1: #f6e4d2;\n",
       "  --sklearn-color-unfitted-level-2: #ffe0b3;\n",
       "  --sklearn-color-unfitted-level-3: chocolate;\n",
       "  /* Definition of color scheme for fitted estimators */\n",
       "  --sklearn-color-fitted-level-0: #f0f8ff;\n",
       "  --sklearn-color-fitted-level-1: #d4ebff;\n",
       "  --sklearn-color-fitted-level-2: #b3dbfd;\n",
       "  --sklearn-color-fitted-level-3: cornflowerblue;\n",
       "\n",
       "  /* Specific color for light theme */\n",
       "  --sklearn-color-text-on-default-background: var(--sg-text-color, var(--theme-code-foreground, var(--jp-content-font-color1, black)));\n",
       "  --sklearn-color-background: var(--sg-background-color, var(--theme-background, var(--jp-layout-color0, white)));\n",
       "  --sklearn-color-border-box: var(--sg-text-color, var(--theme-code-foreground, var(--jp-content-font-color1, black)));\n",
       "  --sklearn-color-icon: #696969;\n",
       "\n",
       "  @media (prefers-color-scheme: dark) {\n",
       "    /* Redefinition of color scheme for dark theme */\n",
       "    --sklearn-color-text-on-default-background: var(--sg-text-color, var(--theme-code-foreground, var(--jp-content-font-color1, white)));\n",
       "    --sklearn-color-background: var(--sg-background-color, var(--theme-background, var(--jp-layout-color0, #111)));\n",
       "    --sklearn-color-border-box: var(--sg-text-color, var(--theme-code-foreground, var(--jp-content-font-color1, white)));\n",
       "    --sklearn-color-icon: #878787;\n",
       "  }\n",
       "}\n",
       "\n",
       "#sk-container-id-21 {\n",
       "  color: var(--sklearn-color-text);\n",
       "}\n",
       "\n",
       "#sk-container-id-21 pre {\n",
       "  padding: 0;\n",
       "}\n",
       "\n",
       "#sk-container-id-21 input.sk-hidden--visually {\n",
       "  border: 0;\n",
       "  clip: rect(1px 1px 1px 1px);\n",
       "  clip: rect(1px, 1px, 1px, 1px);\n",
       "  height: 1px;\n",
       "  margin: -1px;\n",
       "  overflow: hidden;\n",
       "  padding: 0;\n",
       "  position: absolute;\n",
       "  width: 1px;\n",
       "}\n",
       "\n",
       "#sk-container-id-21 div.sk-dashed-wrapped {\n",
       "  border: 1px dashed var(--sklearn-color-line);\n",
       "  margin: 0 0.4em 0.5em 0.4em;\n",
       "  box-sizing: border-box;\n",
       "  padding-bottom: 0.4em;\n",
       "  background-color: var(--sklearn-color-background);\n",
       "}\n",
       "\n",
       "#sk-container-id-21 div.sk-container {\n",
       "  /* jupyter's `normalize.less` sets `[hidden] { display: none; }`\n",
       "     but bootstrap.min.css set `[hidden] { display: none !important; }`\n",
       "     so we also need the `!important` here to be able to override the\n",
       "     default hidden behavior on the sphinx rendered scikit-learn.org.\n",
       "     See: https://github.com/scikit-learn/scikit-learn/issues/21755 */\n",
       "  display: inline-block !important;\n",
       "  position: relative;\n",
       "}\n",
       "\n",
       "#sk-container-id-21 div.sk-text-repr-fallback {\n",
       "  display: none;\n",
       "}\n",
       "\n",
       "div.sk-parallel-item,\n",
       "div.sk-serial,\n",
       "div.sk-item {\n",
       "  /* draw centered vertical line to link estimators */\n",
       "  background-image: linear-gradient(var(--sklearn-color-text-on-default-background), var(--sklearn-color-text-on-default-background));\n",
       "  background-size: 2px 100%;\n",
       "  background-repeat: no-repeat;\n",
       "  background-position: center center;\n",
       "}\n",
       "\n",
       "/* Parallel-specific style estimator block */\n",
       "\n",
       "#sk-container-id-21 div.sk-parallel-item::after {\n",
       "  content: \"\";\n",
       "  width: 100%;\n",
       "  border-bottom: 2px solid var(--sklearn-color-text-on-default-background);\n",
       "  flex-grow: 1;\n",
       "}\n",
       "\n",
       "#sk-container-id-21 div.sk-parallel {\n",
       "  display: flex;\n",
       "  align-items: stretch;\n",
       "  justify-content: center;\n",
       "  background-color: var(--sklearn-color-background);\n",
       "  position: relative;\n",
       "}\n",
       "\n",
       "#sk-container-id-21 div.sk-parallel-item {\n",
       "  display: flex;\n",
       "  flex-direction: column;\n",
       "}\n",
       "\n",
       "#sk-container-id-21 div.sk-parallel-item:first-child::after {\n",
       "  align-self: flex-end;\n",
       "  width: 50%;\n",
       "}\n",
       "\n",
       "#sk-container-id-21 div.sk-parallel-item:last-child::after {\n",
       "  align-self: flex-start;\n",
       "  width: 50%;\n",
       "}\n",
       "\n",
       "#sk-container-id-21 div.sk-parallel-item:only-child::after {\n",
       "  width: 0;\n",
       "}\n",
       "\n",
       "/* Serial-specific style estimator block */\n",
       "\n",
       "#sk-container-id-21 div.sk-serial {\n",
       "  display: flex;\n",
       "  flex-direction: column;\n",
       "  align-items: center;\n",
       "  background-color: var(--sklearn-color-background);\n",
       "  padding-right: 1em;\n",
       "  padding-left: 1em;\n",
       "}\n",
       "\n",
       "\n",
       "/* Toggleable style: style used for estimator/Pipeline/ColumnTransformer box that is\n",
       "clickable and can be expanded/collapsed.\n",
       "- Pipeline and ColumnTransformer use this feature and define the default style\n",
       "- Estimators will overwrite some part of the style using the `sk-estimator` class\n",
       "*/\n",
       "\n",
       "/* Pipeline and ColumnTransformer style (default) */\n",
       "\n",
       "#sk-container-id-21 div.sk-toggleable {\n",
       "  /* Default theme specific background. It is overwritten whether we have a\n",
       "  specific estimator or a Pipeline/ColumnTransformer */\n",
       "  background-color: var(--sklearn-color-background);\n",
       "}\n",
       "\n",
       "/* Toggleable label */\n",
       "#sk-container-id-21 label.sk-toggleable__label {\n",
       "  cursor: pointer;\n",
       "  display: block;\n",
       "  width: 100%;\n",
       "  margin-bottom: 0;\n",
       "  padding: 0.5em;\n",
       "  box-sizing: border-box;\n",
       "  text-align: center;\n",
       "}\n",
       "\n",
       "#sk-container-id-21 label.sk-toggleable__label-arrow:before {\n",
       "  /* Arrow on the left of the label */\n",
       "  content: \"▸\";\n",
       "  float: left;\n",
       "  margin-right: 0.25em;\n",
       "  color: var(--sklearn-color-icon);\n",
       "}\n",
       "\n",
       "#sk-container-id-21 label.sk-toggleable__label-arrow:hover:before {\n",
       "  color: var(--sklearn-color-text);\n",
       "}\n",
       "\n",
       "/* Toggleable content - dropdown */\n",
       "\n",
       "#sk-container-id-21 div.sk-toggleable__content {\n",
       "  max-height: 0;\n",
       "  max-width: 0;\n",
       "  overflow: hidden;\n",
       "  text-align: left;\n",
       "  /* unfitted */\n",
       "  background-color: var(--sklearn-color-unfitted-level-0);\n",
       "}\n",
       "\n",
       "#sk-container-id-21 div.sk-toggleable__content.fitted {\n",
       "  /* fitted */\n",
       "  background-color: var(--sklearn-color-fitted-level-0);\n",
       "}\n",
       "\n",
       "#sk-container-id-21 div.sk-toggleable__content pre {\n",
       "  margin: 0.2em;\n",
       "  border-radius: 0.25em;\n",
       "  color: var(--sklearn-color-text);\n",
       "  /* unfitted */\n",
       "  background-color: var(--sklearn-color-unfitted-level-0);\n",
       "}\n",
       "\n",
       "#sk-container-id-21 div.sk-toggleable__content.fitted pre {\n",
       "  /* unfitted */\n",
       "  background-color: var(--sklearn-color-fitted-level-0);\n",
       "}\n",
       "\n",
       "#sk-container-id-21 input.sk-toggleable__control:checked~div.sk-toggleable__content {\n",
       "  /* Expand drop-down */\n",
       "  max-height: 200px;\n",
       "  max-width: 100%;\n",
       "  overflow: auto;\n",
       "}\n",
       "\n",
       "#sk-container-id-21 input.sk-toggleable__control:checked~label.sk-toggleable__label-arrow:before {\n",
       "  content: \"▾\";\n",
       "}\n",
       "\n",
       "/* Pipeline/ColumnTransformer-specific style */\n",
       "\n",
       "#sk-container-id-21 div.sk-label input.sk-toggleable__control:checked~label.sk-toggleable__label {\n",
       "  color: var(--sklearn-color-text);\n",
       "  background-color: var(--sklearn-color-unfitted-level-2);\n",
       "}\n",
       "\n",
       "#sk-container-id-21 div.sk-label.fitted input.sk-toggleable__control:checked~label.sk-toggleable__label {\n",
       "  background-color: var(--sklearn-color-fitted-level-2);\n",
       "}\n",
       "\n",
       "/* Estimator-specific style */\n",
       "\n",
       "/* Colorize estimator box */\n",
       "#sk-container-id-21 div.sk-estimator input.sk-toggleable__control:checked~label.sk-toggleable__label {\n",
       "  /* unfitted */\n",
       "  background-color: var(--sklearn-color-unfitted-level-2);\n",
       "}\n",
       "\n",
       "#sk-container-id-21 div.sk-estimator.fitted input.sk-toggleable__control:checked~label.sk-toggleable__label {\n",
       "  /* fitted */\n",
       "  background-color: var(--sklearn-color-fitted-level-2);\n",
       "}\n",
       "\n",
       "#sk-container-id-21 div.sk-label label.sk-toggleable__label,\n",
       "#sk-container-id-21 div.sk-label label {\n",
       "  /* The background is the default theme color */\n",
       "  color: var(--sklearn-color-text-on-default-background);\n",
       "}\n",
       "\n",
       "/* On hover, darken the color of the background */\n",
       "#sk-container-id-21 div.sk-label:hover label.sk-toggleable__label {\n",
       "  color: var(--sklearn-color-text);\n",
       "  background-color: var(--sklearn-color-unfitted-level-2);\n",
       "}\n",
       "\n",
       "/* Label box, darken color on hover, fitted */\n",
       "#sk-container-id-21 div.sk-label.fitted:hover label.sk-toggleable__label.fitted {\n",
       "  color: var(--sklearn-color-text);\n",
       "  background-color: var(--sklearn-color-fitted-level-2);\n",
       "}\n",
       "\n",
       "/* Estimator label */\n",
       "\n",
       "#sk-container-id-21 div.sk-label label {\n",
       "  font-family: monospace;\n",
       "  font-weight: bold;\n",
       "  display: inline-block;\n",
       "  line-height: 1.2em;\n",
       "}\n",
       "\n",
       "#sk-container-id-21 div.sk-label-container {\n",
       "  text-align: center;\n",
       "}\n",
       "\n",
       "/* Estimator-specific */\n",
       "#sk-container-id-21 div.sk-estimator {\n",
       "  font-family: monospace;\n",
       "  border: 1px dotted var(--sklearn-color-border-box);\n",
       "  border-radius: 0.25em;\n",
       "  box-sizing: border-box;\n",
       "  margin-bottom: 0.5em;\n",
       "  /* unfitted */\n",
       "  background-color: var(--sklearn-color-unfitted-level-0);\n",
       "}\n",
       "\n",
       "#sk-container-id-21 div.sk-estimator.fitted {\n",
       "  /* fitted */\n",
       "  background-color: var(--sklearn-color-fitted-level-0);\n",
       "}\n",
       "\n",
       "/* on hover */\n",
       "#sk-container-id-21 div.sk-estimator:hover {\n",
       "  /* unfitted */\n",
       "  background-color: var(--sklearn-color-unfitted-level-2);\n",
       "}\n",
       "\n",
       "#sk-container-id-21 div.sk-estimator.fitted:hover {\n",
       "  /* fitted */\n",
       "  background-color: var(--sklearn-color-fitted-level-2);\n",
       "}\n",
       "\n",
       "/* Specification for estimator info (e.g. \"i\" and \"?\") */\n",
       "\n",
       "/* Common style for \"i\" and \"?\" */\n",
       "\n",
       ".sk-estimator-doc-link,\n",
       "a:link.sk-estimator-doc-link,\n",
       "a:visited.sk-estimator-doc-link {\n",
       "  float: right;\n",
       "  font-size: smaller;\n",
       "  line-height: 1em;\n",
       "  font-family: monospace;\n",
       "  background-color: var(--sklearn-color-background);\n",
       "  border-radius: 1em;\n",
       "  height: 1em;\n",
       "  width: 1em;\n",
       "  text-decoration: none !important;\n",
       "  margin-left: 1ex;\n",
       "  /* unfitted */\n",
       "  border: var(--sklearn-color-unfitted-level-1) 1pt solid;\n",
       "  color: var(--sklearn-color-unfitted-level-1);\n",
       "}\n",
       "\n",
       ".sk-estimator-doc-link.fitted,\n",
       "a:link.sk-estimator-doc-link.fitted,\n",
       "a:visited.sk-estimator-doc-link.fitted {\n",
       "  /* fitted */\n",
       "  border: var(--sklearn-color-fitted-level-1) 1pt solid;\n",
       "  color: var(--sklearn-color-fitted-level-1);\n",
       "}\n",
       "\n",
       "/* On hover */\n",
       "div.sk-estimator:hover .sk-estimator-doc-link:hover,\n",
       ".sk-estimator-doc-link:hover,\n",
       "div.sk-label-container:hover .sk-estimator-doc-link:hover,\n",
       ".sk-estimator-doc-link:hover {\n",
       "  /* unfitted */\n",
       "  background-color: var(--sklearn-color-unfitted-level-3);\n",
       "  color: var(--sklearn-color-background);\n",
       "  text-decoration: none;\n",
       "}\n",
       "\n",
       "div.sk-estimator.fitted:hover .sk-estimator-doc-link.fitted:hover,\n",
       ".sk-estimator-doc-link.fitted:hover,\n",
       "div.sk-label-container:hover .sk-estimator-doc-link.fitted:hover,\n",
       ".sk-estimator-doc-link.fitted:hover {\n",
       "  /* fitted */\n",
       "  background-color: var(--sklearn-color-fitted-level-3);\n",
       "  color: var(--sklearn-color-background);\n",
       "  text-decoration: none;\n",
       "}\n",
       "\n",
       "/* Span, style for the box shown on hovering the info icon */\n",
       ".sk-estimator-doc-link span {\n",
       "  display: none;\n",
       "  z-index: 9999;\n",
       "  position: relative;\n",
       "  font-weight: normal;\n",
       "  right: .2ex;\n",
       "  padding: .5ex;\n",
       "  margin: .5ex;\n",
       "  width: min-content;\n",
       "  min-width: 20ex;\n",
       "  max-width: 50ex;\n",
       "  color: var(--sklearn-color-text);\n",
       "  box-shadow: 2pt 2pt 4pt #999;\n",
       "  /* unfitted */\n",
       "  background: var(--sklearn-color-unfitted-level-0);\n",
       "  border: .5pt solid var(--sklearn-color-unfitted-level-3);\n",
       "}\n",
       "\n",
       ".sk-estimator-doc-link.fitted span {\n",
       "  /* fitted */\n",
       "  background: var(--sklearn-color-fitted-level-0);\n",
       "  border: var(--sklearn-color-fitted-level-3);\n",
       "}\n",
       "\n",
       ".sk-estimator-doc-link:hover span {\n",
       "  display: block;\n",
       "}\n",
       "\n",
       "/* \"?\"-specific style due to the `<a>` HTML tag */\n",
       "\n",
       "#sk-container-id-21 a.estimator_doc_link {\n",
       "  float: right;\n",
       "  font-size: 1rem;\n",
       "  line-height: 1em;\n",
       "  font-family: monospace;\n",
       "  background-color: var(--sklearn-color-background);\n",
       "  border-radius: 1rem;\n",
       "  height: 1rem;\n",
       "  width: 1rem;\n",
       "  text-decoration: none;\n",
       "  /* unfitted */\n",
       "  color: var(--sklearn-color-unfitted-level-1);\n",
       "  border: var(--sklearn-color-unfitted-level-1) 1pt solid;\n",
       "}\n",
       "\n",
       "#sk-container-id-21 a.estimator_doc_link.fitted {\n",
       "  /* fitted */\n",
       "  border: var(--sklearn-color-fitted-level-1) 1pt solid;\n",
       "  color: var(--sklearn-color-fitted-level-1);\n",
       "}\n",
       "\n",
       "/* On hover */\n",
       "#sk-container-id-21 a.estimator_doc_link:hover {\n",
       "  /* unfitted */\n",
       "  background-color: var(--sklearn-color-unfitted-level-3);\n",
       "  color: var(--sklearn-color-background);\n",
       "  text-decoration: none;\n",
       "}\n",
       "\n",
       "#sk-container-id-21 a.estimator_doc_link.fitted:hover {\n",
       "  /* fitted */\n",
       "  background-color: var(--sklearn-color-fitted-level-3);\n",
       "}\n",
       "</style><div id=\"sk-container-id-21\" class=\"sk-top-container\"><div class=\"sk-text-repr-fallback\"><pre>RandomForestClassifier(random_state=42)</pre><b>In a Jupyter environment, please rerun this cell to show the HTML representation or trust the notebook. <br />On GitHub, the HTML representation is unable to render, please try loading this page with nbviewer.org.</b></div><div class=\"sk-container\" hidden><div class=\"sk-item\"><div class=\"sk-estimator fitted sk-toggleable\"><input class=\"sk-toggleable__control sk-hidden--visually\" id=\"sk-estimator-id-21\" type=\"checkbox\" checked><label for=\"sk-estimator-id-21\" class=\"sk-toggleable__label fitted sk-toggleable__label-arrow fitted\">&nbsp;&nbsp;RandomForestClassifier<a class=\"sk-estimator-doc-link fitted\" rel=\"noreferrer\" target=\"_blank\" href=\"https://scikit-learn.org/1.5/modules/generated/sklearn.ensemble.RandomForestClassifier.html\">?<span>Documentation for RandomForestClassifier</span></a><span class=\"sk-estimator-doc-link fitted\">i<span>Fitted</span></span></label><div class=\"sk-toggleable__content fitted\"><pre>RandomForestClassifier(random_state=42)</pre></div> </div></div></div></div>"
      ],
      "text/plain": [
       "RandomForestClassifier(random_state=42)"
      ]
     },
     "execution_count": 471,
     "metadata": {},
     "output_type": "execute_result"
    }
   ],
   "source": [
    "# Step 2: Train the Random Forest Classifier with specified number of trees\n",
    "from sklearn.ensemble import RandomForestClassifier\n",
    "\n",
    "# Initialize the classifier with 100 trees\n",
    "rf_model = RandomForestClassifier(n_estimators=100, random_state=42)\n",
    "\n",
    "# Fit the model on the training data\n",
    "rf_model.fit(X_train, y_train)\n",
    "\n"
   ]
  },
  {
   "cell_type": "markdown",
   "id": "20c1620b",
   "metadata": {},
   "source": [
    "## Step 3: Make Predictions Using the Random Forest Model\n",
    "Now that we have trained our Random Forest classifier, we can use it to predict whether deliveries are On-Time (0) or Late (1) on the test data."
   ]
  },
  {
   "cell_type": "code",
   "execution_count": 472,
   "id": "9564396d",
   "metadata": {},
   "outputs": [
    {
     "data": {
      "text/plain": [
       "array([0, 0, 0, 0, 0, 0, 0, 0, 0, 0])"
      ]
     },
     "execution_count": 472,
     "metadata": {},
     "output_type": "execute_result"
    }
   ],
   "source": [
    "# Step 3: Make predictions on the test set\n",
    "y_pred_rf = rf_model.predict(X_test)\n",
    "# Preview first 10 predictions\n",
    "y_pred_rf[:10]\n"
   ]
  },
  {
   "cell_type": "markdown",
   "id": "e21793ad",
   "metadata": {},
   "source": [
    "## Step 5. Evaluate the Random Forest Model\n",
    "We’ll now evaluate the model using confusion matrix, classification report, and accuracy score."
   ]
  },
  {
   "cell_type": "code",
   "execution_count": 473,
   "id": "7a1fc743",
   "metadata": {},
   "outputs": [
    {
     "name": "stdout",
     "output_type": "stream",
     "text": [
      "Confusion Matrix:\n",
      " [[2118   48]\n",
      " [ 166   24]]\n",
      "\n",
      "Classification Report:\n",
      "               precision    recall  f1-score   support\n",
      "\n",
      "           0       0.93      0.98      0.95      2166\n",
      "           1       0.33      0.13      0.18       190\n",
      "\n",
      "    accuracy                           0.91      2356\n",
      "   macro avg       0.63      0.55      0.57      2356\n",
      "weighted avg       0.88      0.91      0.89      2356\n",
      "\n",
      "\n",
      "Accuracy Score: 0.9091680814940577\n"
     ]
    }
   ],
   "source": [
    "from sklearn.metrics import confusion_matrix, classification_report, accuracy_score\n",
    "\n",
    "# Confusion Matrix\n",
    "cm_rf = confusion_matrix(y_test, y_pred_rf)\n",
    "print(\"Confusion Matrix:\\n\", cm_rf)\n",
    "\n",
    "# Classification Report\n",
    "cr_rf = classification_report(y_test, y_pred_rf)\n",
    "print(\"\\nClassification Report:\\n\", cr_rf)\n",
    "\n",
    "# Accuracy Score\n",
    "acc_rf = accuracy_score(y_test, y_pred_rf)\n",
    "print(\"\\nAccuracy Score:\", acc_rf)\n"
   ]
  },
  {
   "cell_type": "markdown",
   "id": "5d1c6fcd",
   "metadata": {},
   "source": [
    "## Random Forest Model Evaluation – Results Summary\n",
    "\n",
    "### Confusion Matrix:\n",
    "[[2118 48]\n",
    "[ 166 24]]\n",
    "\n",
    "- **TN (2118):** Correctly predicted on-time deliveries  \n",
    "- **FP (48):** Incorrectly predicted late deliveries  \n",
    "- **FN (166):** Missed late deliveries (predicted on-time instead)  \n",
    "- **TP (24):** Correctly predicted late deliveries  \n",
    "\n",
    "---\n",
    "\n",
    "### Classification Report:\n",
    "\n",
    "| Class        | Precision | Recall | F1-score |\n",
    "|--------------|-----------|--------|----------|\n",
    "| **On-Time** (0) | 0.93      | 0.98   | 0.95     |\n",
    "| **Late** (1)    | 0.33      | 0.13   | 0.18     |\n",
    "\n",
    "---\n",
    "\n",
    "### Accuracy Score:\n",
    "- **Overall Accuracy:** `91%`\n",
    "\n",
    "---\n",
    "\n",
    "### Interpretation:\n",
    "- The model is **excellent at predicting on-time deliveries**.  \n",
    "- It **struggles to detect late deliveries**, due to the imbalance in the dataset (fewer late cases).  \n",
    "- Accuracy is high (91%) but mainly driven by the majority class (on-time).  \n",
    "\n",
    "---\n",
    "\n"
   ]
  },
  {
   "cell_type": "markdown",
   "id": "3be565d4",
   "metadata": {},
   "source": [
    "## Step 5. Analyzing Feature Importance\n",
    "- In Random Forest, feature importance tells us which variables have the most influence in making predictions. \n",
    "- This helps identify which factors most strongly affect whether a delivery is late or on time"
   ]
  },
  {
   "cell_type": "code",
   "execution_count": 474,
   "id": "74a66b29",
   "metadata": {},
   "outputs": [
    {
     "data": {
      "application/vnd.microsoft.datawrangler.viewer.v0+json": {
       "columns": [
        {
         "name": "index",
         "rawType": "int64",
         "type": "integer"
        },
        {
         "name": "Feature",
         "rawType": "object",
         "type": "string"
        },
        {
         "name": "Importance",
         "rawType": "float64",
         "type": "float"
        }
       ],
       "ref": "0cc0bf10-801a-4fce-88bc-b01b6c165797",
       "rows": [
        [
         "0",
         "freight_value",
         "0.38155726475636953"
        ],
        [
         "2",
         "price",
         "0.36099099737859963"
        ],
        [
         "1",
         "product_weight_g",
         "0.2574517378650309"
        ]
       ],
       "shape": {
        "columns": 2,
        "rows": 3
       }
      },
      "text/html": [
       "<div>\n",
       "<style scoped>\n",
       "    .dataframe tbody tr th:only-of-type {\n",
       "        vertical-align: middle;\n",
       "    }\n",
       "\n",
       "    .dataframe tbody tr th {\n",
       "        vertical-align: top;\n",
       "    }\n",
       "\n",
       "    .dataframe thead th {\n",
       "        text-align: right;\n",
       "    }\n",
       "</style>\n",
       "<table border=\"1\" class=\"dataframe\">\n",
       "  <thead>\n",
       "    <tr style=\"text-align: right;\">\n",
       "      <th></th>\n",
       "      <th>Feature</th>\n",
       "      <th>Importance</th>\n",
       "    </tr>\n",
       "  </thead>\n",
       "  <tbody>\n",
       "    <tr>\n",
       "      <th>0</th>\n",
       "      <td>freight_value</td>\n",
       "      <td>0.381557</td>\n",
       "    </tr>\n",
       "    <tr>\n",
       "      <th>2</th>\n",
       "      <td>price</td>\n",
       "      <td>0.360991</td>\n",
       "    </tr>\n",
       "    <tr>\n",
       "      <th>1</th>\n",
       "      <td>product_weight_g</td>\n",
       "      <td>0.257452</td>\n",
       "    </tr>\n",
       "  </tbody>\n",
       "</table>\n",
       "</div>"
      ],
      "text/plain": [
       "            Feature  Importance\n",
       "0     freight_value    0.381557\n",
       "2             price    0.360991\n",
       "1  product_weight_g    0.257452"
      ]
     },
     "execution_count": 474,
     "metadata": {},
     "output_type": "execute_result"
    }
   ],
   "source": [
    "# Step 5: Analyzing Feature Importance\n",
    "# --------------------------------------\n",
    "# Extract the feature importances from the trained Random Forest model\n",
    "import numpy as np\n",
    "\n",
    "# Get feature names and their importance values\n",
    "feature_importances = rf_model.feature_importances_\n",
    "features = X.columns\n",
    "\n",
    "# Combine features with their importance values\n",
    "importance_df = pd.DataFrame({\n",
    "    'Feature': features,\n",
    "    'Importance': feature_importances\n",
    "}).sort_values(by='Importance', ascending=False)\n",
    "\n",
    "# Display top features\n",
    "importance_df\n"
   ]
  },
  {
   "cell_type": "code",
   "execution_count": null,
   "id": "bbedeb43",
   "metadata": {},
   "outputs": [
    {
     "data": {
      "image/png": "[encoded data removed]",
      "text/plain": [
       "<Figure size 1000x600 with 1 Axes>"
      ]
     },
     "metadata": {},
     "output_type": "display_data"
    },
    {
     "ename": "",
     "evalue": "",
     "output_type": "error",
     "traceback": [
      "\u001b[1;31mThe Kernel crashed while executing code in the current cell or a previous cell. \n",
      "\u001b[1;31mPlease review the code in the cell(s) to identify a possible cause of the failure. \n",
      "\u001b[1;31mClick <a href='https://aka.ms/vscodeJupyterKernelCrash'>here</a> for more info. \n",
      "\u001b[1;31mView Jupyter <a href='command:jupyter.viewOutput'>log</a> for further details."
     ]
    }
   ],
   "source": [
    "# Visualize feature importance using a bar plot\n",
    "import matplotlib.pyplot as plt\n",
    "\n",
    "plt.figure(figsize=(10,6))\n",
    "plt.barh(importance_df['Feature'], importance_df['Importance'], color='teal')\n",
    "plt.gca().invert_yaxis()  # Most important at the top\n",
    "plt.xlabel('Importance Score')\n",
    "plt.ylabel('Features')\n",
    "plt.title('Feature Importance in Random Forest Model')\n",
    "plt.show()"
   ]
  },
  {
   "cell_type": "markdown",
   "id": "6a7e5925",
   "metadata": {},
   "source": [
    "##  Feature Importance – Random Forest\n",
    "\n",
    "The table below shows how much each feature contributed to predicting whether a delivery is **On-Time** or **Late**.\n",
    "\n",
    "| Feature             | Importance |\n",
    "|----------------------|------------|\n",
    "| **freight_value**    | 0.293      |\n",
    "| **price**            | 0.292      |\n",
    "| **product_weight_g** | 0.256      |\n",
    "| **profit_margin**    | 0.159      |\n",
    "\n",
    "---\n",
    "\n",
    "###  Key Insights\n",
    "- **freight_value (29.3%)** – Most influential feature for predicting delivery status.  \n",
    "- **price (29.2%)** – Almost equally important as freight value, showing strong influence on predictions.  \n",
    "- **product_weight_g (25.6%)** – Significant factor; heavier items may affect delivery timing.  \n",
    "- **profit_margin (15.9%)** – Least important but still contributes to model decisions.\n",
    "\n",
    "---\n",
    "\n",
    "###  Why This Matters?\n",
    "- This ranking helps identify **which factors most impact delivery delays**.  \n",
    "- Businesses can use this information to **optimize costs, manage shipments, and improve on-time performance**.\n",
    "---\n",
    "### **Business Insights**\n",
    "- **Late deliveries** are harder to predict (low recall), but cost-related features strongly influence outcomes.\n",
    "- Companies should monitor **freight charges and product pricing** closely to reduce late shipments.\n",
    "- Weight management and profit margin adjustments could also improve delivery performance.\n",
    "\n",
    "\n"
   ]
  }
 ],
 "metadata": {
  "kernelspec": {
   "display_name": "Python 3",
   "language": "python",
   "name": "python3"
  },
  "language_info": {
   "codemirror_mode": {
    "name": "ipython",
    "version": 3
   },
   "file_extension": ".py",
   "mimetype": "text/x-python",
   "name": "python",
   "nbconvert_exporter": "python",
   "pygments_lexer": "ipython3",
   "version": "3.12.10"
  }
 },
 "nbformat": 4,
 "nbformat_minor": 5
}
